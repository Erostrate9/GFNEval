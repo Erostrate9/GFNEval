{
  "nbformat": 4,
  "nbformat_minor": 0,
  "metadata": {
    "colab": {
      "provenance": []
    },
    "kernelspec": {
      "name": "python3",
      "display_name": "Python 3"
    },
    "language_info": {
      "name": "python"
    }
  },
  "cells": [
    {
      "cell_type": "code",
      "execution_count": 2,
      "metadata": {
        "colab": {
          "base_uri": "https://localhost:8080/"
        },
        "id": "Pp2cuzHsIAzn",
        "outputId": "3a05b88b-03c3-44da-8633-3ae7f4d28478"
      },
      "outputs": [
        {
          "output_type": "stream",
          "name": "stdout",
          "text": [
            "Collecting git+https://github.com/GFNOrg/torchgfn.git\n",
            "  Cloning https://github.com/GFNOrg/torchgfn.git to /tmp/pip-req-build-qiqqw6dl\n",
            "  Running command git clone --filter=blob:none --quiet https://github.com/GFNOrg/torchgfn.git /tmp/pip-req-build-qiqqw6dl\n",
            "  Resolved https://github.com/GFNOrg/torchgfn.git to commit 6f132a869902584c06b7f8054e76dda696d78c94\n",
            "  Installing build dependencies ... \u001b[?25l\u001b[?25hdone\n",
            "  Getting requirements to build wheel ... \u001b[?25l\u001b[?25hdone\n",
            "  Preparing metadata (pyproject.toml) ... \u001b[?25l\u001b[?25hdone\n",
            "Building wheels for collected packages: torchgfn\n",
            "  Building wheel for torchgfn (pyproject.toml) ... \u001b[?25l\u001b[?25hdone\n",
            "  Created wheel for torchgfn: filename=torchgfn-1.1.1-py3-none-any.whl size=76301 sha256=4b73bdf29bf87b9618bb1f34602c8c9f28fa6e5c1c03f282dfa43aae90841036\n",
            "  Stored in directory: /tmp/pip-ephem-wheel-cache-yxn4av_f/wheels/a5/81/2c/dc48ab4e10a8e2b5bbdc8f4311c543508b3b58e4d4b6a0e1df\n",
            "Successfully built torchgfn\n",
            "Installing collected packages: torchgfn\n",
            "Successfully installed torchgfn-1.1.1\n"
          ]
        }
      ],
      "source": [
        "!find . -name \"*.pyc\" -delete\n",
        "!find . -name \"__pycache__\" -delete\n",
        "!pip install --no-deps git+https://github.com/GFNOrg/torchgfn.git"
      ]
    },
    {
      "cell_type": "code",
      "source": [
        "import torch\n",
        "from tqdm import tqdm\n",
        "\n",
        "from gfn.gflownet import TBGFlowNet\n",
        "from gfn.gym import HyperGrid  # We use the hyper grid environment\n",
        "from gfn.modules import DiscretePolicyEstimator\n",
        "from gfn.samplers import Sampler\n",
        "from gfn.utils.modules import MLP  # is a simple multi-layer perceptron (MLP)\n",
        "from gfn.containers import Trajectories\n",
        "from gfn.states import States"
      ],
      "metadata": {
        "id": "cZJKdInxIbVB"
      },
      "execution_count": 3,
      "outputs": []
    },
    {
      "cell_type": "markdown",
      "source": [
        "This modified hypergrid environment is parametrized by $n$ normal distributions $\\{\\mathbb{N}(⋅|\\mu_i, Σ_i)\\}_{i=1}^n$. Each sample $x$ has probability density\n",
        "$$p(x)=\\frac{\\sum_{i=1}^n\\mathbb{N}(x|\\mu_i, Σ_i)}{n}$$"
      ],
      "metadata": {
        "id": "1dKLoE3tXBiz"
      }
    },
    {
      "cell_type": "code",
      "source": [
        "\"\"\"\n",
        "Customized Hypergrid environment that is easy to sample from\n",
        "by Yue Zhang, Nov 18, 2024\n",
        "\"\"\"\n",
        "import torch\n",
        "\n",
        "from typing import Literal, Tuple\n",
        "\n",
        "\n",
        "from einops import rearrange\n",
        "\n",
        "from gfn.containers import Trajectories\n",
        "from gfn.actions import Actions\n",
        "from gfn.states import States\n",
        "from gfn.env import DiscreteEnv\n",
        "from gfn.gym.helpers.preprocessors import KHotPreprocessor, OneHotPreprocessor\n",
        "from gfn.preprocessors import EnumPreprocessor, IdentityPreprocessor\n",
        "from gfn.states import DiscreteStates\n",
        "\n",
        "\n",
        "class HyperGrid2(DiscreteEnv):\n",
        "    def __init__(\n",
        "        self,\n",
        "        ndim: int = 2,\n",
        "        height: int = 4,\n",
        "        seed: int = 1953,\n",
        "        ncenters: int = 5,\n",
        "        centers: torch.tensor or None = None,\n",
        "        device_str: Literal[\"cpu\", \"cuda\"] = \"cpu\",\n",
        "        preprocessor_name: Literal[\"KHot\", \"OneHot\", \"Identity\", \"Enum\"] = \"KHot\",\n",
        "    ):\n",
        "        \"\"\"HyperGrid environment from the GFlowNets paper.\n",
        "        The states are represented as 1-d tensors of length `ndim` with values in\n",
        "        {0, 1, ..., height - 1}.\n",
        "        A preprocessor transforms the states to the input of the neural network,\n",
        "        which can be a one-hot, a K-hot, or an identity encoding.\n",
        "\n",
        "        Args:\n",
        "            ndim (int, optional): dimension of the grid. Defaults to 2.\n",
        "            height (int, optional): height of the grid. Defaults to 4.\n",
        "            seed: seed used to initialize the centers of normal distribution\n",
        "            ncenters: the number of centers\n",
        "            reward_cos (bool, optional): Which version of the reward to use. Defaults to False.\n",
        "            device_str (str, optional): \"cpu\" or \"cuda\". Defaults to \"cpu\".\n",
        "            preprocessor_name (str, optional): \"KHot\" or \"OneHot\" or \"Identity\". Defaults to \"KHot\".\n",
        "        \"\"\"\n",
        "        self.ndim = ndim\n",
        "        self.height = height\n",
        "        self.seed = seed\n",
        "        self.ncenters = ncenters\n",
        "\n",
        "        s0 = torch.zeros(ndim, dtype=torch.long, device=torch.device(device_str))\n",
        "        sf = torch.full(\n",
        "            (ndim,), fill_value=-1, dtype=torch.long, device=torch.device(device_str)\n",
        "        )\n",
        "        n_actions = ndim + 1\n",
        "\n",
        "        if preprocessor_name == \"Identity\":\n",
        "            preprocessor = IdentityPreprocessor(output_dim=ndim)\n",
        "        elif preprocessor_name == \"KHot\":\n",
        "            preprocessor = KHotPreprocessor(height=height, ndim=ndim)\n",
        "        elif preprocessor_name == \"OneHot\":\n",
        "            preprocessor = OneHotPreprocessor(\n",
        "                n_states=self.n_states,\n",
        "                get_states_indices=self.get_states_indices,\n",
        "            )\n",
        "        elif preprocessor_name == \"Enum\":\n",
        "            preprocessor = EnumPreprocessor(\n",
        "                get_states_indices=self.get_states_indices,\n",
        "            )\n",
        "        else:\n",
        "            raise ValueError(f\"Unknown preprocessor {preprocessor_name}\")\n",
        "\n",
        "        state_shape = (self.ndim,)\n",
        "\n",
        "        if centers is not None:\n",
        "            self.centers = centers\n",
        "        else:\n",
        "            # initialize weight centers\n",
        "            torch.manual_seed(self.seed)\n",
        "            self.centers = 0.8 * self.height * torch.rand((self.ncenters, self.ndim)) + 0.1 * self.height\n",
        "        # self.mvns = torch.distributions.MultivariateNormal()\n",
        "        # generate an identity matrix\n",
        "        self.covariances = torch.stack([torch.rand(1) * self.height / 2 * torch.eye(self.ndim) for _ in range(self.ncenters)])\n",
        "        self.mvn_batch = torch.distributions.MultivariateNormal(self.centers, self.covariances)\n",
        "\n",
        "        # # For debugging\n",
        "        # print(self.centers)\n",
        "        # print(self.mvn_batch.covariance_matrix)\n",
        "\n",
        "        # t = torch.tensor([[[1, 0], [50, 50]], [[1, 0], [50, 50]]])\n",
        "        # print(t)\n",
        "        # mvn_batch = self.mvn_batch\n",
        "        # log_prob = list(map(mvn_batch.log_prob, t))\n",
        "        # prob = list(map(torch.exp, log_prob))\n",
        "        # prob_sum = torch.tensor([p.sum(0) for p in prob])\n",
        "\n",
        "        # print(log_prob)\n",
        "        # # print(torch.exp(log_prob))\n",
        "        # print(prob)\n",
        "        # print(prob_sum)\n",
        "\n",
        "        super().__init__(\n",
        "            n_actions=n_actions,\n",
        "            s0=s0,\n",
        "            state_shape=state_shape,\n",
        "            sf=sf,\n",
        "            device_str=device_str,\n",
        "            preprocessor=preprocessor,\n",
        "        )\n",
        "\n",
        "    def update_masks(self, states: type[DiscreteStates]) -> None:\n",
        "        \"\"\"Update the masks based on the current states.\"\"\"\n",
        "        # Not allowed to take any action beyond the environment height, but\n",
        "        # allow early termination.\n",
        "        states.set_nonexit_action_masks(\n",
        "            states.tensor == self.height - 1,\n",
        "            allow_exit=True,\n",
        "        )\n",
        "        states.backward_masks = states.tensor != 0\n",
        "\n",
        "    def make_random_states_tensor(self, batch_shape: Tuple[int, ...]) -> torch.Tensor:\n",
        "        \"\"\"Creates a batch of random states.\n",
        "\n",
        "        Args:\n",
        "            batch_shape: Tuple indicating the shape of the batch.\n",
        "\n",
        "        Returns the batch of random states as tensor of shape (*batch_shape, *state_shape).\n",
        "        \"\"\"\n",
        "        return torch.randint(\n",
        "            0, self.height, batch_shape + self.s0.shape, device=self.device\n",
        "        )\n",
        "\n",
        "    def step(self, states: DiscreteStates, actions: Actions) -> torch.Tensor:\n",
        "        \"\"\"Take a step in the environment.\n",
        "\n",
        "        Args:\n",
        "            states: The current states.\n",
        "            actions: The actions to take.\n",
        "\n",
        "        Returns the new states after taking the actions as a tensor of shape (*batch_shape, *state_shape).\n",
        "        \"\"\"\n",
        "        new_states_tensor = states.tensor.scatter(-1, actions.tensor, 1, reduce=\"add\")\n",
        "        assert new_states_tensor.shape == states.tensor.shape\n",
        "        return new_states_tensor\n",
        "\n",
        "    def backward_step(self, states: DiscreteStates, actions: Actions) -> torch.Tensor:\n",
        "        \"\"\"Take a step in the environment in the backward direction.\n",
        "\n",
        "        Args:\n",
        "            states: The current states.\n",
        "            actions: The actions to take.\n",
        "\n",
        "        Returns the new states after taking the actions as a tensor of shape (*batch_shape, *state_shape).\n",
        "        \"\"\"\n",
        "        new_states_tensor = states.tensor.scatter(-1, actions.tensor, -1, reduce=\"add\")\n",
        "        assert new_states_tensor.shape == states.tensor.shape\n",
        "        return new_states_tensor\n",
        "\n",
        "    def reward(self, final_states: DiscreteStates) -> torch.Tensor:\n",
        "        r\"\"\"In the normal setting, the reward is:\n",
        "\n",
        "        Args:\n",
        "            final_states: The final states.\n",
        "\n",
        "        Returns the reward as a tensor of shape `batch_shape`.\n",
        "        \"\"\"\n",
        "        final_states_raw = final_states.tensor\n",
        "        final_states_shape = final_states_raw.shape\n",
        "        mvn_batch = self.mvn_batch\n",
        "\n",
        "        reward = torch.tensor([torch.exp(mvn_batch.log_prob(x)).sum(0) for x in final_states_raw.flatten(end_dim=-2)]).clamp_(min=1e-30, max=10)\n",
        "        reward = reward.reshape(final_states_shape[:-1])\n",
        "\n",
        "        assert reward.shape == final_states.batch_shape, \\\n",
        "                f'Two shapes do not match: reward.shape={reward.shape},  final_states.batch_shape={final_states.batch_shape}.\\n \\\n",
        "                reward={reward}, final_states_raw={final_states_raw}'\n",
        "        return reward\n",
        "\n",
        "    def get_states_indices(self, states: DiscreteStates) -> torch.Tensor:\n",
        "        \"\"\"Get the indices of the states in the canonical ordering.\n",
        "\n",
        "        Args:\n",
        "            states: The states to get the indices of.\n",
        "\n",
        "        Returns the indices of the states in the canonical ordering as a tensor of shape `batch_shape`.\n",
        "        \"\"\"\n",
        "        states_raw = states.tensor\n",
        "\n",
        "        canonical_base = self.height ** torch.arange(\n",
        "            self.ndim - 1, -1, -1, device=states_raw.device\n",
        "        )\n",
        "        indices = (canonical_base * states_raw).sum(-1).long()\n",
        "        assert indices.shape == states.batch_shape\n",
        "        return indices\n",
        "\n",
        "    def get_terminating_states_indices(self, states: DiscreteStates) -> torch.Tensor:\n",
        "        \"\"\"Get the indices of the terminating states in the canonical ordering.\n",
        "\n",
        "        Returns the indices of the terminating states in the canonical ordering as a tensor of shape `batch_shape`.\n",
        "        \"\"\"\n",
        "        return self.get_states_indices(states)\n",
        "\n",
        "    @property\n",
        "    def n_states(self) -> int:\n",
        "        return self.height**self.ndim\n",
        "\n",
        "    @property\n",
        "    def n_terminating_states(self) -> int:\n",
        "        return self.n_states\n",
        "\n",
        "    @property\n",
        "    def true_dist_pmf(self) -> torch.Tensor:\n",
        "        all_states = self.all_states\n",
        "        assert torch.all(\n",
        "            self.get_states_indices(all_states)\n",
        "            == torch.arange(self.n_states, device=self.device)\n",
        "        )\n",
        "        true_dist = self.reward(all_states)\n",
        "        true_dist /= true_dist.sum()\n",
        "        return true_dist\n",
        "\n",
        "    @property\n",
        "    def log_partition(self) -> float:\n",
        "        grid = self.build_grid()\n",
        "        rewards = self.reward(grid)\n",
        "        return rewards.sum().log().item()\n",
        "\n",
        "    def build_grid(self) -> DiscreteStates:\n",
        "        \"Utility function to build the complete grid\"\n",
        "        H = self.height\n",
        "        ndim = self.ndim\n",
        "        grid_shape = (H,) * ndim + (ndim,)  # (H, ..., H, ndim)\n",
        "        grid = torch.zeros(grid_shape, device=self.device)\n",
        "        for i in range(ndim):\n",
        "            grid_i = torch.linspace(start=0, end=H - 1, steps=H)\n",
        "            for _ in range(i):\n",
        "                grid_i = grid_i.unsqueeze(1)\n",
        "            grid[..., i] = grid_i\n",
        "\n",
        "        rearrange_string = \" \".join([f\"n{i}\" for i in range(1, ndim + 1)])\n",
        "        rearrange_string += \" ndim -> \"\n",
        "        rearrange_string += \" \".join([f\"n{i}\" for i in range(ndim, 0, -1)])\n",
        "        rearrange_string += \" ndim\"\n",
        "        grid = rearrange(grid, rearrange_string).long()\n",
        "        return self.States(grid)\n",
        "\n",
        "    @property\n",
        "    def all_states(self) -> DiscreteStates:\n",
        "        grid = self.build_grid()\n",
        "        flat_grid = rearrange(grid.tensor, \"... ndim -> (...) ndim\")\n",
        "        return self.States(flat_grid)\n",
        "\n",
        "    @property\n",
        "    def terminating_states(self) -> DiscreteStates:\n",
        "        return self.all_states\n",
        "\n",
        "    # def sample_states_from_distribution(self, nsamples) -> DiscreteStates:\n",
        "    #     states = []\n",
        "    #     for _ in range(nsamples):\n",
        "    #         randIndex = torch.randint(low=0, high=self.ncenters, size=(1,), device=self.device)\n",
        "    #         state = self.mvn_batch.sample()[randIndex].clamp_(min=0, max=self.height).round()\n",
        "    #         states.append(state)\n",
        "\n",
        "    #     return self.States(torch.stack(states))\n",
        "\n",
        "    def sample_states_from_distribution(self, nsamples) -> DiscreteStates:\n",
        "        # Generate random indices for centers in one operation\n",
        "        rand_indices = torch.randint(\n",
        "            low=0, high=self.ncenters, size=(nsamples,), device=self.device\n",
        "        )\n",
        "\n",
        "        # Sample from the multivariate normal distribution for all indices\n",
        "        sampled_states = self.mvn_batch.sample((nsamples,))\n",
        "\n",
        "        # Gather states using the random indices and process them\n",
        "        states = (\n",
        "            sampled_states[torch.arange(nsamples), rand_indices]\n",
        "            .clamp_(min=0, max=self.height)\n",
        "            .round()\n",
        "        )\n",
        "\n",
        "        # Return the sampled states\n",
        "        return self.States(states)\n",
        "\n",
        "    def gen_heatmap(self) -> None:\n",
        "        assert self.ndim == 2\n",
        "        grid = self.build_grid()\n",
        "        rewards = self.reward(grid)\n",
        "        import matplotlib.pyplot as plt\n",
        "        plt.imshow(rewards, cmap='viridis', interpolation='nearest')\n",
        "        plt.gca().invert_yaxis()\n",
        "        plt.colorbar()  # Add a color bar to show the scale\n",
        "        plt.title(\"Heatmap\")\n",
        "        plt.show()\n",
        "\n",
        "    def plot_samples(self, samples : DiscreteStates) -> None:\n",
        "        assert self.ndim == 2\n",
        "        import numpy as np\n",
        "        import matplotlib.pyplot as plt\n",
        "        x = samples.tensor[:,1]\n",
        "        y = samples.tensor[:,0]\n",
        "        heatmap, _, _ = np.histogram2d(x=x, y=y, bins=self.height, range=[[0, self.height-1], [0, self.height-1]])\n",
        "\n",
        "        # Plot the heatmap\n",
        "        plt.imshow(heatmap.T, origin='lower', aspect='auto', cmap='viridis', interpolation='nearest')\n",
        "        plt.colorbar(label='Frequency')  # Color bar to indicate the frequency values\n",
        "        plt.title(\"Heatmap of Sample Frequency\")\n",
        "        plt.show()\n",
        "\n",
        "def get_final_states(trajectories: Trajectories, env) -> DiscreteStates:\n",
        "    # Extract the penultimate states for all trajectories\n",
        "    final_states = torch.stack([traj.states[-2].tensor for traj in trajectories]).squeeze(1)\n",
        "\n",
        "    # Return as DiscreteStates object\n",
        "    return env.States(final_states)"
      ],
      "metadata": {
        "id": "bpZTrql3WV50"
      },
      "execution_count": 4,
      "outputs": []
    },
    {
      "cell_type": "markdown",
      "source": [
        "KL divergence calculator"
      ],
      "metadata": {
        "id": "WAy2fPd1aLhI"
      }
    },
    {
      "cell_type": "code",
      "source": [
        "import torch\n",
        "from torch import Tensor\n",
        "from torch import nn\n",
        "from torch import optim\n",
        "\n",
        "# Simple learnable function to approximate KL-divergence\n",
        "class PhiFunction(nn.Module):\n",
        "    def __init__(self, input_size, layer_size) -> None:\n",
        "        super(PhiFunction, self).__init__()\n",
        "        self.linear1 = nn.Linear(input_size, layer_size)\n",
        "        self.relu = nn.ReLU()\n",
        "        self.linear2 = nn.Linear(layer_size, 1)\n",
        "\n",
        "    def forward(self, x):\n",
        "        # x = x.view(-1)\n",
        "        x = self.relu(self.linear1(x))\n",
        "        return self.linear2(x)\n",
        "\n",
        "def calc_KL_using_model(model, samples_p, samples_q, no_grad=False):\n",
        "    # Compute f(x) for samples from P and Q\n",
        "    if no_grad:\n",
        "        with torch.no_grad():\n",
        "            f_p = model(samples_p)  # Output shape: [batch_size, 1]\n",
        "            f_q = model(samples_q)  # Output shape: [batch_size, 1]\n",
        "    else:\n",
        "        f_p = model(samples_p)  # Output shape: [batch_size, 1]\n",
        "        f_q = model(samples_q)  # Output shape: [batch_size, 1]\n",
        "\n",
        "    # Compute the terms of the formula\n",
        "    term_p = torch.mean(f_p)  # Expectation over P: E_P[f]\n",
        "    term_q = torch.log(torch.mean(torch.exp(torch.clamp(f_q, max=600, min=-600))))  # Log of expectation over Q: log(E_Q[e^f])\n",
        "\n",
        "    # KL divergence\n",
        "    kl_div = term_p - term_q\n",
        "    return kl_div\n",
        "\n",
        "def compute_KL(p_star_sample : Tensor, p_hat_sample : Tensor,\n",
        "                layer_size=128, num_epochs=200, lr=0.001):\n",
        "    # Ensure both samples have the same shape\n",
        "    assert p_star_sample[0].shape == p_hat_sample[0].shape\n",
        "    input_size = p_star_sample[0].numel()\n",
        "    # print(input_size)\n",
        "    # The function to learn\n",
        "    phi = PhiFunction(input_size=input_size, layer_size=layer_size)\n",
        "    optimizer = optim.Adam(phi.parameters(), lr=lr)\n",
        "    # Learn the model\n",
        "    for epoch in range(num_epochs):\n",
        "        # Compute KL divergence\n",
        "        kl_div = calc_KL_using_model(phi, p_star_sample, p_hat_sample)\n",
        "\n",
        "        # The loss is the negation of the KL-divergence\n",
        "        loss = -kl_div\n",
        "\n",
        "        # Optimization step\n",
        "        optimizer.zero_grad()\n",
        "        loss.backward()\n",
        "        optimizer.step()\n",
        "\n",
        "        if (epoch + 1) % 100 == 0:\n",
        "            print(f\"Epoch {epoch + 1}/{num_epochs}, KL Divergence Estimate: {kl_div:.4f}\")\n",
        "\n",
        "    return kl_div, phi"
      ],
      "metadata": {
        "id": "TRDAlJIjLijx"
      },
      "execution_count": 5,
      "outputs": []
    },
    {
      "cell_type": "code",
      "source": [
        "# centers = torch.tensor([\n",
        "#     [1.0, 1.0],\n",
        "#     [1.0, 6.0],\n",
        "#     [5.0, 6.0]\n",
        "#     ])"
      ],
      "metadata": {
        "id": "-aRTflhdjymT"
      },
      "execution_count": null,
      "outputs": []
    },
    {
      "cell_type": "code",
      "source": [
        "# 1 - We define the environment.\n",
        "env = HyperGrid2(ndim=2, height=100, ncenters=8, seed=1926)"
      ],
      "metadata": {
        "id": "980LFeeqJOrk"
      },
      "execution_count": 6,
      "outputs": []
    },
    {
      "cell_type": "code",
      "source": [
        "env.gen_heatmap()"
      ],
      "metadata": {
        "id": "s5Nf9jAVUzQ8",
        "colab": {
          "base_uri": "https://localhost:8080/",
          "height": 452
        },
        "outputId": "2794f188-8261-45d3-ac1a-d85509f2f6c9"
      },
      "execution_count": 7,
      "outputs": [
        {
          "output_type": "display_data",
          "data": {
            "text/plain": [
              "<Figure size 640x480 with 2 Axes>"
            ],
            "image/png": "[encoded data removed]"
          },
          "metadata": {}
        }
      ]
    },
    {
      "cell_type": "code",
      "source": [
        "# 2 - We define the needed modules (neural networks).\n",
        "# The environment has a preprocessor attribute, which is used to preprocess the state before feeding it to the policy estimator\n",
        "module_PF = MLP(\n",
        "    input_dim=env.preprocessor.output_dim,\n",
        "    output_dim=env.n_actions\n",
        ")  # Neural network for the forward policy, with as many outputs as there are actions\n",
        "module_PB = MLP(\n",
        "    input_dim=env.preprocessor.output_dim,\n",
        "    output_dim=env.n_actions - 1,\n",
        "    trunk=module_PF.trunk  # We share all the parameters of P_F and P_B, except for the last layer\n",
        ")\n",
        "# 3 - We define the estimators.\n",
        "pf_estimator = DiscretePolicyEstimator(module_PF, env.n_actions, is_backward=False, preprocessor=env.preprocessor)\n",
        "pb_estimator = DiscretePolicyEstimator(module_PB, env.n_actions, is_backward=True, preprocessor=env.preprocessor)\n",
        "# 4 - We define the GFlowNet.\n",
        "gfn = TBGFlowNet(logZ=0., pf=pf_estimator, pb=pb_estimator)  # We initialize logZ to 0\n",
        "# 5 - We define the sampler and the optimizer.\n",
        "sampler = Sampler(estimator=pf_estimator)  # We use an on-policy sampler, based on the forward policy\n",
        "# Different policy parameters can have their own LR.\n",
        "# Log Z gets dedicated learning rate (typically higher).\n",
        "optimizer = torch.optim.Adam(gfn.pf_pb_parameters(), lr=1e-3)\n",
        "optimizer.add_param_group({\"params\": gfn.logz_parameters(), \"lr\": 1e-1})"
      ],
      "metadata": {
        "id": "OKB8_Nw7KAPM"
      },
      "execution_count": null,
      "outputs": []
    },
    {
      "cell_type": "code",
      "source": [
        "# 6 - We train the GFlowNet for 1000 iterations, with 16 trajectories per iteration\n",
        "for i in (pbar := tqdm(range(1000))):\n",
        "    trajectories = sampler.sample_trajectories(env=env, n=16)\n",
        "    optimizer.zero_grad()\n",
        "    loss = gfn.loss(env, trajectories)\n",
        "    loss.backward()\n",
        "    optimizer.step()\n",
        "    if i % 25 == 0:\n",
        "        pbar.set_postfix({\"loss\": loss.item()})"
      ],
      "metadata": {
        "colab": {
          "base_uri": "https://localhost:8080/"
        },
        "id": "dWRQ1aRqOUHo",
        "outputId": "5ab95fe0-5fcf-45fc-c6f4-6a07dcc5adf7"
      },
      "execution_count": null,
      "outputs": [
        {
          "output_type": "stream",
          "name": "stderr",
          "text": [
            "100%|██████████| 1000/1000 [03:38<00:00,  4.58it/s, loss=1.02]\n"
          ]
        }
      ]
    },
    {
      "cell_type": "code",
      "source": [
        "trajectories = sampler.sample_trajectories(env=env, n=10000)"
      ],
      "metadata": {
        "id": "YT5-_s2EPJwJ"
      },
      "execution_count": null,
      "outputs": []
    },
    {
      "cell_type": "code",
      "source": [
        "final_states = get_final_states(trajectories, env)"
      ],
      "metadata": {
        "id": "0uK93FRfQVoD"
      },
      "execution_count": null,
      "outputs": []
    },
    {
      "cell_type": "code",
      "source": [
        "samples_true_distribution = env.sample_states_from_distribution(10000)"
      ],
      "metadata": {
        "id": "2XK3K4pFQuEj"
      },
      "execution_count": null,
      "outputs": []
    },
    {
      "cell_type": "code",
      "source": [
        "env.plot_samples(final_states)"
      ],
      "metadata": {
        "colab": {
          "base_uri": "https://localhost:8080/",
          "height": 269
        },
        "id": "kNkzVxCRc_eW",
        "outputId": "fc2c426f-e01a-4ac3-866a-9c717244d6b2"
      },
      "execution_count": null,
      "outputs": [
        {
          "output_type": "error",
          "ename": "AssertionError",
          "evalue": "",
          "traceback": [
            "\u001b[0;31m---------------------------------------------------------------------------\u001b[0m",
            "\u001b[0;31mAssertionError\u001b[0m                            Traceback (most recent call last)",
            "\u001b[0;32m<ipython-input-780-52ac2ae20c8c>\u001b[0m in \u001b[0;36m<cell line: 1>\u001b[0;34m()\u001b[0m\n\u001b[0;32m----> 1\u001b[0;31m \u001b[0menv\u001b[0m\u001b[0;34m.\u001b[0m\u001b[0mplot_samples\u001b[0m\u001b[0;34m(\u001b[0m\u001b[0mfinal_states\u001b[0m\u001b[0;34m)\u001b[0m\u001b[0;34m\u001b[0m\u001b[0;34m\u001b[0m\u001b[0m\n\u001b[0m",
            "\u001b[0;32m<ipython-input-689-fd54e4047569>\u001b[0m in \u001b[0;36mplot_samples\u001b[0;34m(self, samples)\u001b[0m\n\u001b[1;32m    296\u001b[0m \u001b[0;34m\u001b[0m\u001b[0m\n\u001b[1;32m    297\u001b[0m     \u001b[0;32mdef\u001b[0m \u001b[0mplot_samples\u001b[0m\u001b[0;34m(\u001b[0m\u001b[0mself\u001b[0m\u001b[0;34m,\u001b[0m \u001b[0msamples\u001b[0m \u001b[0;34m:\u001b[0m \u001b[0mDiscreteStates\u001b[0m\u001b[0;34m)\u001b[0m \u001b[0;34m->\u001b[0m \u001b[0;32mNone\u001b[0m\u001b[0;34m:\u001b[0m\u001b[0;34m\u001b[0m\u001b[0;34m\u001b[0m\u001b[0m\n\u001b[0;32m--> 298\u001b[0;31m         \u001b[0;32massert\u001b[0m \u001b[0mself\u001b[0m\u001b[0;34m.\u001b[0m\u001b[0mndim\u001b[0m \u001b[0;34m==\u001b[0m \u001b[0;36m2\u001b[0m\u001b[0;34m\u001b[0m\u001b[0;34m\u001b[0m\u001b[0m\n\u001b[0m\u001b[1;32m    299\u001b[0m         \u001b[0;32mimport\u001b[0m \u001b[0mnumpy\u001b[0m \u001b[0;32mas\u001b[0m \u001b[0mnp\u001b[0m\u001b[0;34m\u001b[0m\u001b[0;34m\u001b[0m\u001b[0m\n\u001b[1;32m    300\u001b[0m         \u001b[0;32mimport\u001b[0m \u001b[0mmatplotlib\u001b[0m\u001b[0;34m.\u001b[0m\u001b[0mpyplot\u001b[0m \u001b[0;32mas\u001b[0m \u001b[0mplt\u001b[0m\u001b[0;34m\u001b[0m\u001b[0;34m\u001b[0m\u001b[0m\n",
            "\u001b[0;31mAssertionError\u001b[0m: "
          ]
        }
      ]
    },
    {
      "cell_type": "code",
      "source": [
        "env.gen_heatmap()"
      ],
      "metadata": {
        "colab": {
          "base_uri": "https://localhost:8080/",
          "height": 452
        },
        "id": "qFKpAOrYfOdr",
        "outputId": "bacb5922-00d3-4292-8f6e-21c5df8d32ac"
      },
      "execution_count": null,
      "outputs": [
        {
          "output_type": "display_data",
          "data": {
            "text/plain": [
              "<Figure size 640x480 with 2 Axes>"
            ],
            "image/png": "[encoded data removed]"
          },
          "metadata": {}
        }
      ]
    },
    {
      "cell_type": "markdown",
      "source": [
        "Calculating KL Divergence"
      ],
      "metadata": {
        "id": "ZPqTI3L7J7SK"
      }
    },
    {
      "cell_type": "code",
      "source": [
        "kl1, phi1 = compute_KL(samples_true_distribution.tensor.float(), final_states.tensor.float())"
      ],
      "metadata": {
        "colab": {
          "base_uri": "https://localhost:8080/"
        },
        "id": "gBWAyyf2y6Zg",
        "outputId": "c7ea05d4-95b5-4f97-8fbe-d0dfbf487a43"
      },
      "execution_count": null,
      "outputs": [
        {
          "output_type": "stream",
          "name": "stdout",
          "text": [
            "Epoch 100/200, KL Divergence Estimate: 2.4930\n",
            "Epoch 200/200, KL Divergence Estimate: 4.1264\n"
          ]
        }
      ]
    },
    {
      "cell_type": "code",
      "source": [
        "kl2, phi2 = compute_KL(final_states.tensor.float(), samples_true_distribution.tensor.float())"
      ],
      "metadata": {
        "colab": {
          "base_uri": "https://localhost:8080/"
        },
        "id": "3sJVq8RcRCA3",
        "outputId": "d948c38f-b5d7-45b2-ee84-6383e564a7c3"
      },
      "execution_count": null,
      "outputs": [
        {
          "output_type": "stream",
          "name": "stdout",
          "text": [
            "Epoch 100/200, KL Divergence Estimate: 1.4078\n",
            "Epoch 200/200, KL Divergence Estimate: 1.6018\n"
          ]
        }
      ]
    },
    {
      "cell_type": "markdown",
      "source": [
        "Check if there is overfitting"
      ],
      "metadata": {
        "id": "ejmdAN7lW3GD"
      }
    },
    {
      "cell_type": "code",
      "source": [
        "calc_KL_using_model(phi1, env.sample_states_from_distribution(10000).tensor.float(), final_states.tensor.float(), no_grad=True)"
      ],
      "metadata": {
        "colab": {
          "base_uri": "https://localhost:8080/"
        },
        "id": "boQJ0uBMO25b",
        "outputId": "778c7552-7823-4061-b48b-fc8a5350526b"
      },
      "execution_count": null,
      "outputs": [
        {
          "output_type": "execute_result",
          "data": {
            "text/plain": [
              "tensor(4.0458)"
            ]
          },
          "metadata": {},
          "execution_count": 779
        }
      ]
    },
    {
      "cell_type": "code",
      "source": [
        "kl, _ = compute_KL(env.sample_states_from_distribution(10000).tensor.float(), env.sample_states_from_distribution(10000).tensor.float())"
      ],
      "metadata": {
        "colab": {
          "base_uri": "https://localhost:8080/"
        },
        "id": "2-2KutzY2es5",
        "outputId": "aba1f3bc-1536-4a9b-f289-a5d999865606"
      },
      "execution_count": null,
      "outputs": [
        {
          "output_type": "stream",
          "name": "stdout",
          "text": [
            "Epoch 100/200, KL Divergence Estimate: 0.0021\n",
            "Epoch 200/200, KL Divergence Estimate: 0.0030\n"
          ]
        }
      ]
    }
  ]
}