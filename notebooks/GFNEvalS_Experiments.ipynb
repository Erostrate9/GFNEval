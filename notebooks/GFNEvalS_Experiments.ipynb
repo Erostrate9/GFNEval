{
 "cells": [
  {
   "cell_type": "code",
   "execution_count": 1,
   "metadata": {},
   "outputs": [
    {
     "name": "stdout",
     "output_type": "stream",
     "text": [
      "Processing /Users/erostrate9/Desktop/CSI5340 DL/Project/code/GFNEval/torchgfn\n",
      "  Installing build dependencies: started\n",
      "  Installing build dependencies: finished with status 'done'\n",
      "  Getting requirements to build wheel: started\n",
      "  Getting requirements to build wheel: finished with status 'done'\n",
      "  Preparing metadata (pyproject.toml): started\n",
      "  Preparing metadata (pyproject.toml): finished with status 'done'\n",
      "Requirement already satisfied: einops>=0.6.1 in /Users/erostrate9/miniconda3/envs/gfn/lib/python3.10/site-packages (from torchgfn==1.1.1) (0.8.0)\n",
      "Requirement already satisfied: numpy>=1.21.2 in /Users/erostrate9/miniconda3/envs/gfn/lib/python3.10/site-packages (from torchgfn==1.1.1) (2.1.3)\n",
      "Requirement already satisfied: torch>=1.9.0 in /Users/erostrate9/miniconda3/envs/gfn/lib/python3.10/site-packages (from torchgfn==1.1.1) (2.5.1)\n",
      "Requirement already satisfied: filelock in /Users/erostrate9/miniconda3/envs/gfn/lib/python3.10/site-packages (from torch>=1.9.0->torchgfn==1.1.1) (3.16.1)\n",
      "Requirement already satisfied: typing-extensions>=4.8.0 in /Users/erostrate9/miniconda3/envs/gfn/lib/python3.10/site-packages (from torch>=1.9.0->torchgfn==1.1.1) (4.12.2)\n",
      "Requirement already satisfied: networkx in /Users/erostrate9/miniconda3/envs/gfn/lib/python3.10/site-packages (from torch>=1.9.0->torchgfn==1.1.1) (3.4.2)\n",
      "Requirement already satisfied: jinja2 in /Users/erostrate9/miniconda3/envs/gfn/lib/python3.10/site-packages (from torch>=1.9.0->torchgfn==1.1.1) (3.1.4)\n",
      "Requirement already satisfied: fsspec in /Users/erostrate9/miniconda3/envs/gfn/lib/python3.10/site-packages (from torch>=1.9.0->torchgfn==1.1.1) (2024.10.0)\n",
      "Requirement already satisfied: sympy==1.13.1 in /Users/erostrate9/miniconda3/envs/gfn/lib/python3.10/site-packages (from torch>=1.9.0->torchgfn==1.1.1) (1.13.1)\n",
      "Requirement already satisfied: mpmath<1.4,>=1.1.0 in /Users/erostrate9/miniconda3/envs/gfn/lib/python3.10/site-packages (from sympy==1.13.1->torch>=1.9.0->torchgfn==1.1.1) (1.3.0)\n",
      "Requirement already satisfied: MarkupSafe>=2.0 in /Users/erostrate9/miniconda3/envs/gfn/lib/python3.10/site-packages (from jinja2->torch>=1.9.0->torchgfn==1.1.1) (3.0.2)\n",
      "Building wheels for collected packages: torchgfn\n",
      "  Building wheel for torchgfn (pyproject.toml): started\n",
      "  Building wheel for torchgfn (pyproject.toml): finished with status 'done'\n",
      "  Created wheel for torchgfn: filename=torchgfn-1.1.1-py3-none-any.whl size=82819 sha256=0f5154dc9daaf72191b9a400de50b33bc2fb28062c98aa813fca48a70274e129\n",
      "  Stored in directory: /private/var/folders/c_/9pzrss116732p7dxch3kn_bc0000gn/T/pip-ephem-wheel-cache-s6ns00hc/wheels/56/de/11/edbaf478c4bdb3bf4d2dadfda48c78d0790413f2f66eee7a21\n",
      "Successfully built torchgfn\n",
      "Installing collected packages: torchgfn\n",
      "  Attempting uninstall: torchgfn\n",
      "    Found existing installation: torchgfn 1.1.1\n",
      "    Uninstalling torchgfn-1.1.1:\n",
      "      Successfully uninstalled torchgfn-1.1.1\n",
      "Successfully installed torchgfn-1.1.1\n"
     ]
    }
   ],
   "source": [
    "%%bash\n",
    "cd ../torchgfn\n",
    "pip install ."
   ]
  },
  {
   "cell_type": "code",
   "execution_count": 1,
   "metadata": {},
   "outputs": [],
   "source": [
    "import torch\n",
    "import numpy as np\n",
    "from scipy.stats import spearmanr\n",
    "from tqdm import tqdm\n",
    "from gfn.env import DiscreteEnv\n",
    "from gfn.gflownet import GFlowNet, TBGFlowNet, SubTBGFlowNet, FMGFlowNet, DBGFlowNet\n",
    "from gfn.gym import HyperGrid2, HyperGrid\n",
    "from gfn.modules import DiscretePolicyEstimator\n",
    "from gfn.samplers import Sampler\n",
    "from gfn.utils.modules import MLP\n",
    "from gfn.states import States, DiscreteStates\n",
    "from gfn.utils.evaluation import get_random_test_set, get_sampled_test_set, evaluate_GFNEvalS, evaluate_GFNEvalS_with_monte_carlo"
   ]
  },
  {
   "cell_type": "markdown",
   "metadata": {},
   "source": [
    "# Demo"
   ]
  },
  {
   "cell_type": "code",
   "execution_count": 2,
   "metadata": {},
   "outputs": [
    {
     "name": "stderr",
     "output_type": "stream",
     "text": [
      "100%|██████████| 1000/1000 [00:12<00:00, 82.00it/s, loss=0.0298]\n"
     ]
    }
   ],
   "source": [
    "# 0 - Find Available GPU resource\n",
    "device = torch.device(\"cuda\" if torch.cuda.is_available() else \"cpu\")\n",
    "# print(f\"Using device: {device}\")\n",
    "\n",
    "# 1 - Define the environment\n",
    "# env = HyperGrid(ndim=4, height=8, R0=0.01)\n",
    "env = HyperGrid2(ndim=4, height=8, ncenters=4,\n",
    "                             seed=torch.randint(0, 10000, (1,)).item(),\n",
    "                             device_str='cpu')\n",
    "\n",
    "# 2 - Define the neural network modules\n",
    "module_PF = MLP(input_dim=env.preprocessor.output_dim, output_dim=env.n_actions)\n",
    "module_PB = MLP(input_dim=env.preprocessor.output_dim, output_dim=env.n_actions - 1, trunk=module_PF.trunk)\n",
    "\n",
    "# 3 - Define the estimators\n",
    "pf_estimator = DiscretePolicyEstimator(module_PF, env.n_actions, is_backward=False, preprocessor=env.preprocessor)\n",
    "pb_estimator = DiscretePolicyEstimator(module_PB, env.n_actions, is_backward=True, preprocessor=env.preprocessor)\n",
    "\n",
    "# 4 - Define the GFlowNet\n",
    "gfn = TBGFlowNet(logZ=0., pf=pf_estimator, pb=pb_estimator)\n",
    "\n",
    "# 5 - Define the sampler and optimizer\n",
    "sampler = Sampler(estimator=pf_estimator)\n",
    "optimizer = torch.optim.Adam(gfn.pf_pb_parameters(), lr=1e-3)\n",
    "optimizer.add_param_group({\"params\": gfn.logz_parameters(), \"lr\": 1e-1})\n",
    "\n",
    "# 6 - Train the GFlowNet\n",
    "for i in (pbar := tqdm(range(1000))):\n",
    "    trajectories = sampler.sample_trajectories(env=env, n=16)\n",
    "    optimizer.zero_grad()\n",
    "    loss = gfn.loss(env, trajectories).to(device)\n",
    "    loss.backward()\n",
    "    optimizer.step()\n",
    "    if i % 25 == 0:\n",
    "        pbar.set_postfix({\"loss\": loss.item()})"
   ]
  },
  {
   "cell_type": "code",
   "execution_count": 3,
   "metadata": {},
   "outputs": [],
   "source": [
    "n_tests = 100\n",
    "test_states_sample, test_rewards_sample =  get_sampled_test_set(gfn, env, n=n_tests)\n",
    "test_states_random, test_rewards_random =  get_random_test_set(env, n=n_tests)"
   ]
  },
  {
   "cell_type": "markdown",
   "metadata": {},
   "source": [
    "## Verify numerical correctness using MC"
   ]
  },
  {
   "cell_type": "code",
   "execution_count": 7,
   "metadata": {},
   "outputs": [
    {
     "name": "stdout",
     "output_type": "stream",
     "text": [
      "------------Random test set------------\n"
     ]
    },
    {
     "name": "stderr",
     "output_type": "stream",
     "text": [
      "Evaluating test set...: 100%|██████████| 100/100 [00:00<00:00, 112.31it/s]\n"
     ]
    },
    {
     "name": "stdout",
     "output_type": "stream",
     "text": [
      "Spearman's Rank Correlation (Modified GFNEvalS, including termination actions): 0.9585478547854784. Runtime: 0.8987269401550293 seconds.\n",
      "Function 'evaluate_GFNEvalS' executed in 0.8991 seconds\n"
     ]
    },
    {
     "name": "stderr",
     "output_type": "stream",
     "text": [
      "Processing terminal_states: 100%|██████████| 4096/4096 [00:00<00:00, 295506.63it/s]\n",
      "Evaluating GFNEvalS with monte carlo: 100%|██████████| 100/100 [00:00<00:00, 40768.90it/s]\n"
     ]
    },
    {
     "name": "stdout",
     "output_type": "stream",
     "text": [
      "Spearman's Rank Correlation (Monte Carlo): 0.6734990475698972. MC sample number: 4096. Runtime: 0.4656798839569092 seconds\n",
      "Function 'evaluate_GFNEvalS_with_monte_carlo' executed in 0.4657 seconds\n",
      "------------Sampled test set------------\n"
     ]
    },
    {
     "name": "stderr",
     "output_type": "stream",
     "text": [
      "Evaluating test set...: 100%|██████████| 100/100 [00:00<00:00, 170.12it/s]\n"
     ]
    },
    {
     "name": "stdout",
     "output_type": "stream",
     "text": [
      "Spearman's Rank Correlation (Modified GFNEvalS, including termination actions): 0.8144907707448213. Runtime: 0.5948591232299805 seconds.\n",
      "Function 'evaluate_GFNEvalS' executed in 0.5953 seconds\n"
     ]
    },
    {
     "name": "stderr",
     "output_type": "stream",
     "text": [
      "Processing terminal_states: 100%|██████████| 4096/4096 [00:00<00:00, 305164.91it/s]\n",
      "Evaluating GFNEvalS with monte carlo: 100%|██████████| 100/100 [00:00<00:00, 33759.69it/s]"
     ]
    },
    {
     "name": "stdout",
     "output_type": "stream",
     "text": [
      "Spearman's Rank Correlation (Monte Carlo): 0.8152987444729859. MC sample number: 4096. Runtime: 0.5411820411682129 seconds\n",
      "Function 'evaluate_GFNEvalS_with_monte_carlo' executed in 0.5412 seconds\n"
     ]
    },
    {
     "name": "stderr",
     "output_type": "stream",
     "text": [
      "\n"
     ]
    }
   ],
   "source": [
    "n_samples = 1 * env.n_states\n",
    "print('------------Random test set------------')\n",
    "_, _, _ = evaluate_GFNEvalS(gfn, env, test_states_random, test_rewards_random)\n",
    "_, _, _ = evaluate_GFNEvalS_with_monte_carlo(gfn, env, test_states_random, test_rewards_random, n_samples=n_samples)\n",
    "print('------------Sampled test set------------')\n",
    "_, _, _ = evaluate_GFNEvalS(gfn, env, test_states_sample, test_rewards_sample)\n",
    "_, _, _ = evaluate_GFNEvalS_with_monte_carlo(gfn, env, test_states_sample, test_rewards_sample, n_samples=n_samples)\n"
   ]
  },
  {
   "cell_type": "code",
   "execution_count": 6,
   "metadata": {},
   "outputs": [
    {
     "name": "stdout",
     "output_type": "stream",
     "text": [
      "------------Random test set------------\n"
     ]
    },
    {
     "name": "stderr",
     "output_type": "stream",
     "text": [
      "Evaluating test set...: 100%|██████████| 100/100 [00:00<00:00, 114.78it/s]\n"
     ]
    },
    {
     "name": "stdout",
     "output_type": "stream",
     "text": [
      "Spearman's Rank Correlation (Modified GFNEvalS, including termination actions): 0.9585478547854784. Runtime: 0.881892204284668 seconds.\n",
      "Function 'evaluate_GFNEvalS' executed in 0.8824 seconds\n"
     ]
    },
    {
     "name": "stderr",
     "output_type": "stream",
     "text": [
      "Processing terminal_states: 100%|██████████| 20480/20480 [00:00<00:00, 147699.20it/s]\n",
      "Evaluating GFNEvalS with monte carlo: 100%|██████████| 100/100 [00:00<00:00, 34402.10it/s]\n"
     ]
    },
    {
     "name": "stdout",
     "output_type": "stream",
     "text": [
      "Spearman's Rank Correlation (Monte Carlo): 0.8808481087198067. MC sample number: 20480. Runtime: 2.643099308013916 seconds\n",
      "Function 'evaluate_GFNEvalS_with_monte_carlo' executed in 2.6431 seconds\n",
      "------------Sampled test set------------\n"
     ]
    },
    {
     "name": "stderr",
     "output_type": "stream",
     "text": [
      "Evaluating test set...: 100%|██████████| 100/100 [00:00<00:00, 159.10it/s]\n"
     ]
    },
    {
     "name": "stdout",
     "output_type": "stream",
     "text": [
      "Spearman's Rank Correlation (Modified GFNEvalS, including termination actions): 0.8144907707448213. Runtime: 0.6345369815826416 seconds.\n",
      "Function 'evaluate_GFNEvalS' executed in 0.6350 seconds\n"
     ]
    },
    {
     "name": "stderr",
     "output_type": "stream",
     "text": [
      "Processing terminal_states: 100%|██████████| 20480/20480 [00:00<00:00, 159636.91it/s]\n",
      "Evaluating GFNEvalS with monte carlo: 100%|██████████| 100/100 [00:00<00:00, 37536.28it/s]"
     ]
    },
    {
     "name": "stdout",
     "output_type": "stream",
     "text": [
      "Spearman's Rank Correlation (Monte Carlo): 0.9585927172335587. MC sample number: 20480. Runtime: 2.6412699222564697 seconds\n",
      "Function 'evaluate_GFNEvalS_with_monte_carlo' executed in 2.6413 seconds\n"
     ]
    },
    {
     "name": "stderr",
     "output_type": "stream",
     "text": [
      "\n"
     ]
    }
   ],
   "source": [
    "n_samples = 5 * env.n_states\n",
    "print('------------Random test set------------')\n",
    "_, _, _ = evaluate_GFNEvalS(gfn, env, test_states_random, test_rewards_random)\n",
    "_, _, _ = evaluate_GFNEvalS_with_monte_carlo(gfn, env, test_states_random, test_rewards_random, n_samples=n_samples)\n",
    "print('------------Sampled test set------------')\n",
    "_, _, _ = evaluate_GFNEvalS(gfn, env, test_states_sample, test_rewards_sample)\n",
    "_, _, _ = evaluate_GFNEvalS_with_monte_carlo(gfn, env, test_states_sample, test_rewards_sample, n_samples=n_samples)\n"
   ]
  },
  {
   "cell_type": "code",
   "execution_count": 8,
   "metadata": {},
   "outputs": [
    {
     "name": "stdout",
     "output_type": "stream",
     "text": [
      "------------Random test set------------\n"
     ]
    },
    {
     "name": "stderr",
     "output_type": "stream",
     "text": [
      "Evaluating test set...: 100%|██████████| 100/100 [00:00<00:00, 120.09it/s]\n"
     ]
    },
    {
     "name": "stdout",
     "output_type": "stream",
     "text": [
      "Spearman's Rank Correlation (Modified GFNEvalS, including termination actions): 0.9585478547854784. Runtime: 0.8431618213653564 seconds.\n",
      "Function 'evaluate_GFNEvalS' executed in 0.8436 seconds\n"
     ]
    },
    {
     "name": "stderr",
     "output_type": "stream",
     "text": [
      "Processing terminal_states: 100%|██████████| 40960/40960 [00:00<00:00, 282864.65it/s]\n",
      "Evaluating GFNEvalS with monte carlo: 100%|██████████| 100/100 [00:00<00:00, 38969.66it/s]\n"
     ]
    },
    {
     "name": "stdout",
     "output_type": "stream",
     "text": [
      "Spearman's Rank Correlation (Monte Carlo): 0.8999019098914222. MC sample number: 40960. Runtime: 5.286223888397217 seconds\n",
      "Function 'evaluate_GFNEvalS_with_monte_carlo' executed in 5.2862 seconds\n",
      "------------Sampled test set------------\n"
     ]
    },
    {
     "name": "stderr",
     "output_type": "stream",
     "text": [
      "Evaluating test set...: 100%|██████████| 100/100 [00:00<00:00, 160.49it/s]\n"
     ]
    },
    {
     "name": "stdout",
     "output_type": "stream",
     "text": [
      "Spearman's Rank Correlation (Modified GFNEvalS, including termination actions): 0.8144907707448213. Runtime: 0.6285898685455322 seconds.\n",
      "Function 'evaluate_GFNEvalS' executed in 0.6291 seconds\n"
     ]
    },
    {
     "name": "stderr",
     "output_type": "stream",
     "text": [
      "Processing terminal_states: 100%|██████████| 40960/40960 [00:00<00:00, 315467.75it/s]\n",
      "Evaluating GFNEvalS with monte carlo: 100%|██████████| 100/100 [00:00<00:00, 34433.17it/s]"
     ]
    },
    {
     "name": "stdout",
     "output_type": "stream",
     "text": [
      "Spearman's Rank Correlation (Monte Carlo): 0.9602812436398143. MC sample number: 40960. Runtime: 5.014269113540649 seconds\n",
      "Function 'evaluate_GFNEvalS_with_monte_carlo' executed in 5.0143 seconds\n"
     ]
    },
    {
     "name": "stderr",
     "output_type": "stream",
     "text": [
      "\n"
     ]
    }
   ],
   "source": [
    "n_samples = 10 * env.n_states\n",
    "print('------------Random test set------------')\n",
    "_, _, _ = evaluate_GFNEvalS(gfn, env, test_states_random, test_rewards_random)\n",
    "_, _, _ = evaluate_GFNEvalS_with_monte_carlo(gfn, env, test_states_random, test_rewards_random, n_samples=n_samples)\n",
    "print('------------Sampled test set------------')\n",
    "_, _, _ = evaluate_GFNEvalS(gfn, env, test_states_sample, test_rewards_sample)\n",
    "_, _, _ = evaluate_GFNEvalS_with_monte_carlo(gfn, env, test_states_sample, test_rewards_sample, n_samples=n_samples)\n"
   ]
  },
  {
   "cell_type": "code",
   "execution_count": 10,
   "metadata": {},
   "outputs": [
    {
     "name": "stdout",
     "output_type": "stream",
     "text": [
      "------------Random test set------------\n"
     ]
    },
    {
     "name": "stderr",
     "output_type": "stream",
     "text": [
      "Evaluating test set...: 100%|██████████| 100/100 [00:00<00:00, 119.52it/s]\n"
     ]
    },
    {
     "name": "stdout",
     "output_type": "stream",
     "text": [
      "Spearman's Rank Correlation (Modified GFNEvalS, including termination actions): 0.9585478547854784. Runtime: 0.8468070030212402 seconds.\n",
      "Function 'evaluate_GFNEvalS' executed in 0.8473 seconds\n"
     ]
    },
    {
     "name": "stderr",
     "output_type": "stream",
     "text": [
      "Processing terminal_states: 100%|██████████| 81920/81920 [00:00<00:00, 317863.18it/s]\n",
      "Evaluating GFNEvalS with monte carlo: 100%|██████████| 100/100 [00:00<00:00, 37593.47it/s]\n"
     ]
    },
    {
     "name": "stdout",
     "output_type": "stream",
     "text": [
      "Spearman's Rank Correlation (Monte Carlo): 0.9584972891457396. MC sample number: 81920. Runtime: 10.354176044464111 seconds\n",
      "Function 'evaluate_GFNEvalS_with_monte_carlo' executed in 10.3542 seconds\n",
      "------------Sampled test set------------\n"
     ]
    },
    {
     "name": "stderr",
     "output_type": "stream",
     "text": [
      "Evaluating test set...: 100%|██████████| 100/100 [00:00<00:00, 174.00it/s]\n"
     ]
    },
    {
     "name": "stdout",
     "output_type": "stream",
     "text": [
      "Spearman's Rank Correlation (Modified GFNEvalS, including termination actions): 0.8144907707448213. Runtime: 0.5798079967498779 seconds.\n",
      "Function 'evaluate_GFNEvalS' executed in 0.5803 seconds\n"
     ]
    },
    {
     "name": "stderr",
     "output_type": "stream",
     "text": [
      "Processing terminal_states: 100%|██████████| 81920/81920 [00:00<00:00, 322136.64it/s]\n",
      "Evaluating GFNEvalS with monte carlo: 100%|██████████| 100/100 [00:00<00:00, 40532.51it/s]"
     ]
    },
    {
     "name": "stdout",
     "output_type": "stream",
     "text": [
      "Spearman's Rank Correlation (Monte Carlo): 0.9704449994404256. MC sample number: 81920. Runtime: 10.310059070587158 seconds\n",
      "Function 'evaluate_GFNEvalS_with_monte_carlo' executed in 10.3101 seconds\n"
     ]
    },
    {
     "name": "stderr",
     "output_type": "stream",
     "text": [
      "\n"
     ]
    }
   ],
   "source": [
    "n_samples = 20 * env.n_states\n",
    "print('------------Random test set------------')\n",
    "_, _, _ = evaluate_GFNEvalS(gfn, env, test_states_random, test_rewards_random)\n",
    "_, _, _ = evaluate_GFNEvalS_with_monte_carlo(gfn, env, test_states_random, test_rewards_random, n_samples=n_samples)\n",
    "print('------------Sampled test set------------')\n",
    "_, _, _ = evaluate_GFNEvalS(gfn, env, test_states_sample, test_rewards_sample)\n",
    "_, _, _ = evaluate_GFNEvalS_with_monte_carlo(gfn, env, test_states_sample, test_rewards_sample, n_samples=n_samples)\n"
   ]
  }
 ],
 "metadata": {
  "kernelspec": {
   "display_name": "gfn",
   "language": "python",
   "name": "python3"
  },
  "language_info": {
   "codemirror_mode": {
    "name": "ipython",
    "version": 3
   },
   "file_extension": ".py",
   "mimetype": "text/x-python",
   "name": "python",
   "nbconvert_exporter": "python",
   "pygments_lexer": "ipython3",
   "version": "3.10.15"
  }
 },
 "nbformat": 4,
 "nbformat_minor": 2
}
