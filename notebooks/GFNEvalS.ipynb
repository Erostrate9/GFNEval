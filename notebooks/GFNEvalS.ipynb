{
 "cells": [
  {
   "cell_type": "markdown",
   "metadata": {
    "id": "7ptVYB2WbHFx"
   },
   "source": [
    "# Install dependency in Colab"
   ]
  },
  {
   "cell_type": "code",
   "execution_count": null,
   "metadata": {
    "id": "Wi6Q7515ciib"
   },
   "outputs": [],
   "source": [
    "%%bash\n",
    "cd ../torchgfn\n",
    "pip install ."
   ]
  },
  {
   "cell_type": "markdown",
   "metadata": {
    "id": "ewF0o8QWbJHe"
   },
   "source": [
    "# GFNEvalS Demo"
   ]
  },
  {
   "cell_type": "code",
   "execution_count": 1,
   "metadata": {
    "id": "BaPTfCCslZQi"
   },
   "outputs": [],
   "source": [
    "import torch\n",
    "import numpy as np\n",
    "from scipy.stats import spearmanr\n",
    "from tqdm import tqdm\n",
    "\n",
    "from gfn.gflownet import TBGFlowNet\n",
    "from gfn.gym import HyperGrid\n",
    "from gfn.modules import DiscretePolicyEstimator\n",
    "from gfn.samplers import Sampler\n",
    "from gfn.utils.modules import MLP\n",
    "from gfn.states import States, DiscreteStates"
   ]
  },
  {
   "cell_type": "markdown",
   "metadata": {},
   "source": [
    "## Train GFlowNet"
   ]
  },
  {
   "cell_type": "code",
   "execution_count": 2,
   "metadata": {
    "colab": {
     "base_uri": "https://localhost:8080/"
    },
    "id": "SUZCEfP2k6_N",
    "outputId": "b550fc78-b1bf-4785-e451-28b7adaadd51"
   },
   "outputs": [
    {
     "name": "stdout",
     "output_type": "stream",
     "text": [
      "Using device: mps\n"
     ]
    },
    {
     "name": "stderr",
     "output_type": "stream",
     "text": [
      "100%|██████████| 1000/1000 [00:14<00:00, 67.16it/s, loss=0.215]\n"
     ]
    }
   ],
   "source": [
    "# 0 - Find Available GPU resource\n",
    "device = torch.device(\"cuda\" if torch.cuda.is_available() else 'mps' if torch.mps.is_available() else \"cpu\")\n",
    "print(f\"Using device: {device}\")\n",
    "\n",
    "# 1 - Define the environment\n",
    "env = HyperGrid(ndim=4, height=8, R0=0.01)\n",
    "\n",
    "# 2 - Define the neural network modules\n",
    "module_PF = MLP(input_dim=env.preprocessor.output_dim, output_dim=env.n_actions)\n",
    "module_PB = MLP(input_dim=env.preprocessor.output_dim, output_dim=env.n_actions - 1, trunk=module_PF.trunk)\n",
    "\n",
    "# 3 - Define the estimators\n",
    "pf_estimator = DiscretePolicyEstimator(module_PF, env.n_actions, is_backward=False, preprocessor=env.preprocessor)\n",
    "pb_estimator = DiscretePolicyEstimator(module_PB, env.n_actions, is_backward=True, preprocessor=env.preprocessor)\n",
    "\n",
    "# 4 - Define the GFlowNet\n",
    "gfn = TBGFlowNet(logZ=0., pf=pf_estimator, pb=pb_estimator)\n",
    "\n",
    "# 5 - Define the sampler and optimizer\n",
    "sampler = Sampler(estimator=pf_estimator)\n",
    "optimizer = torch.optim.Adam(gfn.pf_pb_parameters(), lr=1e-3)\n",
    "optimizer.add_param_group({\"params\": gfn.logz_parameters(), \"lr\": 1e-1})\n",
    "\n",
    "# 6 - Train the GFlowNet\n",
    "for i in (pbar := tqdm(range(1000))):\n",
    "    trajectories = sampler.sample_trajectories(env=env, n=16)\n",
    "    optimizer.zero_grad()\n",
    "    loss = gfn.loss(env, trajectories).to(device)\n",
    "    loss.backward()\n",
    "    optimizer.step()\n",
    "    if i % 25 == 0:\n",
    "        pbar.set_postfix({\"loss\": loss.item()})"
   ]
  },
  {
   "cell_type": "code",
   "execution_count": 18,
   "metadata": {},
   "outputs": [],
   "source": [
    "# to get all possible states from the environment\n",
    "# height**ndim\n",
    "env.all_states\n",
    "assert len(env.all_states)==env.height**env.ndim"
   ]
  },
  {
   "cell_type": "code",
   "execution_count": 19,
   "metadata": {},
   "outputs": [
    {
     "data": {
      "text/plain": [
       "5"
      ]
     },
     "execution_count": 19,
     "metadata": {},
     "output_type": "execute_result"
    }
   ],
   "source": [
    "# n_actions = ndim + 1\n",
    "# actions are represented by a number in {0, …, n_actions - 1}, the last one being the exit action.\n",
    "env.n_actions"
   ]
  },
  {
   "cell_type": "markdown",
   "metadata": {},
   "source": [
    "## Compute Sampling Probability"
   ]
  },
  {
   "cell_type": "code",
   "execution_count": 20,
   "metadata": {},
   "outputs": [
    {
     "name": "stdout",
     "output_type": "stream",
     "text": [
      "{'((6, 6), (2, 0))': True, '((1, 2), (3, 4))': False, '(0, 0, 0, 1)': True}\n"
     ]
    }
   ],
   "source": [
    "import torch\n",
    "from collections import defaultdict\n",
    "\n",
    "class TensorDict:\n",
    "    def __init__(self, default_factory=None):\n",
    "        # Use a defaultdict with an optional default factory\n",
    "        self.data = defaultdict(default_factory)\n",
    "        self.default_factory = default_factory\n",
    "\n",
    "    def _tensor_to_hashable(self, tensor):\n",
    "        # Recursively convert a tensor to a hashable structure (nested tuples)\n",
    "        if isinstance(tensor, torch.Tensor):\n",
    "            return self._tensor_to_hashable(tensor.tolist())\n",
    "        elif isinstance(tensor, list):\n",
    "            return tuple(self._tensor_to_hashable(item) for item in tensor)\n",
    "        else:\n",
    "            return tensor  # Base case: numbers are already hashable\n",
    "\n",
    "    def __setitem__(self, tensor, value):\n",
    "        # Convert tensor to a hashable structure for storage\n",
    "        key = self._tensor_to_hashable(tensor)\n",
    "        self.data[key] = value\n",
    "\n",
    "    def __getitem__(self, tensor):\n",
    "        # Retrieve value based on hashable structure\n",
    "        key = self._tensor_to_hashable(tensor)\n",
    "        return self.data[key]\n",
    "\n",
    "    def __contains__(self, tensor):\n",
    "        # Check existence based on hashable structure\n",
    "        key = self._tensor_to_hashable(tensor)\n",
    "        return key in self.data\n",
    "\n",
    "    def __str__(self):\n",
    "        # Pretty-print the dictionary content as tuples and values\n",
    "        pretty_dict = {\n",
    "            str(key): value for key, value in self.data.items()\n",
    "        }\n",
    "        return str(pretty_dict)\n",
    "\n",
    "    def __repr__(self):\n",
    "        # Provide a developer-friendly representation\n",
    "        return f\"TensorDict({self.__str__()})\"\n",
    "\n",
    "# Example usage\n",
    "dic = TensorDict(default_factory=lambda: False)\n",
    "\n",
    "x1 = torch.tensor([[6, 6], [2, 0]])\n",
    "x2 = torch.tensor([[1, 2], [3, 4]])\n",
    "x3 = torch.tensor([0, 0, 0, 1])\n",
    "\n",
    "dic[x1] = True\n",
    "dic[x2] = False\n",
    "dic[x3] = True\n",
    "\n",
    "print(dic)"
   ]
  },
  {
   "cell_type": "code",
   "execution_count": 21,
   "metadata": {},
   "outputs": [],
   "source": [
    "def get_all_transition_log_probs(env, pf_estimator):\n",
    "    \"\"\"\n",
    "        Args:\n",
    "    Returns transition_log_probs, a Tensor list with length of env.n_actions. \n",
    "        transition_log_probs[i][j] indicates the log probability of taking action i at a State env.all_states[j], i in [0, n_actions-1]\n",
    "    \"\"\"\n",
    "    all_states = env.all_states\n",
    "    estimator_output = pf_estimator(all_states)\n",
    "    dist = pf_estimator.to_probability_distribution(all_states, estimator_output)\n",
    "    transition_log_probs = [None] * env.n_actions\n",
    "    \n",
    "    for i in tqdm(range(env.n_actions)):\n",
    "        action = torch.Tensor([i])\n",
    "        transition_log_probs[i] = dist.log_prob(action)\n",
    "    return transition_log_probs"
   ]
  },
  {
   "cell_type": "markdown",
   "metadata": {},
   "source": [
    "$$\\log \\pi_\\theta(s) = \\log \\left( \\sum_{s{\\prime} \\in \\text{Parent}(s)} \\exp \\left( \\log P_{F_\\theta}(s | s{\\prime}) + \\log \\pi_\\theta(s{\\prime}) \\right) \\right)$$\n",
    "\n",
    "where $ P_{F_\\theta}(s | s{\\prime})  $ is the forward transition probability, and s is a state in the trajectory."
   ]
  },
  {
   "cell_type": "code",
   "execution_count": 22,
   "metadata": {
    "id": "SbSucqUOyNLi"
   },
   "outputs": [],
   "source": [
    "import torch\n",
    "from gfn.states import stack_states\n",
    "# TODO\n",
    "def compute_log_probability(env: HyperGrid, gfn, state: DiscreteStates, memo, transition_log_probs):\n",
    "    \"\"\"\n",
    "    Recursively computes the log of the sampling probability π_θ(s) for a given terminal state `state`\n",
    "    in a GFlowNet `gfn` using torchgfn library.\n",
    "\n",
    "    Args:\n",
    "        gfn (GFlowNet): The GFlowNet model instance.\n",
    "        state (States): The terminal state for which we want to compute log π_θ(s).\n",
    "        memo (dict): A dictionary for memoization to store previously computed log probabilities.\n",
    "\n",
    "    Returns:\n",
    "        torch.Tensor: The log probability π_θ(s).\n",
    "    \"\"\"\n",
    "    # Check if the result is already computed and stored in memo\n",
    "    if state.tensor in memo:\n",
    "        return memo[state.tensor]\n",
    "\n",
    "    # Base case: if the state is the initial state, log π_θ(s_initial) = 0\n",
    "    if state.is_initial_state.all():\n",
    "        log_prob = torch.tensor([0.0], requires_grad=False)\n",
    "        memo[state.tensor] = log_prob\n",
    "        return log_prob\n",
    "    \n",
    "    # Recursive case: compute log π_θ(s) from all parent states\n",
    "    # Collect log-probabilities for each parent transition\n",
    "    log_probs = []\n",
    "    # to iterate each parent state and the corresponding action\n",
    "    for i in range(env.n_actions-1):\n",
    "        action = env.actions_from_tensor(torch.Tensor([[i]]).to(torch.int64))\n",
    "        env.update_masks(state)\n",
    "        if env.is_action_valid(state, action, backward=True):\n",
    "            # s'\n",
    "            parent_state_tensor = env.backward_step(state, action)\n",
    "            parent_state = env.states_from_tensor(parent_state_tensor)\n",
    "            # parent_state = stack_states([parent_state])\n",
    "            parent_state_idx = env.get_states_indices(parent_state)\n",
    "            # logPF(s|s'): Forward transition probability in log form\n",
    "            log_forward_prob = transition_log_probs[i][parent_state_idx]\n",
    "            # log π_θ(s'): Recursively compute log π_θ(parent_state)\n",
    "            log_parent_prob=compute_log_probability(env, gfn, parent_state, memo, transition_log_probs)\n",
    "            # Compute the sum inside the exponent for this parent\n",
    "            log_probs.append(log_forward_prob + log_parent_prob)\n",
    "    # Sum of exponentiated log-probabilities (log-sum-exp trick for numerical stability)\n",
    "    log_prob = torch.logsumexp(torch.stack(log_probs), dim=0)\n",
    "    # Memoize and return\n",
    "    memo[state.tensor] = log_prob\n",
    "    return log_prob"
   ]
  },
  {
   "cell_type": "code",
   "execution_count": 23,
   "metadata": {},
   "outputs": [
    {
     "name": "stderr",
     "output_type": "stream",
     "text": [
      "100%|██████████| 5/5 [00:00<00:00, 3912.60it/s]\n"
     ]
    }
   ],
   "source": [
    "transition_log_probs = get_all_transition_log_probs(env, pf_estimator=pf_estimator)"
   ]
  },
  {
   "cell_type": "code",
   "execution_count": 24,
   "metadata": {},
   "outputs": [
    {
     "name": "stdout",
     "output_type": "stream",
     "text": [
      "tensor([-1.9369], grad_fn=<LogsumexpBackward0>)\n",
      "{'((0, 0, 0, 0),)': tensor([0.]), '((0, 0, 0, 1),)': tensor([-1.4087], grad_fn=<LogsumexpBackward0>), '((0, 0, 0, 2),)': tensor([-1.9369], grad_fn=<LogsumexpBackward0>)}\n"
     ]
    }
   ],
   "source": [
    "memo = TensorDict(default_factory=lambda: torch.tensor([-float('inf')], requires_grad=False))\n",
    "state = stack_states([env.all_states[2]])\n",
    "log_prob=compute_log_probability(env, gfn, state, memo, transition_log_probs)\n",
    "print(log_prob)\n",
    "print(memo)"
   ]
  },
  {
   "cell_type": "code",
   "execution_count": 25,
   "metadata": {
    "id": "ifU5HtMPmuKS"
   },
   "outputs": [],
   "source": [
    "# 8 - Generate a test set and compute probabilities\n",
    "n_test = 100  # Number of test trajectories\n",
    "test_trajectories = sampler.sample_trajectories(env=env, n=n_test)"
   ]
  },
  {
   "cell_type": "code",
   "execution_count": 26,
   "metadata": {},
   "outputs": [
    {
     "name": "stderr",
     "output_type": "stream",
     "text": [
      "100%|██████████| 5/5 [00:00<00:00, 3936.83it/s]\n"
     ]
    }
   ],
   "source": [
    "transition_log_probs = get_all_transition_log_probs(env, pf_estimator=pf_estimator)"
   ]
  },
  {
   "cell_type": "markdown",
   "metadata": {},
   "source": [
    "## Compute GFNEvalS"
   ]
  },
  {
   "cell_type": "code",
   "execution_count": null,
   "metadata": {},
   "outputs": [],
   "source": [
    "def compute_log_prob_termination(env: HyperGrid, terminal_state: DiscreteStates, memo, transition_log_probs):\n",
    "    terminal_state_tensor = terminal_state.tensor\n",
    "    termination_action = env.actions_from_tensor(torch.Tensor([[env.n_actions-1]]).to(torch.int64))\n",
    "    env.update_masks(terminal_state)\n",
    "    assert env.is_action_valid(terminal_state, termination_action, backward=False), f\"Error: Termination at given state {terminal_state.tensor} is invalid!\"\n",
    "    terminal_state_idx = env.get_states_indices(terminal_state)\n",
    "    # log π_θ(s_terminal) + log termination\n",
    "    return memo[terminal_state_tensor] + transition_log_probs[-1][terminal_state_idx]"
   ]
  },
  {
   "cell_type": "code",
   "execution_count": null,
   "metadata": {},
   "outputs": [
    {
     "name": "stdout",
     "output_type": "stream",
     "text": [
      "s_terminal: tensor([[0, 7, 6, 6]])\n",
      "log π_θ(s_terminal): tensor([-5.5142], grad_fn=<LogsumexpBackward0>)\n",
      "log_prob when termination at s_terminal: tensor([-6.4989], grad_fn=<AddBackward0>)\n"
     ]
    }
   ],
   "source": [
    "terminal_state = test_trajectories[0].states[-2]\n",
    "terminal_state_tensor = terminal_state.tensor\n",
    "print(f's_terminal: {terminal_state_tensor}')\n",
    "print(f'log π_θ(s_terminal): {memo[terminal_state_tensor]}')\n",
    "log_prob_termination = compute_log_prob_termination(env, terminal_state, memo, transition_log_probs)\n",
    "print(f'log_prob when termination at s_terminal: {log_prob_termination}')"
   ]
  },
  {
   "cell_type": "code",
   "execution_count": 40,
   "metadata": {},
   "outputs": [
    {
     "name": "stderr",
     "output_type": "stream",
     "text": [
      "Processing trajectories: 100%|██████████| 100/100 [00:00<00:00, 121.36it/s]\n"
     ]
    }
   ],
   "source": [
    "# Initialize lists to hold the probabilities and rewards\n",
    "# transition_log_probs = get_all_transition_log_probs(env, pf_estimator=pf_estimator)\n",
    "log_probs = []\n",
    "log_probs_termination = []\n",
    "log_rewards = []\n",
    "memo = memo = TensorDict(default_factory=lambda: torch.tensor(['-inf'], requires_grad=False))\n",
    "# Calculate the log probability and log reward for each terminal state\n",
    "# for traj in test_trajectories:\n",
    "for traj in tqdm(test_trajectories, desc=\"Processing trajectories\"):\n",
    "    terminal_state = traj.states[-2]\n",
    "    reward = env.reward(terminal_state)\n",
    "    log_reward = torch.log(reward)\n",
    "    log_prob=compute_log_probability(env, gfn, terminal_state, memo, transition_log_probs)\n",
    "    log_prob_termination = compute_log_prob_termination(env, terminal_state, memo, transition_log_probs) \n",
    "    log_probs.append(log_prob.detach().numpy())\n",
    "    log_probs_termination.append(log_prob_termination.detach().numpy())\n",
    "    log_rewards.append(log_reward.detach().numpy())"
   ]
  },
  {
   "cell_type": "code",
   "execution_count": 41,
   "metadata": {},
   "outputs": [
    {
     "name": "stdout",
     "output_type": "stream",
     "text": [
      "Spearman's Rank Correlation (Original GFNEvalS, excluding termination actions): 0.6554558780175926\n"
     ]
    }
   ],
   "source": [
    "# 9 - Compute Spearman's Rank Correlation\n",
    "spearman_corr, _ = spearmanr(log_probs, log_rewards)\n",
    "print(f\"Spearman's Rank Correlation (Original GFNEvalS, excluding termination actions): {spearman_corr}\")"
   ]
  },
  {
   "cell_type": "code",
   "execution_count": 42,
   "metadata": {},
   "outputs": [
    {
     "name": "stdout",
     "output_type": "stream",
     "text": [
      "Spearman's Rank Correlation (Modified GFNEvalS, including termination actions): 0.870835310870831\n"
     ]
    }
   ],
   "source": [
    "# 9 - Compute Spearman's Rank Correlation\n",
    "spearman_corr_termination, _ = spearmanr(log_probs_termination, log_rewards)\n",
    "print(f\"Spearman's Rank Correlation (Modified GFNEvalS, including termination actions): {spearman_corr_termination}\")"
   ]
  },
  {
   "cell_type": "markdown",
   "metadata": {},
   "source": [
    "## an approximation of sampling probability with monte carlo "
   ]
  },
  {
   "cell_type": "code",
   "execution_count": 43,
   "metadata": {},
   "outputs": [
    {
     "name": "stderr",
     "output_type": "stream",
     "text": [
      "Processing terminal_states: 100%|██████████| 204800/204800 [00:00<00:00, 317387.52it/s]\n"
     ]
    },
    {
     "name": "stdout",
     "output_type": "stream",
     "text": [
      "{'((3, 3, 0, 6),)': 12, '((1, 1, 6, 4),)': 15, '((7, 7, 7, 7),)': 516, '((7, 0, 1, 0),)': 407, '((5, 4, 3, 7),)': 6, '((3, 0, 2, 5),)': 5, '((6, 6, 6, 1),)': 1768, '((6, 1, 0, 6),)': 678, '((0, 1, 1, 6),)': 674, '((6, 0, 6, 1),)': 500, '((6, 7, 1, 0),)': 620, '((0, 0, 0, 0),)': 917, '((7, 7, 0, 0),)': 644, '((7, 1, 1, 1),)': 829, '((4, 5, 0, 3),)': 8, '((7, 7, 6, 7),)': 694, '((1, 6, 1, 1),)': 2579, '((1, 0, 0, 7),)': 568, '((5, 0, 6, 7),)': 17, '((6, 6, 7, 6),)': 580, '((1, 5, 3, 3),)': 11, '((6, 7, 4, 7),)': 22, '((1, 1, 6, 6),)': 1787, '((6, 6, 1, 1),)': 2496, '((0, 1, 1, 1),)': 602, '((0, 7, 6, 7),)': 337, '((0, 7, 7, 3),)': 10, '((0, 1, 6, 1),)': 641, '((0, 6, 1, 6),)': 879, '((7, 1, 7, 6),)': 396, '((6, 7, 1, 1),)': 865, '((7, 0, 6, 7),)': 374, '((6, 6, 1, 6),)': 2083, '((7, 7, 0, 1),)': 605, '((1, 1, 1, 6),)': 2547, '((1, 1, 0, 1),)': 768, '((6, 1, 5, 0),)': 12, '((0, 6, 7, 6),)': 396, '((3, 2, 3, 0),)': 22, '((7, 0, 6, 6),)': 493, '((0, 7, 7, 6),)': 279, '((7, 7, 1, 0),)': 561, '((7, 0, 1, 7),)': 430, '((1, 0, 0, 1),)': 513, '((3, 7, 0, 7),)': 9, '((6, 7, 3, 1),)': 19, '((7, 1, 6, 1),)': 732, '((1, 6, 6, 1),)': 1843, '((6, 7, 7, 0),)': 386, '((1, 0, 6, 0),)': 491, '((2, 4, 2, 4),)': 16, '((6, 6, 0, 0),)': 629, '((0, 2, 0, 4),)': 13, '((6, 1, 6, 1),)': 1788, '((1, 0, 7, 6),)': 400, '((0, 0, 0, 6),)': 605, '((0, 1, 7, 0),)': 430, '((7, 1, 6, 7),)': 429, '((6, 0, 1, 7),)': 505, '((0, 6, 7, 1),)': 427, '((7, 1, 0, 1),)': 533, '((1, 7, 1, 0),)': 746, '((1, 6, 1, 6),)': 2106, '((7, 1, 7, 0),)': 322, '((0, 1, 7, 1),)': 426, '((1, 7, 1, 1),)': 892, '((0, 6, 1, 7),)': 601, '((7, 6, 1, 6),)': 938, '((0, 6, 6, 6),)': 752, '((0, 0, 5, 7),)': 15, '((1, 1, 0, 0),)': 522, '((1, 1, 1, 1),)': 2804, '((6, 1, 1, 0),)': 506, '((4, 6, 6, 1),)': 20, '((7, 5, 1, 6),)': 20, '((1, 0, 1, 6),)': 654, '((0, 7, 0, 0),)': 855, '((0, 0, 1, 7),)': 499, '((5, 3, 3, 0),)': 7, '((1, 4, 4, 6),)': 4, '((7, 1, 0, 0),)': 430, '((0, 7, 0, 7),)': 528, '((7, 6, 1, 0),)': 645, '((7, 6, 1, 1),)': 862, '((1, 1, 6, 1),)': 2017, '((0, 1, 7, 6),)': 447, '((2, 1, 0, 0),)': 17, '((1, 1, 7, 1),)': 537, '((6, 7, 0, 6),)': 737, '((7, 7, 6, 6),)': 711, '((0, 7, 6, 1),)': 570, '((1, 0, 0, 0),)': 695, '((6, 1, 6, 0),)': 615, '((6, 7, 6, 1),)': 721, '((0, 7, 1, 0),)': 679, '((2, 3, 3, 5),)': 16, '((7, 6, 1, 7),)': 658, '((0, 1, 6, 6),)': 658, '((0, 6, 6, 1),)': 756, '((7, 6, 0, 1),)': 698, '((6, 7, 1, 6),)': 1007, '((0, 1, 6, 0),)': 481, '((0, 7, 7, 1),)': 306, '((7, 7, 1, 1),)': 542, '((7, 0, 7, 7),)': 274, '((1, 6, 7, 0),)': 482, '((7, 1, 4, 6),)': 17, '((6, 1, 1, 7),)': 811, '((1, 6, 0, 6),)': 1057, '((6, 6, 0, 6),)': 941, '((6, 0, 6, 0),)': 424, '((7, 7, 6, 1),)': 576, '((6, 7, 7, 6),)': 528, '((7, 0, 7, 0),)': 344, '((0, 0, 6, 1),)': 460, '((6, 1, 0, 1),)': 647, '((1, 7, 0, 0),)': 741, '((7, 1, 1, 6),)': 767, '((0, 1, 1, 7),)': 565, '((1, 1, 0, 7),)': 683, '((0, 7, 1, 7),)': 397, '((0, 0, 0, 1),)': 583, '((7, 3, 2, 2),)': 11, '((1, 7, 1, 2),)': 10, '((6, 1, 1, 6),)': 2102, '((7, 7, 0, 7),)': 602, '((4, 3, 7, 0),)': 7, '((6, 1, 1, 2),)': 9, '((0, 7, 0, 6),)': 691, '((2, 2, 3, 1),)': 17, '((0, 0, 0, 7),)': 700, '((1, 7, 7, 1),)': 236, '((6, 0, 0, 0),)': 451, '((7, 6, 7, 0),)': 396, '((1, 7, 7, 0),)': 306, '((6, 0, 1, 6),)': 576, '((1, 0, 6, 1),)': 557, '((0, 1, 0, 0),)': 599, '((0, 7, 1, 1),)': 703, '((5, 5, 1, 0),)': 13, '((3, 0, 7, 2),)': 4, '((0, 0, 7, 6),)': 379, '((4, 0, 4, 4),)': 11, '((2, 0, 3, 4),)': 15, '((0, 0, 1, 0),)': 452, '((6, 7, 6, 0),)': 549, '((1, 2, 2, 1),)': 13, '((0, 0, 1, 6),)': 433, '((7, 6, 6, 7),)': 609, '((4, 5, 0, 6),)': 10, '((1, 7, 0, 6),)': 757, '((6, 5, 2, 4),)': 9, '((4, 2, 6, 4),)': 11, '((6, 2, 6, 0),)': 19, '((6, 7, 0, 1),)': 682, '((0, 1, 1, 0),)': 493, '((0, 7, 7, 0),)': 431, '((0, 0, 6, 6),)': 556, '((7, 1, 0, 7),)': 471, '((7, 0, 7, 6),)': 300, '((4, 5, 2, 0),)': 12, '((1, 6, 0, 7),)': 744, '((5, 6, 2, 2),)': 12, '((0, 0, 6, 7),)': 486, '((0, 1, 0, 1),)': 540, '((6, 0, 1, 0),)': 301, '((6, 1, 1, 1),)': 2144, '((7, 7, 1, 6),)': 811, '((7, 7, 6, 0),)': 473, '((6, 6, 7, 7),)': 433, '((5, 2, 6, 5),)': 10, '((7, 6, 7, 1),)': 442, '((6, 0, 7, 1),)': 428, '((3, 5, 6, 7),)': 5, '((7, 1, 1, 0),)': 492, '((1, 2, 2, 0),)': 12, '((3, 4, 0, 7),)': 10, '((5, 7, 1, 2),)': 8, '((2, 6, 0, 0),)': 18, '((1, 6, 6, 6),)': 1776, '((6, 7, 6, 6),)': 801, '((6, 6, 0, 1),)': 886, '((6, 6, 6, 6),)': 1462, '((1, 1, 6, 7),)': 595, '((1, 7, 6, 0),)': 684, '((7, 1, 6, 6),)': 730, '((3, 1, 5, 3),)': 8, '((1, 7, 1, 6),)': 738, '((0, 6, 0, 7),)': 559, '((1, 6, 1, 7),)': 761, '((0, 6, 1, 1),)': 745, '((2, 3, 5, 1),)': 10, '((7, 6, 0, 6),)': 770, '((4, 3, 2, 4),)': 6, '((0, 2, 4, 2),)': 5, '((6, 7, 2, 0),)': 13, '((7, 2, 6, 4),)': 8, '((1, 6, 6, 7),)': 644, '((7, 0, 6, 0),)': 391, '((0, 6, 7, 7),)': 262, '((6, 0, 7, 0),)': 343, '((7, 4, 6, 0),)': 13, '((1, 6, 7, 1),)': 527, '((0, 1, 0, 7),)': 580, '((3, 0, 6, 5),)': 4, '((1, 1, 7, 6),)': 555, '((6, 6, 7, 1),)': 659, '((5, 6, 4, 6),)': 6, '((4, 7, 1, 3),)': 11, '((6, 1, 5, 2),)': 9, '((6, 1, 7, 0),)': 360, '((0, 0, 6, 0),)': 513, '((4, 5, 6, 2),)': 7, '((6, 1, 0, 7),)': 629, '((1, 1, 6, 0),)': 634, '((2, 1, 0, 1),)': 19, '((7, 0, 4, 6),)': 10, '((0, 1, 1, 2),)': 13, '((0, 0, 7, 1),)': 398, '((2, 2, 5, 2),)': 12, '((6, 0, 6, 6),)': 547, '((6, 2, 1, 0),)': 11, '((7, 6, 7, 6),)': 528, '((7, 7, 0, 6),)': 721, '((4, 1, 6, 5),)': 5, '((0, 6, 0, 0),)': 630, '((2, 5, 0, 3),)': 7, '((1, 6, 6, 0),)': 671, '((6, 0, 1, 1),)': 441, '((0, 5, 2, 2),)': 15, '((0, 7, 7, 7),)': 180, '((1, 7, 0, 1),)': 717, '((6, 6, 0, 7),)': 689, '((0, 2, 1, 6),)': 16, '((1, 2, 5, 5),)': 17, '((0, 5, 0, 6),)': 14, '((7, 0, 6, 1),)': 443, '((6, 6, 1, 7),)': 833, '((4, 6, 7, 6),)': 7, '((7, 6, 6, 6),)': 732, '((1, 3, 4, 2),)': 12, '((0, 6, 3, 6),)': 7, '((0, 7, 0, 1),)': 664, '((3, 5, 0, 6),)': 12, '((6, 7, 0, 7),)': 529, '((1, 0, 0, 6),)': 598, '((6, 6, 6, 0),)': 587, '((6, 1, 7, 1),)': 561, '((1, 7, 2, 0),)': 19, '((5, 6, 6, 0),)': 15, '((1, 4, 6, 7),)': 15, '((1, 3, 7, 1),)': 14, '((3, 0, 1, 4),)': 12, '((6, 1, 2, 0),)': 15, '((6, 1, 7, 6),)': 532, '((0, 2, 0, 2),)': 10, '((4, 3, 3, 3),)': 14, '((1, 1, 0, 6),)': 856, '((6, 2, 6, 6),)': 10, '((6, 0, 6, 7),)': 452, '((6, 1, 6, 7),)': 627, '((1, 6, 0, 0),)': 596, '((7, 0, 1, 1),)': 371, '((6, 1, 6, 6),)': 1695, '((1, 1, 1, 0),)': 660, '((0, 7, 6, 0),)': 684, '((1, 0, 0, 4),)': 38, '((1, 1, 7, 0),)': 502, '((5, 7, 2, 0),)': 13, '((7, 6, 6, 1),)': 733, '((0, 0, 1, 1),)': 424, '((7, 7, 7, 6),)': 564, '((7, 6, 0, 0),)': 644, '((0, 4, 6, 3),)': 7, '((2, 1, 7, 6),)': 12, '((0, 7, 6, 6),)': 548, '((2, 4, 4, 2),)': 17, '((2, 5, 1, 4),)': 9, '((7, 7, 5, 7),)': 56, '((3, 3, 4, 6),)': 8, '((7, 0, 5, 6),)': 14, '((5, 7, 0, 6),)': 16, '((7, 7, 3, 3),)': 15, '((1, 6, 1, 0),)': 712, '((0, 6, 7, 0),)': 461, '((5, 7, 6, 0),)': 24, '((6, 5, 1, 7),)': 19, '((4, 1, 2, 4),)': 12, '((6, 5, 6, 6),)': 13, '((6, 3, 0, 1),)': 13, '((7, 1, 1, 7),)': 416, '((1, 7, 6, 1),)': 694, '((6, 0, 7, 6),)': 396, '((7, 5, 6, 1),)': 19, '((3, 2, 3, 3),)': 14, '((5, 5, 1, 5),)': 12, '((7, 4, 2, 3),)': 8, '((1, 6, 0, 1),)': 765, '((0, 7, 6, 5),)': 22, '((1, 6, 7, 6),)': 474, '((7, 7, 7, 0),)': 388, '((0, 6, 1, 0),)': 516, '((6, 7, 1, 7),)': 561, '((1, 4, 0, 0),)': 18, '((7, 1, 0, 5),)': 14, '((4, 2, 6, 3),)': 11, '((0, 2, 4, 5),)': 6, '((1, 7, 0, 7),)': 516, '((0, 7, 2, 3),)': 9, '((6, 6, 7, 0),)': 473, '((6, 7, 6, 7),)': 550, '((4, 2, 5, 7),)': 12, '((7, 2, 6, 7),)': 13, '((3, 1, 3, 3),)': 18, '((5, 5, 4, 7),)': 2, '((3, 7, 3, 2),)': 12, '((1, 0, 1, 1),)': 518, '((2, 5, 4, 3),)': 11, '((2, 7, 1, 6),)': 18, '((4, 2, 1, 5),)': 10, '((5, 1, 7, 3),)': 7, '((6, 6, 1, 0),)': 721, '((6, 0, 0, 7),)': 534, '((1, 0, 1, 7),)': 617, '((0, 0, 2, 4),)': 13, '((2, 1, 2, 1),)': 11, '((3, 2, 6, 2),)': 16, '((1, 0, 6, 6),)': 780, '((7, 5, 0, 5),)': 12, '((6, 7, 7, 1),)': 448, '((2, 7, 3, 6),)': 11, '((6, 1, 0, 0),)': 429, '((7, 3, 4, 5),)': 10, '((1, 0, 7, 1),)': 438, '((1, 3, 2, 3),)': 20, '((7, 3, 6, 1),)': 7, '((1, 7, 3, 4),)': 10, '((4, 1, 4, 0),)': 7, '((3, 2, 4, 3),)': 13, '((6, 7, 3, 7),)': 24, '((1, 2, 1, 2),)': 8, '((2, 4, 0, 3),)': 7, '((7, 0, 0, 1),)': 385, '((5, 0, 7, 1),)': 13, '((0, 2, 1, 1),)': 21, '((6, 2, 5, 0),)': 16, '((5, 6, 2, 4),)': 12, '((4, 1, 3, 3),)': 12, '((0, 6, 0, 1),)': 563, '((2, 1, 4, 5),)': 14, '((1, 6, 4, 1),)': 22, '((7, 5, 1, 5),)': 13, '((0, 1, 2, 6),)': 12, '((3, 7, 3, 5),)': 8, '((6, 0, 7, 7),)': 358, '((2, 0, 1, 3),)': 7, '((6, 7, 0, 0),)': 648, '((7, 7, 1, 7),)': 532, '((6, 6, 6, 7),)': 640, '((7, 1, 0, 6),)': 577, '((1, 7, 1, 7),)': 370, '((7, 6, 7, 3),)': 20, '((5, 3, 0, 0),)': 7, '((2, 2, 5, 0),)': 16, '((7, 0, 7, 1),)': 290, '((2, 3, 4, 0),)': 19, '((7, 6, 0, 7),)': 654, '((7, 3, 5, 5),)': 11, '((0, 1, 6, 7),)': 526, '((4, 0, 1, 2),)': 7, '((6, 6, 2, 0),)': 15, '((0, 0, 4, 2),)': 6, '((3, 1, 1, 3),)': 8, '((1, 2, 3, 5),)': 16, '((7, 6, 7, 4),)': 16, '((7, 0, 1, 6),)': 523, '((4, 6, 3, 2),)': 9, '((7, 6, 7, 7),)': 480, '((2, 0, 7, 0),)': 11, '((1, 3, 1, 1),)': 13, '((6, 7, 4, 5),)': 11, '((1, 0, 7, 0),)': 452, '((1, 0, 7, 7),)': 297, '((7, 1, 7, 3),)': 11, '((0, 0, 7, 0),)': 480, '((3, 7, 7, 6),)': 6, '((2, 1, 1, 0),)': 9, '((1, 0, 6, 7),)': 601, '((1, 5, 4, 6),)': 5, '((7, 3, 3, 3),)': 7, '((3, 5, 2, 1),)': 8, '((7, 6, 4, 5),)': 7, '((6, 6, 5, 0),)': 14, '((7, 7, 5, 1),)': 18, '((0, 3, 1, 4),)': 8, '((0, 4, 2, 3),)': 12, '((1, 7, 6, 6),)': 748, '((1, 7, 6, 7),)': 375, '((1, 7, 7, 6),)': 350, '((6, 0, 4, 5),)': 9, '((7, 1, 6, 0),)': 490, '((1, 1, 6, 5),)': 12, '((7, 6, 6, 0),)': 500, '((7, 0, 0, 7),)': 493, '((3, 7, 5, 7),)': 11, '((7, 2, 0, 3),)': 9, '((7, 6, 5, 7),)': 34, '((7, 2, 1, 0),)': 18, '((3, 4, 5, 7),)': 3, '((1, 3, 2, 5),)': 16, '((4, 0, 0, 4),)': 15, '((1, 4, 6, 4),)': 6, '((4, 6, 3, 3),)': 7, '((0, 6, 6, 5),)': 13, '((2, 1, 5, 7),)': 16, '((2, 2, 4, 1),)': 9, '((7, 0, 5, 4),)': 5, '((0, 1, 5, 3),)': 5, '((2, 0, 3, 5),)': 12, '((6, 1, 7, 7),)': 325, '((4, 6, 7, 4),)': 14, '((5, 2, 7, 5),)': 9, '((7, 3, 2, 0),)': 5, '((2, 4, 4, 4),)': 8, '((2, 7, 7, 4),)': 8, '((6, 2, 2, 6),)': 4, '((2, 2, 2, 2),)': 24, '((7, 4, 7, 1),)': 16, '((0, 4, 1, 1),)': 10, '((1, 6, 6, 5),)': 11, '((1, 5, 4, 4),)': 11, '((6, 6, 2, 7),)': 11, '((0, 6, 4, 7),)': 18, '((3, 7, 1, 5),)': 11, '((2, 7, 4, 3),)': 7, '((0, 5, 6, 7),)': 16, '((6, 0, 0, 1),)': 275, '((2, 5, 4, 5),)': 8, '((6, 7, 7, 7),)': 421, '((1, 7, 1, 5),)': 17, '((7, 7, 1, 2),)': 15, '((5, 7, 3, 4),)': 9, '((0, 6, 6, 0),)': 652, '((2, 7, 0, 0),)': 20, '((1, 5, 4, 0),)': 15, '((5, 1, 0, 6),)': 16, '((6, 4, 6, 7),)': 16, '((7, 1, 3, 2),)': 8, '((7, 5, 3, 5),)': 7, '((3, 0, 0, 3),)': 14, '((6, 0, 0, 6),)': 488, '((0, 4, 3, 2),)': 9, '((7, 6, 3, 6),)': 16, '((3, 1, 3, 4),)': 8, '((0, 1, 4, 4),)': 8, '((0, 6, 0, 5),)': 19, '((0, 0, 4, 6),)': 19, '((7, 0, 3, 0),)': 7, '((7, 7, 4, 7),)': 28, '((6, 4, 2, 0),)': 6, '((0, 2, 1, 0),)': 18, '((7, 7, 5, 6),)': 30, '((7, 6, 3, 5),)': 9, '((2, 5, 5, 4),)': 10, '((0, 6, 6, 7),)': 479, '((5, 5, 4, 2),)': 13, '((6, 1, 2, 1),)': 12, '((6, 6, 1, 4),)': 21, '((5, 0, 1, 5),)': 6, '((4, 4, 2, 5),)': 10, '((0, 1, 0, 4),)': 21, '((2, 3, 2, 4),)': 16, '((0, 7, 1, 6),)': 696, '((0, 6, 4, 5),)': 9, '((5, 4, 4, 1),)': 9, '((1, 6, 1, 4),)': 17, '((0, 0, 3, 2),)': 8, '((0, 1, 0, 6),)': 505, '((1, 1, 1, 4),)': 20, '((7, 3, 6, 3),)': 7, '((1, 0, 1, 0),)': 468, '((0, 2, 2, 5),)': 14, '((5, 7, 6, 7),)': 22, '((5, 2, 0, 4),)': 16, '((5, 0, 0, 6),)': 16, '((2, 4, 3, 4),)': 11, '((5, 7, 5, 7),)': 12, '((1, 1, 1, 7),)': 783, '((2, 2, 2, 5),)': 11, '((1, 2, 0, 5),)': 12, '((3, 2, 2, 0),)': 13, '((6, 1, 0, 3),)': 11, '((7, 0, 0, 6),)': 603, '((4, 5, 5, 6),)': 5, '((7, 1, 7, 7),)': 201, '((5, 7, 7, 0),)': 11, '((6, 7, 2, 1),)': 9, '((1, 4, 4, 0),)': 13, '((4, 0, 7, 0),)': 10, '((3, 4, 6, 2),)': 9, '((1, 6, 6, 2),)': 8, '((1, 5, 3, 2),)': 13, '((2, 6, 3, 1),)': 13, '((6, 6, 5, 7),)': 17, '((3, 3, 1, 3),)': 14, '((3, 2, 6, 0),)': 6, '((1, 7, 0, 5),)': 15, '((0, 6, 3, 7),)': 11, '((7, 4, 0, 0),)': 8, '((5, 4, 6, 7),)': 9, '((3, 4, 2, 5),)': 8, '((2, 6, 6, 1),)': 13, '((2, 4, 2, 1),)': 9, '((6, 1, 3, 5),)': 10, '((3, 1, 4, 7),)': 9, '((4, 4, 2, 7),)': 13, '((2, 3, 6, 3),)': 13, '((1, 2, 1, 5),)': 15, '((2, 5, 4, 1),)': 15, '((0, 4, 3, 3),)': 13, '((1, 7, 7, 7),)': 141, '((3, 2, 6, 5),)': 11, '((7, 5, 7, 7),)': 25, '((0, 7, 4, 5),)': 10, '((0, 1, 5, 2),)': 3, '((2, 1, 3, 7),)': 7, '((2, 2, 3, 0),)': 9, '((5, 5, 2, 1),)': 10, '((6, 6, 7, 2),)': 7, '((6, 7, 4, 6),)': 12, '((2, 6, 3, 7),)': 11, '((2, 5, 4, 6),)': 11, '((3, 3, 4, 7),)': 8, '((2, 3, 5, 7),)': 14, '((5, 7, 5, 6),)': 9, '((2, 4, 6, 0),)': 6, '((2, 2, 3, 3),)': 18, '((7, 3, 5, 2),)': 8, '((5, 1, 0, 0),)': 16, '((2, 5, 7, 5),)': 7, '((4, 3, 2, 5),)': 10, '((7, 1, 7, 1),)': 279, '((5, 5, 0, 7),)': 13, '((1, 2, 4, 1),)': 23, '((5, 3, 6, 1),)': 14, '((4, 5, 4, 4),)': 7, '((7, 7, 7, 1),)': 273, '((0, 0, 4, 1),)': 15, '((0, 6, 0, 6),)': 814, '((7, 6, 0, 3),)': 13, '((4, 7, 6, 6),)': 13, '((6, 2, 3, 2),)': 6, '((4, 5, 1, 5),)': 11, '((1, 0, 4, 5),)': 13, '((0, 2, 7, 0),)': 10, '((4, 7, 7, 3),)': 4, '((4, 2, 5, 0),)': 21, '((3, 1, 6, 2),)': 6, '((3, 5, 1, 5),)': 8, '((3, 6, 6, 2),)': 7, '((3, 4, 7, 3),)': 4, '((4, 1, 5, 7),)': 14, '((3, 2, 0, 3),)': 10, '((7, 5, 2, 7),)': 6, '((1, 5, 2, 2),)': 17, '((1, 2, 5, 6),)': 9, '((6, 2, 1, 3),)': 8, '((3, 0, 5, 2),)': 10, '((4, 1, 5, 4),)': 10, '((6, 1, 0, 2),)': 17, '((1, 5, 6, 1),)': 13, '((7, 1, 0, 3),)': 16, '((0, 7, 3, 3),)': 9, '((5, 2, 7, 1),)': 6, '((5, 2, 3, 1),)': 21, '((6, 5, 1, 6),)': 25, '((7, 5, 1, 1),)': 30, '((3, 2, 6, 1),)': 5, '((1, 3, 6, 0),)': 16, '((1, 1, 7, 7),)': 218, '((1, 6, 2, 7),)': 16, '((2, 5, 2, 5),)': 20, '((5, 0, 2, 4),)': 9, '((2, 7, 1, 1),)': 17, '((0, 0, 7, 7),)': 372, '((0, 7, 5, 6),)': 10, '((5, 4, 5, 3),)': 7, '((2, 6, 4, 7),)': 6, '((4, 4, 4, 6),)': 11, '((3, 2, 2, 3),)': 15, '((2, 3, 1, 7),)': 11, '((2, 6, 0, 4),)': 5, '((2, 3, 5, 2),)': 19, '((2, 7, 5, 3),)': 7, '((6, 4, 1, 7),)': 13, '((3, 5, 6, 0),)': 12, '((7, 6, 4, 6),)': 21, '((0, 7, 4, 0),)': 22, '((3, 4, 2, 2),)': 15, '((5, 1, 0, 1),)': 16, '((5, 3, 4, 4),)': 8, '((3, 1, 0, 7),)': 15, '((7, 3, 1, 1),)': 10, '((7, 7, 5, 0),)': 27, '((6, 2, 0, 2),)': 7, '((1, 2, 4, 0),)': 11, '((7, 2, 6, 5),)': 14, '((5, 1, 0, 5),)': 4, '((2, 2, 5, 5),)': 9, '((3, 3, 3, 2),)': 9, '((0, 7, 3, 1),)': 15, '((7, 0, 1, 5),)': 9, '((4, 2, 2, 1),)': 13, '((1, 2, 0, 3),)': 12, '((7, 3, 0, 6),)': 12, '((2, 3, 0, 4),)': 12, '((2, 2, 6, 7),)': 10, '((6, 1, 1, 5),)': 21, '((7, 7, 4, 2),)': 14, '((0, 3, 5, 0),)': 7, '((4, 6, 1, 1),)': 19, '((3, 1, 0, 6),)': 19, '((5, 4, 1, 6),)': 8, '((4, 1, 1, 2),)': 6, '((5, 1, 7, 1),)': 16, '((2, 7, 5, 5),)': 9, '((1, 7, 2, 4),)': 14, '((3, 3, 4, 4),)': 4, '((7, 1, 6, 3),)': 11, '((0, 6, 5, 5),)': 7, '((1, 6, 7, 3),)': 12, '((5, 0, 2, 6),)': 2, '((0, 2, 1, 3),)': 7, '((1, 1, 0, 2),)': 24, '((0, 7, 2, 0),)': 17, '((7, 0, 4, 7),)': 10, '((1, 0, 4, 6),)': 15, '((7, 1, 3, 4),)': 7, '((7, 4, 5, 1),)': 14, '((2, 0, 5, 4),)': 10, '((6, 4, 2, 3),)': 8, '((1, 1, 7, 5),)': 5, '((2, 1, 0, 6),)': 28, '((5, 0, 0, 5),)': 10, '((1, 5, 0, 4),)': 14, '((6, 3, 1, 1),)': 16, '((1, 6, 7, 7),)': 318, '((1, 6, 2, 1),)': 22, '((1, 6, 1, 5),)': 15, '((6, 1, 3, 3),)': 13, '((2, 1, 1, 6),)': 20, '((7, 0, 3, 7),)': 17, '((4, 2, 6, 0),)': 12, '((7, 6, 2, 2),)': 16, '((3, 4, 6, 0),)': 5, '((1, 3, 0, 5),)': 6, '((4, 4, 7, 1),)': 12, '((4, 6, 1, 0),)': 22, '((1, 1, 3, 4),)': 22, '((5, 4, 4, 7),)': 6, '((4, 3, 3, 7),)': 7, '((0, 5, 1, 0),)': 16, '((4, 3, 0, 7),)': 11, '((7, 2, 3, 7),)': 13, '((4, 1, 2, 2),)': 15, '((0, 0, 3, 0),)': 13, '((1, 4, 1, 1),)': 20, '((5, 3, 1, 2),)': 6, '((3, 4, 4, 7),)': 4, '((4, 1, 0, 1),)': 20, '((0, 5, 6, 3),)': 5, '((5, 7, 0, 7),)': 25, '((7, 2, 4, 1),)': 11, '((5, 5, 1, 4),)': 9, '((2, 4, 3, 2),)': 17, '((2, 6, 2, 2),)': 16, '((4, 4, 2, 2),)': 15, '((5, 0, 4, 4),)': 10, '((6, 6, 3, 2),)': 10, '((7, 5, 4, 3),)': 10, '((5, 0, 3, 3),)': 10, '((4, 0, 3, 2),)': 9, '((7, 1, 1, 2),)': 11, '((0, 2, 7, 4),)': 12, '((6, 2, 7, 7),)': 14, '((1, 4, 4, 1),)': 12, '((6, 5, 7, 4),)': 10, '((5, 1, 6, 5),)': 5, '((2, 6, 0, 2),)': 9, '((1, 2, 3, 7),)': 16, '((1, 5, 1, 0),)': 23, '((5, 4, 1, 3),)': 7, '((2, 0, 1, 1),)': 18, '((3, 3, 0, 3),)': 19, '((2, 6, 5, 7),)': 11, '((6, 2, 5, 7),)': 14, '((6, 2, 4, 1),)': 10, '((5, 1, 5, 1),)': 9, '((2, 3, 0, 3),)': 15, '((2, 0, 2, 5),)': 6, '((6, 6, 0, 2),)': 14, '((2, 6, 4, 5),)': 8, '((1, 5, 4, 7),)': 16, '((5, 5, 7, 5),)': 5, '((1, 6, 5, 7),)': 24, '((1, 6, 6, 4),)': 14, '((0, 7, 1, 2),)': 14, '((0, 2, 4, 4),)': 9, '((3, 6, 6, 0),)': 11, '((0, 6, 7, 5),)': 8, '((7, 0, 0, 0),)': 473, '((3, 4, 2, 0),)': 15, '((2, 0, 1, 5),)': 8, '((1, 5, 0, 1),)': 27, '((6, 1, 5, 4),)': 7, '((7, 6, 2, 3),)': 12, '((2, 1, 4, 3),)': 12, '((5, 7, 4, 0),)': 11, '((2, 5, 1, 6),)': 14, '((1, 0, 4, 0),)': 17, '((3, 1, 2, 0),)': 8, '((4, 7, 0, 6),)': 16, '((0, 7, 3, 2),)': 6, '((6, 3, 1, 2),)': 8, '((5, 5, 5, 3),)': 6, '((1, 3, 3, 5),)': 15, '((0, 0, 1, 3),)': 14, '((3, 3, 5, 1),)': 7, '((3, 3, 0, 2),)': 7, '((1, 7, 3, 7),)': 19, '((0, 1, 0, 3),)': 17, '((4, 5, 7, 1),)': 13, '((5, 5, 6, 1),)': 18, '((6, 4, 3, 4),)': 8, '((1, 1, 5, 6),)': 22, '((6, 5, 5, 1),)': 13, '((2, 4, 7, 7),)': 7, '((7, 1, 5, 3),)': 9, '((4, 5, 3, 5),)': 9, '((4, 1, 7, 2),)': 8, '((4, 4, 6, 5),)': 7, '((4, 5, 5, 0),)': 10, '((0, 7, 2, 2),)': 12, '((7, 3, 4, 3),)': 6, '((5, 5, 3, 2),)': 9, '((1, 0, 6, 2),)': 9, '((5, 7, 6, 2),)': 15, '((6, 5, 3, 4),)': 14, '((7, 6, 6, 3),)': 9, '((6, 4, 3, 0),)': 11, '((7, 7, 1, 5),)': 25, '((3, 0, 0, 7),)': 14, '((4, 2, 1, 6),)': 7, '((3, 3, 2, 4),)': 14, '((5, 3, 7, 3),)': 5, '((3, 1, 3, 6),)': 8, '((4, 1, 3, 7),)': 16, '((1, 4, 6, 1),)': 17, '((1, 0, 1, 4),)': 18, '((2, 5, 3, 0),)': 9, '((6, 5, 5, 6),)': 4, '((0, 1, 7, 2),)': 8, '((2, 1, 3, 6),)': 17, '((4, 4, 3, 0),)': 18, '((1, 7, 6, 5),)': 14, '((0, 4, 7, 6),)': 11, '((5, 3, 3, 2),)': 11, '((2, 1, 2, 6),)': 11, '((6, 7, 5, 7),)': 15, '((7, 0, 5, 7),)': 13, '((0, 7, 2, 5),)': 8, '((2, 3, 2, 5),)': 11, '((2, 6, 1, 7),)': 8, '((3, 1, 5, 0),)': 4, '((7, 2, 6, 3),)': 4, '((7, 4, 5, 7),)': 14, '((2, 1, 2, 5),)': 11, '((5, 3, 2, 4),)': 6, '((5, 3, 5, 1),)': 8, '((3, 6, 0, 0),)': 19, '((7, 5, 4, 7),)': 14, '((1, 1, 3, 7),)': 19, '((7, 7, 7, 5),)': 23, '((0, 6, 3, 4),)': 15, '((0, 7, 1, 5),)': 25, '((3, 3, 5, 3),)': 9, '((6, 0, 1, 3),)': 10, '((1, 5, 5, 0),)': 14, '((6, 7, 0, 2),)': 15, '((0, 7, 1, 3),)': 12, '((7, 0, 0, 3),)': 8, '((6, 2, 5, 5),)': 8, '((3, 5, 0, 5),)': 11, '((3, 7, 0, 2),)': 15, '((4, 5, 0, 7),)': 12, '((2, 1, 4, 1),)': 10, '((7, 7, 5, 3),)': 13, '((6, 7, 6, 5),)': 18, '((1, 5, 0, 0),)': 31, '((5, 6, 0, 3),)': 10, '((1, 7, 3, 3),)': 18, '((5, 7, 5, 4),)': 5, '((3, 3, 1, 6),)': 7, '((4, 7, 4, 3),)': 6, '((2, 0, 1, 7),)': 10, '((7, 0, 0, 5),)': 11, '((1, 7, 2, 6),)': 9, '((2, 5, 1, 1),)': 20, '((5, 6, 1, 6),)': 13, '((3, 6, 4, 1),)': 14, '((1, 3, 7, 0),)': 17, '((4, 7, 5, 3),)': 11, '((4, 2, 0, 2),)': 16, '((7, 5, 1, 3),)': 11, '((2, 1, 7, 0),)': 12, '((7, 2, 1, 3),)': 7, '((3, 2, 4, 5),)': 12, '((1, 4, 0, 2),)': 7, '((5, 5, 1, 6),)': 11, '((1, 2, 5, 4),)': 11, '((4, 2, 3, 7),)': 9, '((7, 1, 4, 2),)': 15, '((4, 5, 0, 5),)': 9, '((1, 2, 5, 0),)': 16, '((3, 2, 4, 6),)': 8, '((7, 7, 3, 7),)': 30, '((1, 3, 4, 6),)': 7, '((1, 5, 5, 6),)': 10, '((4, 2, 1, 2),)': 14, '((1, 1, 4, 4),)': 9, '((4, 5, 0, 0),)': 17, '((5, 5, 3, 1),)': 14, '((3, 7, 6, 2),)': 12, '((3, 7, 0, 5),)': 10, '((7, 4, 3, 6),)': 10, '((1, 1, 4, 1),)': 25, '((4, 1, 1, 3),)': 11, '((3, 5, 5, 0),)': 10, '((3, 7, 2, 0),)': 9, '((6, 5, 4, 3),)': 5, '((6, 1, 3, 0),)': 13, '((2, 7, 3, 2),)': 14, '((2, 0, 3, 7),)': 10, '((3, 6, 6, 5),)': 7, '((4, 1, 3, 2),)': 15, '((5, 5, 5, 2),)': 8, '((3, 1, 7, 0),)': 8, '((3, 3, 6, 2),)': 8, '((1, 4, 1, 7),)': 18, '((0, 5, 5, 0),)': 7, '((4, 2, 1, 4),)': 18, '((0, 1, 7, 7),)': 257, '((1, 0, 2, 0),)': 18, '((2, 3, 6, 2),)': 9, '((3, 7, 6, 7),)': 15, '((7, 7, 4, 6),)': 22, '((6, 5, 1, 0),)': 19, '((5, 3, 3, 7),)': 11, '((4, 3, 6, 5),)': 5, '((0, 2, 3, 5),)': 12, '((1, 5, 7, 7),)': 11, '((4, 2, 0, 0),)': 15, '((4, 0, 5, 1),)': 7, '((5, 1, 5, 7),)': 14, '((6, 1, 3, 7),)': 15, '((0, 0, 4, 0),)': 20, '((7, 2, 0, 2),)': 12, '((4, 4, 6, 0),)': 9, '((0, 7, 2, 7),)': 12, '((0, 5, 1, 7),)': 11, '((7, 1, 5, 6),)': 21, '((0, 3, 5, 3),)': 6, '((7, 3, 2, 3),)': 11, '((4, 3, 2, 6),)': 11, '((4, 4, 5, 3),)': 10, '((7, 2, 2, 0),)': 9, '((5, 0, 2, 5),)': 8, '((7, 3, 6, 7),)': 16, '((7, 6, 2, 7),)': 30, '((2, 1, 5, 2),)': 14, '((5, 2, 0, 3),)': 13, '((5, 6, 1, 7),)': 15, '((0, 7, 5, 3),)': 7, '((2, 1, 1, 7),)': 14, '((1, 5, 2, 5),)': 10, '((7, 6, 1, 4),)': 18, '((5, 2, 7, 4),)': 12, '((7, 7, 4, 3),)': 12, '((2, 7, 6, 0),)': 4, '((0, 3, 3, 3),)': 9, '((5, 7, 0, 0),)': 28, '((6, 6, 4, 0),)': 23, '((0, 3, 1, 1),)': 10, '((3, 0, 1, 1),)': 15, '((5, 6, 0, 2),)': 8, '((7, 7, 4, 0),)': 26, '((2, 7, 4, 0),)': 18, '((0, 1, 6, 2),)': 12, '((7, 4, 4, 1),)': 10, '((1, 2, 7, 6),)': 11, '((6, 7, 7, 4),)': 13, '((2, 3, 4, 1),)': 23, '((2, 5, 1, 3),)': 10, '((1, 1, 4, 2),)': 11, '((1, 7, 7, 4),)': 8, '((5, 5, 7, 0),)': 12, '((4, 5, 6, 1),)': 10, '((2, 3, 3, 3),)': 17, '((1, 5, 0, 2),)': 12, '((3, 4, 5, 0),)': 8, '((1, 5, 4, 5),)': 12, '((3, 7, 5, 1),)': 14, '((2, 7, 0, 2),)': 18, '((6, 2, 6, 4),)': 6, '((6, 7, 3, 6),)': 16, '((0, 4, 7, 1),)': 14, '((4, 2, 3, 4),)': 15, '((5, 0, 0, 0),)': 20, '((0, 1, 5, 6),)': 8, '((5, 6, 0, 7),)': 9, '((7, 2, 2, 5),)': 8, '((7, 7, 3, 4),)': 9, '((0, 2, 0, 0),)': 26, '((0, 6, 7, 2),)': 11, '((4, 5, 5, 2),)': 8, '((0, 1, 2, 5),)': 13, '((0, 6, 5, 7),)': 25, '((6, 0, 5, 1),)': 4, '((4, 3, 5, 7),)': 8, '((5, 7, 7, 6),)': 17, '((6, 1, 2, 3),)': 9, '((7, 5, 5, 6),)': 16, '((7, 5, 7, 5),)': 10, '((7, 7, 0, 5),)': 9, '((5, 5, 6, 0),)': 5, '((5, 2, 2, 4),)': 15, '((4, 4, 3, 4),)': 9, '((6, 6, 0, 5),)': 21, '((4, 4, 1, 1),)': 12, '((0, 1, 5, 0),)': 18, '((1, 4, 1, 3),)': 6, '((6, 0, 0, 4),)': 17, '((7, 5, 6, 6),)': 23, '((5, 2, 6, 4),)': 8, '((4, 3, 4, 0),)': 13, '((1, 5, 6, 7),)': 18, '((0, 7, 2, 6),)': 4, '((7, 3, 3, 0),)': 7, '((4, 5, 5, 7),)': 6, '((2, 1, 7, 5),)': 7, '((4, 1, 2, 1),)': 5, '((7, 0, 6, 3),)': 3, '((7, 4, 1, 6),)': 12, '((6, 4, 0, 7),)': 18, '((5, 1, 1, 7),)': 12, '((0, 5, 4, 1),)': 11, '((2, 3, 6, 1),)': 9, '((6, 6, 6, 5),)': 11, '((3, 7, 2, 1),)': 8, '((0, 0, 0, 5),)': 25, '((5, 2, 3, 7),)': 6, '((5, 7, 3, 1),)': 10, '((6, 0, 5, 3),)': 4, '((0, 2, 2, 3),)': 10, '((3, 3, 6, 7),)': 8, '((2, 0, 7, 5),)': 7, '((1, 2, 6, 6),)': 18, '((3, 0, 7, 0),)': 9, '((1, 7, 5, 6),)': 15, '((3, 7, 0, 4),)': 16, '((7, 3, 3, 2),)': 9, '((2, 6, 4, 1),)': 16, '((0, 5, 2, 0),)': 8, '((3, 2, 1, 1),)': 9, '((6, 4, 6, 1),)': 11, '((0, 4, 6, 7),)': 20, '((2, 2, 0, 0),)': 6, '((5, 0, 1, 4),)': 7, '((5, 5, 0, 0),)': 5, '((2, 1, 7, 3),)': 3, '((0, 1, 2, 2),)': 5, '((5, 2, 0, 2),)': 16, '((3, 3, 2, 2),)': 7, '((5, 2, 5, 1),)': 8, '((6, 3, 0, 2),)': 6, '((0, 5, 6, 0),)': 13, '((2, 0, 7, 6),)': 7, '((5, 6, 7, 0),)': 16, '((6, 6, 1, 5),)': 15, '((1, 7, 6, 2),)': 12, '((0, 0, 2, 1),)': 13, '((2, 0, 3, 1),)': 12, '((2, 1, 1, 2),)': 13, '((3, 1, 6, 4),)': 6, '((5, 1, 1, 5),)': 8, '((6, 4, 5, 4),)': 6, '((1, 2, 6, 7),)': 18, '((6, 6, 2, 6),)': 13, '((4, 6, 1, 6),)': 11, '((4, 5, 4, 1),)': 5, '((2, 0, 2, 7),)': 4, '((7, 5, 7, 1),)': 17, '((1, 3, 4, 5),)': 14, '((1, 5, 3, 5),)': 5, '((0, 1, 3, 7),)': 21, '((7, 3, 1, 7),)': 12, '((0, 6, 5, 4),)': 6, '((2, 0, 5, 7),)': 18, '((1, 6, 3, 0),)': 12, '((1, 0, 2, 1),)': 12, '((4, 2, 3, 1),)': 17, '((1, 4, 5, 7),)': 8, '((3, 6, 5, 2),)': 6, '((0, 2, 2, 4),)': 15, '((7, 6, 5, 6),)': 15, '((5, 3, 7, 1),)': 8, '((6, 4, 7, 0),)': 12, '((4, 1, 1, 1),)': 21, '((0, 6, 2, 0),)': 15, '((1, 7, 0, 4),)': 19, '((4, 7, 5, 0),)': 5, '((0, 0, 6, 2),)': 7, '((3, 4, 1, 7),)': 6, '((4, 5, 2, 1),)': 11, '((1, 0, 6, 4),)': 19, '((0, 3, 1, 0),)': 14, '((5, 4, 1, 1),)': 13, '((3, 6, 6, 1),)': 10, '((6, 4, 7, 7),)': 22, '((6, 1, 0, 5),)': 8, '((1, 7, 4, 4),)': 8, '((0, 6, 2, 7),)': 15, '((3, 6, 4, 2),)': 8, '((2, 2, 3, 2),)': 21, '((4, 2, 5, 2),)': 8, '((2, 1, 4, 4),)': 8, '((2, 5, 6, 4),)': 8, '((0, 3, 0, 1),)': 16, '((4, 0, 3, 4),)': 5, '((2, 4, 5, 3),)': 7, '((3, 2, 7, 5),)': 6, '((6, 0, 4, 4),)': 4, '((3, 6, 0, 7),)': 14, '((5, 7, 6, 1),)': 21, '((6, 4, 1, 1),)': 15, '((7, 4, 1, 5),)': 8, '((3, 4, 5, 1),)': 7, '((6, 3, 1, 0),)': 11, '((3, 5, 4, 1),)': 11, '((1, 7, 5, 1),)': 18, '((5, 5, 3, 0),)': 8, '((0, 0, 1, 4),)': 20, '((1, 2, 0, 7),)': 15, '((1, 2, 0, 1),)': 18, '((7, 0, 4, 1),)': 19, '((7, 2, 3, 5),)': 10, '((2, 3, 1, 6),)': 9, '((3, 2, 0, 0),)': 6, '((4, 1, 3, 4),)': 7, '((1, 1, 2, 7),)': 17, '((5, 2, 5, 7),)': 9, '((3, 0, 2, 4),)': 19, '((6, 0, 3, 7),)': 15, '((2, 3, 2, 1),)': 19, '((5, 7, 7, 4),)': 10, '((6, 4, 3, 3),)': 6, '((1, 7, 2, 5),)': 10, '((4, 3, 7, 7),)': 5, '((4, 1, 0, 7),)': 19, '((2, 0, 0, 3),)': 10, '((1, 3, 7, 2),)': 5, '((1, 4, 6, 0),)': 15, '((0, 0, 2, 7),)': 15, '((2, 4, 7, 0),)': 10, '((7, 6, 5, 1),)': 20, '((3, 7, 5, 0),)': 7, '((6, 7, 2, 5),)': 10, '((2, 4, 0, 7),)': 9, '((1, 7, 4, 5),)': 16, '((2, 1, 0, 2),)': 16, '((4, 4, 6, 1),)': 13, '((7, 0, 6, 2),)': 7, '((0, 1, 5, 1),)': 16, '((0, 4, 7, 7),)': 7, '((1, 0, 4, 7),)': 16, '((1, 5, 7, 3),)': 6, '((7, 7, 4, 5),)': 14, '((2, 1, 1, 3),)': 14, '((4, 0, 3, 1),)': 6, '((4, 0, 2, 2),)': 7, '((3, 2, 4, 2),)': 11, '((3, 4, 0, 5),)': 12, '((0, 0, 7, 4),)': 10, '((0, 5, 4, 6),)': 9, '((7, 6, 6, 4),)': 11, '((0, 3, 0, 4),)': 12, '((6, 4, 2, 7),)': 13, '((3, 3, 6, 0),)': 11, '((0, 2, 5, 4),)': 6, '((5, 6, 1, 1),)': 22, '((2, 5, 7, 3),)': 9, '((1, 3, 1, 4),)': 14, '((7, 5, 0, 6),)': 25, '((5, 3, 1, 6),)': 3, '((5, 6, 1, 3),)': 14, '((4, 7, 0, 7),)': 14, '((2, 1, 1, 1),)': 21, '((6, 4, 6, 4),)': 9, '((1, 0, 0, 5),)': 23, '((0, 4, 2, 4),)': 11, '((4, 1, 4, 3),)': 10, '((6, 4, 2, 4),)': 5, '((0, 5, 3, 6),)': 9, '((0, 1, 7, 3),)': 8, '((6, 5, 0, 1),)': 16, '((5, 5, 7, 1),)': 10, '((7, 6, 5, 2),)': 15, '((4, 2, 5, 5),)': 13, '((2, 4, 2, 2),)': 11, '((2, 1, 2, 0),)': 13, '((3, 4, 4, 1),)': 10, '((6, 0, 0, 5),)': 22, '((2, 5, 2, 3),)': 10, '((2, 0, 6, 3),)': 6, '((4, 3, 2, 7),)': 3, '((6, 7, 3, 0),)': 14, '((5, 7, 6, 5),)': 13, '((7, 0, 5, 1),)': 10, '((4, 6, 2, 1),)': 13, '((0, 7, 0, 5),)': 18, '((7, 3, 5, 6),)': 13, '((4, 7, 6, 2),)': 14, '((0, 3, 0, 3),)': 7, '((0, 3, 3, 4),)': 13, '((0, 7, 2, 1),)': 19, '((7, 2, 6, 6),)': 16, '((3, 3, 5, 7),)': 6, '((2, 6, 6, 6),)': 10, '((3, 3, 7, 4),)': 7, '((2, 6, 3, 5),)': 10, '((3, 1, 0, 5),)': 3, '((2, 1, 7, 2),)': 8, '((5, 7, 0, 1),)': 23, '((5, 3, 1, 0),)': 5, '((1, 7, 3, 2),)': 11, '((7, 0, 6, 5),)': 16, '((1, 4, 4, 4),)': 12, '((6, 2, 3, 0),)': 9, '((7, 5, 6, 0),)': 18, '((1, 1, 2, 6),)': 15, '((2, 4, 3, 7),)': 6, '((5, 6, 4, 5),)': 3, '((4, 6, 0, 3),)': 7, '((5, 0, 6, 4),)': 10, '((4, 6, 0, 1),)': 9, '((2, 2, 1, 5),)': 11, '((2, 4, 1, 5),)': 5, '((6, 4, 0, 6),)': 12, '((0, 7, 5, 1),)': 9, '((3, 1, 7, 3),)': 6, '((2, 5, 0, 2),)': 19, '((0, 5, 3, 2),)': 7, '((0, 2, 5, 0),)': 9, '((1, 3, 5, 6),)': 10, '((5, 2, 7, 7),)': 7, '((4, 0, 0, 1),)': 20, '((1, 6, 4, 0),)': 20, '((0, 5, 0, 4),)': 10, '((5, 4, 7, 6),)': 15, '((7, 3, 2, 5),)': 8, '((2, 7, 2, 0),)': 16, '((1, 3, 1, 6),)': 20, '((5, 7, 3, 7),)': 10, '((2, 1, 1, 5),)': 11, '((3, 2, 2, 2),)': 18, '((7, 4, 4, 2),)': 11, '((7, 3, 0, 5),)': 12, '((3, 0, 3, 2),)': 9, '((3, 0, 1, 0),)': 13, '((7, 0, 0, 2),)': 10, '((3, 7, 1, 7),)': 9, '((6, 5, 3, 1),)': 21, '((4, 1, 4, 2),)': 10, '((2, 5, 5, 7),)': 14, '((4, 3, 5, 2),)': 13, '((0, 3, 7, 0),)': 12, '((0, 0, 3, 3),)': 5, '((4, 2, 4, 0),)': 10, '((4, 5, 6, 7),)': 9, '((2, 2, 5, 6),)': 7, '((4, 7, 4, 4),)': 12, '((4, 0, 5, 0),)': 5, '((3, 6, 1, 4),)': 6, '((4, 0, 4, 0),)': 10, '((0, 7, 5, 0),)': 23, '((6, 1, 6, 2),)': 10, '((0, 2, 1, 4),)': 13, '((4, 1, 7, 7),)': 7, '((6, 6, 0, 4),)': 21, '((5, 2, 5, 3),)': 8, '((5, 6, 3, 0),)': 7, '((1, 2, 7, 1),)': 14, '((7, 3, 7, 6),)': 24, '((4, 0, 0, 0),)': 24, '((5, 5, 5, 0),)': 9, '((4, 7, 5, 4),)': 5, '((3, 3, 1, 2),)': 6, '((4, 5, 4, 2),)': 10, '((5, 0, 4, 1),)': 9, '((3, 6, 2, 5),)': 10, '((4, 3, 1, 0),)': 11, '((6, 3, 6, 4),)': 7, '((5, 5, 1, 2),)': 15, '((6, 7, 5, 3),)': 12, '((3, 0, 1, 7),)': 15, '((6, 0, 3, 3),)': 7, '((4, 7, 0, 0),)': 18, '((4, 5, 4, 3),)': 9, '((1, 6, 2, 3),)': 5, '((2, 2, 0, 2),)': 14, '((3, 5, 7, 2),)': 11, '((4, 1, 0, 0),)': 17, '((1, 6, 3, 7),)': 13, '((0, 3, 2, 6),)': 9, '((3, 1, 2, 4),)': 12, '((6, 0, 4, 7),)': 13, '((3, 0, 3, 6),)': 6, '((1, 1, 4, 0),)': 15, '((2, 5, 5, 2),)': 17, '((4, 3, 0, 1),)': 11, '((4, 1, 4, 5),)': 8, '((5, 6, 5, 3),)': 8, '((0, 3, 7, 3),)': 6, '((4, 3, 5, 3),)': 10, '((7, 1, 5, 0),)': 19, '((2, 2, 0, 6),)': 8, '((5, 1, 2, 1),)': 10, '((2, 3, 5, 0),)': 13, '((4, 6, 7, 1),)': 7, '((7, 7, 7, 4),)': 11, '((1, 4, 5, 6),)': 9, '((7, 5, 5, 4),)': 10, '((4, 4, 4, 1),)': 10, '((0, 5, 6, 6),)': 16, '((6, 6, 3, 0),)': 14, '((5, 5, 3, 5),)': 5, '((6, 0, 7, 5),)': 10, '((4, 2, 2, 0),)': 9, '((5, 3, 4, 0),)': 10, '((7, 1, 2, 6),)': 16, '((0, 0, 6, 5),)': 13, '((3, 5, 6, 1),)': 15, '((3, 6, 3, 4),)': 8, '((1, 1, 3, 5),)': 15, '((6, 0, 5, 0),)': 6, '((2, 4, 7, 6),)': 7, '((7, 0, 1, 4),)': 12, '((4, 6, 3, 7),)': 9, '((4, 3, 6, 1),)': 11, '((7, 5, 0, 0),)': 24, '((5, 2, 1, 3),)': 12, '((5, 1, 7, 7),)': 12, '((5, 4, 1, 5),)': 6, '((3, 2, 4, 0),)': 10, '((0, 3, 7, 4),)': 8, '((2, 4, 1, 6),)': 7, '((3, 4, 1, 3),)': 12, '((3, 1, 4, 0),)': 5, '((3, 2, 1, 7),)': 10, '((3, 1, 0, 2),)': 19, '((6, 5, 4, 1),)': 8, '((6, 1, 5, 6),)': 16, '((2, 0, 6, 2),)': 4, '((3, 4, 1, 6),)': 1, '((0, 5, 3, 0),)': 12, '((6, 1, 4, 1),)': 21, '((0, 1, 2, 7),)': 13, '((7, 5, 5, 7),)': 13, '((1, 3, 0, 6),)': 14, '((6, 2, 7, 2),)': 3, '((2, 1, 2, 2),)': 17, '((3, 0, 5, 1),)': 11, '((7, 2, 7, 0),)': 9, '((7, 6, 6, 2),)': 15, '((7, 6, 0, 5),)': 16, '((6, 2, 7, 0),)': 10, '((7, 6, 3, 1),)': 21, '((3, 4, 3, 6),)': 9, '((6, 7, 5, 4),)': 4, '((2, 2, 7, 3),)': 8, '((2, 1, 2, 4),)': 18, '((3, 7, 7, 4),)': 7, '((1, 7, 5, 0),)': 16, '((1, 1, 3, 6),)': 15, '((6, 6, 7, 4),)': 12, '((2, 7, 1, 7),)': 11, '((6, 3, 2, 2),)': 5, '((2, 0, 2, 2),)': 10, '((7, 6, 2, 0),)': 18, '((7, 4, 1, 1),)': 15, '((2, 2, 0, 3),)': 12, '((2, 3, 4, 7),)': 10, '((2, 2, 2, 7),)': 9, '((6, 2, 2, 4),)': 8, '((2, 2, 6, 5),)': 11, '((2, 6, 6, 2),)': 6, '((7, 2, 2, 6),)': 6, '((5, 3, 1, 4),)': 19, '((2, 5, 3, 4),)': 10, '((4, 0, 4, 7),)': 5, '((2, 4, 5, 7),)': 10, '((7, 6, 1, 5),)': 20, '((5, 1, 5, 3),)': 12, '((0, 2, 3, 0),)': 10, '((0, 0, 7, 5),)': 17, '((1, 2, 4, 5),)': 16, '((3, 6, 2, 3),)': 10, '((1, 6, 5, 0),)': 17, '((1, 6, 5, 6),)': 12, '((2, 0, 5, 1),)': 8, '((5, 0, 5, 1),)': 9, '((6, 2, 2, 3),)': 9, '((5, 2, 1, 2),)': 6, '((1, 3, 5, 4),)': 7, '((6, 5, 3, 6),)': 10, '((7, 4, 7, 7),)': 21, '((0, 7, 4, 2),)': 7, '((1, 3, 0, 2),)': 13, '((6, 2, 6, 1),)': 13, '((5, 1, 6, 6),)': 12, '((5, 6, 7, 7),)': 14, '((4, 0, 4, 3),)': 9, '((4, 6, 7, 0),)': 7, '((7, 0, 4, 0),)': 3, '((4, 6, 2, 0),)': 12, '((1, 5, 5, 3),)': 6, '((1, 5, 1, 1),)': 27, '((7, 4, 2, 7),)': 9, '((2, 7, 1, 0),)': 20, '((6, 1, 4, 6),)': 12, '((1, 4, 1, 6),)': 12, '((1, 5, 3, 4),)': 13, '((1, 3, 6, 6),)': 20, '((6, 6, 0, 3),)': 18, '((3, 3, 6, 3),)': 9, '((2, 7, 4, 2),)': 9, '((7, 1, 1, 3),)': 18, '((3, 1, 7, 6),)': 10, '((1, 2, 1, 3),)': 5, '((1, 3, 6, 1),)': 13, '((7, 7, 2, 1),)': 5, '((4, 6, 6, 5),)': 3, '((0, 2, 5, 2),)': 9, '((1, 7, 5, 2),)': 8, '((1, 5, 7, 0),)': 8, '((0, 4, 6, 6),)': 9, '((7, 1, 7, 4),)': 5, '((6, 1, 1, 4),)': 13, '((6, 3, 7, 7),)': 9, '((1, 2, 1, 0),)': 13, '((4, 3, 5, 0),)': 10, '((1, 1, 2, 0),)': 19, '((0, 2, 7, 2),)': 8, '((3, 7, 7, 7),)': 10, '((2, 1, 3, 2),)': 21, '((6, 4, 5, 3),)': 12, '((2, 7, 5, 0),)': 11, '((4, 5, 1, 4),)': 12, '((0, 4, 3, 1),)': 15, '((6, 1, 2, 6),)': 19, '((6, 3, 6, 7),)': 16, '((3, 4, 2, 1),)': 13, '((5, 0, 1, 3),)': 8, '((0, 7, 5, 7),)': 21, '((5, 5, 7, 7),)': 11, '((2, 5, 3, 6),)': 11, '((1, 4, 3, 3),)': 9, '((3, 5, 0, 4),)': 9, '((4, 5, 7, 6),)': 8, '((1, 1, 3, 1),)': 21, '((1, 1, 0, 4),)': 17, '((1, 5, 3, 0),)': 6, '((0, 0, 2, 3),)': 2, '((3, 6, 1, 1),)': 11, '((0, 4, 2, 0),)': 6, '((3, 6, 1, 6),)': 11, '((3, 5, 6, 5),)': 6, '((3, 7, 1, 0),)': 13, '((4, 1, 3, 1),)': 13, '((4, 5, 6, 4),)': 5, '((3, 2, 1, 2),)': 20, '((6, 6, 4, 3),)': 6, '((7, 4, 3, 0),)': 10, '((2, 5, 5, 6),)': 9, '((3, 3, 3, 6),)': 5, '((4, 1, 1, 0),)': 11, '((2, 0, 4, 7),)': 7, '((5, 3, 0, 1),)': 9, '((3, 2, 0, 4),)': 8, '((4, 7, 4, 5),)': 9, '((1, 4, 0, 7),)': 17, '((5, 0, 3, 4),)': 10, '((1, 0, 4, 4),)': 12, '((2, 1, 0, 7),)': 10, '((2, 1, 7, 1),)': 9, '((6, 4, 0, 0),)': 15, '((2, 7, 2, 7),)': 2, '((5, 7, 6, 3),)': 9, '((4, 0, 0, 2),)': 5, '((7, 2, 2, 2),)': 7, '((7, 0, 2, 5),)': 10, '((4, 7, 0, 4),)': 13, '((0, 5, 5, 4),)': 6, '((1, 7, 4, 7),)': 22, '((2, 7, 2, 4),)': 10, '((5, 7, 0, 4),)': 16, '((3, 0, 1, 3),)': 7, '((1, 0, 4, 3),)': 8, '((6, 6, 7, 3),)': 15, '((7, 7, 6, 3),)': 16, '((2, 4, 2, 3),)': 10, '((6, 6, 3, 4),)': 9, '((5, 4, 5, 7),)': 6, '((4, 1, 6, 0),)': 8, '((4, 0, 1, 1),)': 16, '((2, 5, 6, 5),)': 12, '((2, 0, 3, 6),)': 8, '((1, 4, 2, 4),)': 12, '((5, 2, 6, 1),)': 9, '((4, 2, 0, 4),)': 11, '((6, 4, 6, 0),)': 12, '((7, 5, 4, 0),)': 10, '((0, 4, 0, 3),)': 10, '((2, 5, 3, 3),)': 10, '((7, 1, 2, 3),)': 5, '((0, 3, 4, 5),)': 10, '((1, 0, 4, 1),)': 10, '((3, 4, 1, 4),)': 6, '((4, 6, 4, 4),)': 4, '((3, 5, 1, 6),)': 17, '((4, 1, 6, 7),)': 15, '((0, 5, 7, 4),)': 11, '((7, 6, 2, 5),)': 11, '((1, 1, 2, 1),)': 23, '((1, 7, 4, 1),)': 29, '((4, 2, 2, 3),)': 16, '((4, 0, 1, 7),)': 20, '((7, 3, 3, 6),)': 8, '((7, 5, 5, 1),)': 13, '((4, 5, 1, 7),)': 13, '((2, 6, 2, 5),)': 12, '((2, 3, 2, 2),)': 22, '((2, 0, 3, 3),)': 13, '((7, 2, 7, 1),)': 17, '((5, 1, 3, 0),)': 14, '((5, 1, 4, 4),)': 4, '((4, 3, 7, 5),)': 5, '((5, 6, 0, 1),)': 24, '((1, 0, 3, 5),)': 9, '((2, 0, 0, 6),)': 20, '((3, 7, 3, 4),)': 11, '((2, 7, 5, 6),)': 9, '((0, 4, 7, 4),)': 8, '((4, 2, 3, 3),)': 14, '((5, 2, 4, 6),)': 4, '((1, 2, 2, 2),)': 23, '((4, 1, 5, 1),)': 15, '((2, 3, 7, 6),)': 7, '((7, 4, 7, 0),)': 11, '((5, 1, 2, 2),)': 15, '((4, 0, 7, 1),)': 11, '((5, 1, 3, 4),)': 8, '((3, 7, 6, 4),)': 6, '((5, 2, 3, 4),)': 7, '((0, 3, 3, 5),)': 8, '((2, 2, 3, 4),)': 20, '((2, 2, 4, 5),)': 11, '((5, 5, 3, 7),)': 10, '((6, 7, 6, 4),)': 15, '((7, 5, 6, 3),)': 7, '((6, 3, 1, 7),)': 17, '((6, 2, 0, 1),)': 10, '((1, 1, 1, 5),)': 21, '((5, 2, 2, 0),)': 3, '((7, 6, 3, 0),)': 19, '((0, 2, 6, 0),)': 25, '((5, 7, 5, 2),)': 5, '((3, 1, 1, 4),)': 13, '((0, 2, 1, 7),)': 13, '((4, 6, 6, 7),)': 10, '((1, 0, 1, 2),)': 13, '((0, 4, 0, 6),)': 12, '((4, 3, 2, 2),)': 7, '((5, 5, 7, 3),)': 10, '((1, 0, 3, 7),)': 23, '((4, 4, 4, 2),)': 12, '((3, 0, 2, 2),)': 12, '((0, 2, 3, 4),)': 13, '((2, 7, 0, 6),)': 12, '((4, 2, 0, 5),)': 12, '((3, 0, 3, 3),)': 9, '((4, 3, 3, 2),)': 13, '((0, 6, 1, 3),)': 14, '((3, 1, 3, 5),)': 12, '((6, 5, 6, 7),)': 25, '((7, 3, 6, 5),)': 15, '((6, 4, 5, 0),)': 10, '((0, 2, 6, 2),)': 10, '((5, 1, 2, 6),)': 5, '((4, 6, 6, 0),)': 9, '((7, 3, 7, 7),)': 25, '((2, 4, 4, 6),)': 7, '((3, 5, 1, 3),)': 8, '((3, 1, 7, 7),)': 7, '((3, 5, 1, 4),)': 11, '((3, 3, 2, 1),)': 11, '((2, 7, 2, 6),)': 9, '((4, 6, 5, 0),)': 5, '((5, 1, 7, 2),)': 8, '((1, 5, 7, 1),)': 21, '((0, 6, 4, 0),)': 26, '((7, 1, 2, 1),)': 15, '((6, 3, 7, 0),)': 12, '((6, 1, 3, 6),)': 14, '((4, 4, 2, 1),)': 18, '((1, 2, 2, 7),)': 10, '((2, 4, 5, 0),)': 9, '((6, 7, 1, 4),)': 10, '((5, 6, 7, 3),)': 6, '((6, 4, 5, 5),)': 5, '((7, 5, 7, 6),)': 17, '((2, 1, 3, 1),)': 17, '((5, 3, 3, 4),)': 5, '((6, 6, 4, 1),)': 24, '((4, 0, 6, 7),)': 18, '((5, 2, 3, 3),)': 12, '((4, 5, 0, 4),)': 7, '((0, 4, 3, 4),)': 14, '((4, 4, 0, 0),)': 9, '((3, 7, 1, 4),)': 6, '((2, 1, 5, 1),)': 13, '((4, 7, 1, 6),)': 17, '((2, 2, 1, 1),)': 13, '((7, 3, 2, 6),)': 7, '((0, 1, 5, 4),)': 8, '((7, 7, 2, 0),)': 12, '((4, 3, 2, 3),)': 20, '((1, 5, 6, 0),)': 18, '((5, 4, 4, 2),)': 9, '((0, 7, 3, 6),)': 12, '((0, 4, 4, 6),)': 8, '((3, 3, 4, 2),)': 7, '((4, 7, 6, 1),)': 18, '((6, 3, 5, 1),)': 4, '((3, 3, 5, 5),)': 12, '((4, 7, 3, 7),)': 15, '((5, 5, 0, 4),)': 7, '((4, 3, 3, 4),)': 9, '((7, 6, 6, 5),)': 14, '((1, 6, 0, 5),)': 7, '((5, 0, 1, 0),)': 27, '((7, 6, 4, 7),)': 30, '((6, 5, 1, 5),)': 13, '((3, 5, 2, 5),)': 7, '((6, 5, 7, 7),)': 23, '((3, 1, 4, 6),)': 5, '((6, 6, 1, 2),)': 4, '((6, 7, 4, 4),)': 11, '((2, 6, 6, 3),)': 8, '((3, 5, 6, 2),)': 9, '((6, 7, 7, 5),)': 23, '((4, 1, 7, 0),)': 7, '((1, 7, 4, 3),)': 6, '((2, 5, 2, 1),)': 21, '((5, 0, 0, 4),)': 13, '((6, 2, 7, 3),)': 10, '((3, 0, 2, 6),)': 2, '((4, 6, 4, 6),)': 10, '((7, 7, 0, 2),)': 9, '((4, 2, 2, 5),)': 13, '((6, 5, 6, 5),)': 14, '((4, 6, 1, 7),)': 8, '((4, 1, 2, 5),)': 4, '((6, 5, 4, 7),)': 9, '((1, 3, 7, 7),)': 9, '((2, 2, 6, 2),)': 7, '((5, 7, 6, 6),)': 21, '((1, 4, 5, 0),)': 9, '((1, 3, 4, 4),)': 16, '((5, 4, 2, 5),)': 5, '((3, 3, 1, 0),)': 7, '((3, 7, 0, 1),)': 20, '((3, 5, 2, 2),)': 12, '((4, 2, 7, 5),)': 9, '((7, 4, 6, 6),)': 17, '((5, 4, 3, 5),)': 8, '((0, 5, 2, 7),)': 7, '((5, 1, 3, 3),)': 11, '((6, 6, 4, 7),)': 19, '((2, 2, 1, 6),)': 8, '((1, 7, 7, 5),)': 17, '((3, 6, 0, 2),)': 12, '((2, 7, 5, 4),)': 3, '((0, 0, 0, 3),)': 24, '((3, 7, 7, 2),)': 3, '((1, 4, 7, 0),)': 17, '((6, 6, 5, 3),)': 7, '((2, 2, 0, 4),)': 8, '((4, 4, 7, 4),)': 5, '((2, 6, 1, 0),)': 22, '((0, 5, 2, 4),)': 14, '((1, 6, 3, 6),)': 7, '((1, 4, 1, 0),)': 21, '((6, 7, 5, 1),)': 13, '((0, 1, 4, 7),)': 22, '((1, 2, 5, 2),)': 12, '((2, 0, 0, 2),)': 13, '((1, 3, 4, 3),)': 14, '((4, 7, 1, 5),)': 13, '((7, 6, 0, 4),)': 12, '((2, 5, 7, 0),)': 8, '((0, 5, 2, 1),)': 11, '((3, 7, 7, 3),)': 8, '((1, 1, 5, 7),)': 15, '((6, 0, 3, 2),)': 5, '((1, 2, 3, 6),)': 6, '((3, 4, 3, 2),)': 13, '((0, 1, 4, 1),)': 7, '((7, 6, 4, 1),)': 27, '((1, 6, 4, 5),)': 13, '((1, 5, 0, 6),)': 15, '((0, 6, 7, 3),)': 9, '((7, 7, 2, 6),)': 17, '((5, 6, 7, 1),)': 15, '((5, 1, 3, 1),)': 10, '((5, 1, 5, 4),)': 7, '((1, 5, 2, 3),)': 9, '((2, 6, 1, 5),)': 10, '((2, 2, 7, 2),)': 9, '((4, 3, 6, 6),)': 3, '((1, 4, 5, 4),)': 5, '((5, 6, 6, 1),)': 14, '((3, 5, 6, 6),)': 11, '((7, 5, 2, 2),)': 13, '((7, 5, 1, 2),)': 17, '((1, 6, 2, 0),)': 17, '((3, 2, 7, 7),)': 4, '((5, 7, 1, 1),)': 17, '((1, 1, 3, 2),)': 9, '((5, 2, 5, 2),)': 8, '((1, 4, 2, 3),)': 10, '((2, 3, 6, 6),)': 11, '((6, 4, 5, 1),)': 9, '((2, 2, 7, 4),)': 5, '((0, 3, 1, 7),)': 9, '((4, 6, 3, 1),)': 9, '((1, 4, 5, 5),)': 9, '((4, 5, 2, 2),)': 13, '((6, 5, 3, 2),)': 10, '((0, 4, 0, 1),)': 18, '((7, 4, 6, 5),)': 11, '((1, 7, 4, 6),)': 12, '((2, 0, 3, 0),)': 2, '((7, 0, 4, 3),)': 2, '((2, 0, 0, 1),)': 17, '((4, 6, 6, 3),)': 4, '((3, 0, 4, 3),)': 8, '((3, 1, 2, 2),)': 17, '((1, 5, 2, 7),)': 9, '((4, 0, 6, 1),)': 10, '((2, 6, 3, 0),)': 9, '((0, 6, 0, 3),)': 12, '((4, 4, 3, 5),)': 7, '((0, 1, 3, 0),)': 18, '((3, 6, 4, 5),)': 7, '((2, 3, 7, 1),)': 14, '((0, 3, 2, 2),)': 8, '((0, 3, 0, 0),)': 21, '((4, 3, 4, 2),)': 6, '((5, 2, 4, 7),)': 6, '((5, 7, 5, 0),)': 6, '((3, 3, 7, 1),)': 6, '((3, 0, 1, 5),)': 11, '((1, 2, 3, 3),)': 13, '((3, 6, 0, 1),)': 11, '((2, 4, 7, 5),)': 5, '((4, 1, 2, 3),)': 11, '((1, 1, 1, 2),)': 21, '((7, 3, 2, 4),)': 10, '((4, 5, 0, 2),)': 7, '((6, 4, 1, 2),)': 8, '((1, 1, 7, 4),)': 16, '((4, 0, 0, 6),)': 16, '((4, 4, 2, 3),)': 11, '((0, 2, 5, 6),)': 5, '((0, 1, 1, 3),)': 12, '((1, 2, 6, 5),)': 7, '((3, 4, 3, 1),)': 14, '((7, 5, 5, 2),)': 11, '((5, 4, 7, 2),)': 5, '((3, 0, 7, 7),)': 6, '((0, 1, 3, 5),)': 11, '((3, 4, 5, 3),)': 7, '((4, 4, 7, 3),)': 6, '((7, 1, 0, 4),)': 12, '((2, 7, 5, 7),)': 9, '((0, 7, 4, 7),)': 16, '((1, 7, 3, 5),)': 9, '((5, 7, 5, 1),)': 13, '((7, 7, 1, 4),)': 12, '((0, 1, 3, 4),)': 16, '((5, 7, 1, 3),)': 15, '((3, 7, 2, 2),)': 10, '((2, 4, 7, 2),)': 11, '((5, 5, 7, 6),)': 9, '((0, 6, 3, 1),)': 8, '((1, 6, 4, 2),)': 10, '((2, 3, 1, 1),)': 13, '((1, 6, 3, 1),)': 14, '((1, 3, 6, 5),)': 11, '((1, 1, 0, 5),)': 16, '((6, 1, 6, 4),)': 9, '((0, 1, 5, 5),)': 5, '((3, 1, 1, 5),)': 11, '((4, 1, 6, 2),)': 6, '((4, 5, 7, 0),)': 6, '((5, 1, 4, 5),)': 6, '((3, 7, 4, 5),)': 9, '((7, 5, 1, 0),)': 11, '((0, 2, 2, 6),)': 10, '((4, 7, 6, 7),)': 14, '((5, 3, 6, 3),)': 6, '((7, 4, 1, 2),)': 10, '((1, 2, 3, 1),)': 17, '((6, 7, 2, 6),)': 16, '((6, 2, 7, 6),)': 9, '((4, 7, 2, 5),)': 8, '((1, 3, 0, 0),)': 12, '((7, 7, 2, 3),)': 10, '((7, 2, 7, 4),)': 6, '((5, 0, 5, 7),)': 17, '((3, 5, 7, 7),)': 5, '((4, 3, 1, 2),)': 9, '((6, 2, 5, 6),)': 8, '((1, 2, 6, 4),)': 10, '((2, 5, 0, 0),)': 14, '((3, 1, 4, 1),)': 9, '((3, 5, 5, 4),)': 7, '((1, 2, 4, 7),)': 18, '((6, 3, 2, 4),)': 10, '((0, 0, 0, 4),)': 44, '((7, 5, 3, 6),)': 9, '((7, 6, 1, 3),)': 9, '((3, 2, 0, 2),)': 13, '((5, 5, 2, 6),)': 6, '((2, 1, 2, 3),)': 13, '((3, 4, 7, 4),)': 7, '((3, 5, 7, 3),)': 14, '((7, 0, 2, 3),)': 4, '((6, 7, 1, 3),)': 11, '((5, 6, 2, 1),)': 9, '((7, 6, 2, 6),)': 17, '((3, 1, 2, 3),)': 11, '((6, 5, 1, 4),)': 5, '((4, 4, 3, 7),)': 10, '((4, 3, 4, 1),)': 11, '((4, 4, 4, 5),)': 6, '((4, 3, 1, 3),)': 11, '((2, 0, 6, 6),)': 11, '((2, 5, 3, 1),)': 9, '((1, 4, 3, 6),)': 5, '((2, 3, 1, 0),)': 9, '((6, 7, 1, 5),)': 23, '((6, 0, 6, 5),)': 10, '((0, 0, 4, 7),)': 13, '((3, 4, 3, 4),)': 11, '((1, 5, 2, 1),)': 10, '((5, 4, 6, 1),)': 7, '((7, 3, 1, 2),)': 19, '((3, 5, 3, 2),)': 12, '((4, 2, 3, 6),)': 13, '((1, 2, 6, 1),)': 15, '((7, 4, 6, 4),)': 11, '((1, 6, 7, 2),)': 3, '((4, 6, 5, 2),)': 9, '((0, 2, 4, 1),)': 13, '((5, 1, 2, 5),)': 8, '((1, 3, 2, 0),)': 9, '((2, 5, 6, 3),)': 3, '((2, 5, 6, 0),)': 10, '((1, 3, 3, 2),)': 16, '((7, 3, 6, 2),)': 10, '((7, 2, 1, 5),)': 9, '((2, 2, 2, 3),)': 23, '((7, 4, 4, 6),)': 5, '((6, 5, 7, 1),)': 13, '((6, 3, 0, 0),)': 11, '((6, 6, 6, 3),)': 15, '((2, 6, 2, 6),)': 10, '((0, 5, 4, 3),)': 8, '((7, 4, 0, 1),)': 15, '((4, 2, 5, 1),)': 15, '((2, 4, 2, 5),)': 8, '((4, 3, 7, 4),)': 7, '((4, 3, 3, 1),)': 16, '((1, 6, 5, 1),)': 21, '((1, 3, 7, 6),)': 10, '((6, 7, 5, 0),)': 18, '((3, 5, 4, 2),)': 11, '((3, 1, 1, 6),)': 17, '((0, 3, 5, 1),)': 5, '((3, 1, 5, 6),)': 12, '((5, 2, 6, 0),)': 8, '((6, 4, 3, 1),)': 14, '((3, 5, 1, 0),)': 10, '((4, 4, 0, 7),)': 11, '((7, 1, 5, 1),)': 23, '((2, 0, 7, 1),)': 7, '((2, 3, 3, 4),)': 17, '((6, 6, 2, 3),)': 9, '((3, 5, 5, 5),)': 4, '((5, 3, 2, 3),)': 8, '((4, 3, 5, 5),)': 8, '((4, 1, 5, 2),)': 6, '((6, 7, 2, 7),)': 15, '((1, 5, 7, 4),)': 6, '((0, 7, 7, 5),)': 11, '((4, 3, 4, 6),)': 7, '((2, 3, 3, 6),)': 17, '((0, 1, 3, 1),)': 13, '((4, 7, 1, 2),)': 14, '((0, 2, 3, 7),)': 10, '((1, 2, 5, 7),)': 15, '((5, 2, 2, 7),)': 14, '((4, 4, 3, 2),)': 7, '((1, 7, 3, 0),)': 19, '((5, 7, 0, 2),)': 12, '((7, 7, 3, 0),)': 22, '((2, 1, 7, 4),)': 12, '((2, 2, 5, 1),)': 19, '((6, 3, 7, 3),)': 9, '((4, 3, 7, 2),)': 10, '((5, 6, 7, 6),)': 14, '((5, 2, 7, 0),)': 5, '((7, 2, 0, 0),)': 9, '((7, 3, 4, 1),)': 9, '((1, 1, 4, 7),)': 18, '((5, 6, 3, 1),)': 8, '((5, 6, 6, 4),)': 4, '((0, 4, 4, 7),)': 14, '((2, 2, 1, 4),)': 11, '((3, 1, 4, 2),)': 13, '((1, 7, 6, 4),)': 14, '((2, 4, 0, 0),)': 10, '((3, 0, 7, 1),)': 10, '((1, 1, 2, 5),)': 10, '((1, 4, 7, 7),)': 10, '((6, 3, 2, 0),)': 8, '((6, 0, 3, 6),)': 8, '((7, 0, 3, 3),)': 6, '((2, 7, 4, 1),)': 12, '((6, 2, 0, 5),)': 6, '((0, 1, 6, 5),)': 15, '((6, 6, 3, 1),)': 16, '((5, 0, 6, 2),)': 7, '((5, 4, 4, 3),)': 7, '((6, 3, 0, 7),)': 16, '((7, 1, 0, 2),)': 12, '((2, 5, 1, 5),)': 8, '((3, 5, 3, 7),)': 10, '((3, 7, 7, 1),)': 5, '((3, 0, 7, 6),)': 4, '((2, 5, 3, 2),)': 12, '((1, 1, 4, 3),)': 9, '((6, 7, 5, 6),)': 19, '((5, 0, 5, 4),)': 8, '((3, 0, 6, 3),)': 3, '((5, 0, 7, 3),)': 7, '((2, 6, 1, 2),)': 17, '((2, 7, 4, 5),)': 14, '((3, 7, 4, 4),)': 6, '((1, 7, 5, 7),)': 19, '((4, 5, 3, 7),)': 7, '((4, 5, 3, 1),)': 12, '((3, 0, 4, 4),)': 8, '((3, 0, 4, 0),)': 3, '((7, 1, 3, 6),)': 18, '((1, 3, 3, 4),)': 14, '((0, 3, 5, 4),)': 5, '((3, 2, 3, 5),)': 9, '((2, 3, 1, 4),)': 14, '((0, 5, 0, 5),)': 7, '((3, 5, 1, 1),)': 10, '((5, 3, 0, 5),)': 4, '((4, 4, 1, 0),)': 10, '((3, 4, 7, 7),)': 5, '((2, 7, 6, 1),)': 9, '((4, 0, 7, 4),)': 7, '((3, 0, 0, 6),)': 20, '((5, 7, 7, 7),)': 20, '((6, 4, 3, 2),)': 11, '((5, 4, 7, 3),)': 8, '((1, 6, 3, 2),)': 7, '((1, 0, 1, 5),)': 9, '((3, 0, 2, 3),)': 7, '((4, 7, 5, 1),)': 9, '((4, 7, 2, 3),)': 6, '((2, 6, 0, 6),)': 18, '((7, 7, 2, 4),)': 15, '((6, 5, 0, 6),)': 10, '((5, 6, 6, 7),)': 15, '((0, 7, 6, 2),)': 13, '((7, 5, 7, 3),)': 5, '((4, 4, 6, 7),)': 7, '((0, 3, 1, 6),)': 10, '((5, 2, 0, 6),)': 7, '((7, 4, 7, 3),)': 6, '((4, 0, 0, 5),)': 3, '((0, 2, 6, 6),)': 23, '((5, 4, 1, 4),)': 5, '((7, 4, 0, 5),)': 10, '((4, 1, 0, 4),)': 12, '((6, 0, 2, 1),)': 9, '((6, 4, 7, 4),)': 6, '((0, 4, 3, 7),)': 8, '((3, 1, 5, 7),)': 5, '((7, 1, 1, 4),)': 11, '((1, 6, 0, 3),)': 12, '((5, 7, 3, 6),)': 14, '((4, 7, 4, 7),)': 9, '((6, 6, 3, 7),)': 23, '((4, 4, 2, 0),)': 11, '((0, 3, 0, 7),)': 15, '((1, 1, 2, 4),)': 8, '((6, 2, 5, 2),)': 11, '((5, 0, 6, 3),)': 6, '((2, 5, 4, 2),)': 13, '((4, 3, 2, 1),)': 18, '((0, 2, 5, 5),)': 8, '((5, 6, 1, 0),)': 19, '((4, 5, 6, 6),)': 4, '((2, 0, 0, 4),)': 11, '((7, 4, 4, 7),)': 15, '((3, 2, 3, 2),)': 13, '((4, 1, 4, 6),)': 8, '((4, 1, 3, 0),)': 7, '((5, 5, 1, 1),)': 14, '((2, 0, 6, 1),)': 14, '((0, 0, 5, 5),)': 8, '((6, 2, 6, 5),)': 6, '((5, 5, 6, 7),)': 9, '((2, 6, 6, 7),)': 13, '((4, 4, 0, 2),)': 9, '((5, 4, 2, 7),)': 5, '((6, 6, 5, 6),)': 12, '((4, 1, 0, 3),)': 7, '((5, 6, 3, 2),)': 9, '((2, 6, 5, 0),)': 7, '((3, 4, 6, 7),)': 10, '((5, 2, 0, 0),)': 10, '((1, 3, 2, 2),)': 9, '((1, 5, 5, 5),)': 8, '((2, 1, 4, 7),)': 6, '((0, 5, 0, 0),)': 34, '((7, 2, 7, 5),)': 7, '((3, 2, 1, 0),)': 2, '((4, 0, 5, 5),)': 5, '((6, 0, 0, 2),)': 7, '((3, 3, 7, 6),)': 4, '((4, 5, 3, 2),)': 9, '((1, 2, 3, 2),)': 18, '((4, 0, 4, 2),)': 4, '((3, 0, 2, 0),)': 5, '((1, 3, 2, 4),)': 13, '((2, 5, 5, 0),)': 10, '((7, 1, 2, 0),)': 9, '((7, 0, 3, 4),)': 11, '((2, 1, 5, 3),)': 11, '((0, 5, 2, 6),)': 14, '((4, 6, 4, 0),)': 12, '((2, 5, 5, 3),)': 13, '((4, 6, 7, 3),)': 6, '((5, 7, 4, 4),)': 7, '((5, 0, 5, 5),)': 2, '((6, 5, 4, 4),)': 6, '((0, 6, 2, 2),)': 6, '((0, 6, 5, 6),)': 19, '((3, 1, 3, 1),)': 8, '((1, 6, 1, 2),)': 19, '((3, 2, 5, 7),)': 7, '((2, 1, 5, 6),)': 9, '((2, 1, 5, 4),)': 7, '((5, 5, 4, 6),)': 7, '((0, 5, 6, 2),)': 6, '((6, 3, 6, 6),)': 15, '((3, 5, 0, 7),)': 11, '((5, 7, 2, 5),)': 9, '((0, 3, 4, 6),)': 9, '((6, 3, 7, 4),)': 7, '((5, 6, 3, 6),)': 8, '((4, 0, 2, 5),)': 6, '((4, 0, 5, 3),)': 5, '((1, 0, 7, 5),)': 12, '((7, 4, 1, 4),)': 8, '((2, 3, 4, 4),)': 10, '((2, 3, 0, 7),)': 20, '((6, 4, 1, 6),)': 9, '((3, 5, 6, 3),)': 5, '((2, 4, 3, 5),)': 8, '((2, 3, 2, 0),)': 16, '((5, 4, 0, 3),)': 10, '((6, 4, 2, 6),)': 10, '((2, 5, 0, 1),)': 14, '((6, 7, 4, 0),)': 11, '((4, 0, 1, 0),)': 20, '((4, 3, 7, 3),)': 8, '((1, 3, 3, 0),)': 12, '((1, 1, 3, 0),)': 11, '((7, 3, 6, 4),)': 8, '((1, 7, 5, 4),)': 10, '((5, 0, 5, 0),)': 3, '((3, 3, 3, 0),)': 14, '((0, 2, 5, 1),)': 12, '((4, 0, 6, 2),)': 7, '((7, 6, 5, 0),)': 20, '((6, 6, 2, 4),)': 12, '((6, 6, 2, 2),)': 9, '((7, 1, 3, 0),)': 9, '((7, 2, 7, 3),)': 4, '((4, 6, 2, 4),)': 10, '((1, 0, 5, 0),)': 21, '((6, 6, 1, 3),)': 11, '((0, 5, 4, 0),)': 4, '((3, 4, 1, 1),)': 6, '((3, 0, 0, 4),)': 13, '((2, 0, 6, 5),)': 7, '((2, 0, 0, 5),)': 13, '((3, 2, 1, 5),)': 11, '((0, 2, 7, 1),)': 14, '((4, 6, 0, 7),)': 13, '((5, 2, 4, 1),)': 11, '((2, 6, 7, 4),)': 5, '((1, 2, 3, 0),)': 16, '((2, 0, 7, 7),)': 10, '((5, 3, 0, 7),)': 17, '((2, 1, 3, 0),)': 8, '((7, 5, 0, 4),)': 12, '((7, 5, 2, 1),)': 8, '((7, 4, 0, 7),)': 24, '((6, 4, 0, 4),)': 8, '((4, 2, 4, 2),)': 9, '((5, 3, 6, 7),)': 11, '((5, 6, 3, 3),)': 5, '((3, 6, 1, 5),)': 6, '((1, 1, 5, 5),)': 7, '((0, 0, 1, 5),)': 20, '((5, 7, 3, 2),)': 7, '((6, 6, 2, 1),)': 16, '((0, 7, 0, 4),)': 13, '((4, 3, 7, 6),)': 10, '((3, 0, 0, 0),)': 31, '((5, 2, 1, 1),)': 11, '((4, 3, 1, 5),)': 11, '((4, 7, 2, 0),)': 5, '((0, 2, 3, 3),)': 9, '((0, 1, 2, 0),)': 21, '((1, 4, 3, 7),)': 12, '((1, 2, 7, 3),)': 6, '((1, 5, 1, 6),)': 16, '((1, 6, 7, 5),)': 9, '((4, 7, 4, 2),)': 16, '((3, 4, 0, 3),)': 8, '((0, 0, 2, 0),)': 21, '((3, 0, 3, 5),)': 9, '((7, 7, 1, 3),)': 18, '((2, 1, 0, 5),)': 5, '((0, 3, 2, 0),)': 8, '((4, 0, 3, 7),)': 9, '((7, 5, 6, 4),)': 15, '((2, 0, 2, 3),)': 9, '((7, 2, 0, 6),)': 17, '((5, 4, 4, 5),)': 6, '((5, 7, 1, 7),)': 16, '((3, 3, 2, 6),)': 7, '((5, 7, 2, 2),)': 11, '((0, 5, 0, 1),)': 16, '((0, 4, 3, 6),)': 11, '((3, 3, 5, 4),)': 10, '((0, 5, 3, 3),)': 11, '((4, 6, 7, 2),)': 5, '((7, 5, 1, 7),)': 26, '((3, 3, 2, 3),)': 12, '((1, 2, 5, 3),)': 10, '((3, 6, 0, 4),)': 5, '((0, 0, 3, 4),)': 12, '((5, 1, 6, 2),)': 10, '((5, 6, 3, 7),)': 8, '((7, 0, 2, 7),)': 11, '((4, 2, 6, 1),)': 7, '((5, 3, 1, 1),)': 15, '((1, 5, 6, 4),)': 5, '((3, 5, 5, 2),)': 8, '((5, 1, 3, 7),)': 8, '((7, 5, 0, 1),)': 25, '((6, 4, 3, 6),)': 2, '((6, 6, 4, 6),)': 15, '((1, 0, 5, 2),)': 7, '((5, 2, 7, 2),)': 5, '((2, 1, 4, 6),)': 7, '((3, 6, 7, 0),)': 13, '((7, 0, 3, 6),)': 17, '((6, 3, 4, 2),)': 6, '((5, 7, 7, 3),)': 14, '((2, 0, 4, 6),)': 6, '((1, 7, 1, 4),)': 14, '((3, 1, 6, 5),)': 5, '((1, 3, 3, 6),)': 9, '((0, 0, 7, 2),)': 10, '((2, 2, 5, 4),)': 10, '((0, 4, 7, 3),)': 5, '((2, 5, 1, 2),)': 8, '((6, 1, 6, 5),)': 16, '((7, 2, 3, 1),)': 12, '((1, 1, 1, 3),)': 12, '((7, 5, 2, 5),)': 11, '((3, 6, 1, 0),)': 5, '((2, 1, 5, 5),)': 11, '((5, 6, 4, 7),)': 10, '((1, 3, 1, 2),)': 11, '((7, 2, 2, 4),)': 9, '((1, 7, 0, 2),)': 18, '((5, 3, 6, 6),)': 6, '((7, 2, 6, 2),)': 4, '((0, 4, 5, 7),)': 8, '((0, 6, 0, 2),)': 12, '((7, 0, 2, 0),)': 11, '((5, 3, 1, 5),)': 5, '((4, 4, 5, 6),)': 6, '((4, 1, 2, 7),)': 6, '((7, 1, 6, 2),)': 10, '((4, 7, 1, 1),)': 22, '((7, 4, 7, 5),)': 8, '((2, 2, 2, 1),)': 10, '((4, 0, 7, 6),)': 5, '((7, 0, 2, 2),)': 3, '((6, 5, 6, 4),)': 8, '((7, 2, 0, 5),)': 7, '((7, 3, 1, 4),)': 3, '((2, 3, 5, 3),)': 15, '((7, 1, 4, 3),)': 5, '((6, 3, 7, 2),)': 7, '((2, 3, 4, 2),)': 11, '((3, 2, 2, 4),)': 8, '((1, 1, 0, 3),)': 13, '((6, 3, 3, 5),)': 9, '((7, 3, 5, 0),)': 8, '((4, 5, 2, 5),)': 7, '((2, 2, 2, 0),)': 13, '((0, 3, 5, 6),)': 3, '((2, 7, 3, 0),)': 12, '((4, 5, 1, 2),)': 12, '((5, 5, 7, 2),)': 12, '((4, 1, 2, 0),)': 2, '((4, 4, 4, 4),)': 6, '((1, 4, 2, 5),)': 10, '((7, 6, 7, 5),)': 18, '((4, 4, 4, 0),)': 7, '((1, 6, 2, 6),)': 14, '((3, 7, 5, 3),)': 10, '((3, 5, 0, 0),)': 10, '((6, 1, 1, 3),)': 14, '((5, 0, 4, 5),)': 4, '((7, 3, 5, 1),)': 12, '((2, 6, 1, 6),)': 13, '((1, 0, 2, 6),)': 10, '((3, 1, 7, 4),)': 8, '((4, 0, 7, 5),)': 4, '((3, 7, 3, 3),)': 14, '((7, 4, 6, 2),)': 5, '((7, 4, 7, 4),)': 8, '((5, 3, 2, 5),)': 12, '((1, 3, 0, 7),)': 17, '((2, 7, 1, 2),)': 11, '((3, 1, 2, 7),)': 9, '((6, 3, 1, 6),)': 10, '((7, 2, 5, 5),)': 7, '((3, 6, 5, 1),)': 8, '((2, 4, 1, 4),)': 10, '((6, 3, 5, 4),)': 7, '((6, 2, 0, 7),)': 7, '((2, 0, 1, 4),)': 13, '((3, 6, 5, 5),)': 6, '((1, 5, 3, 1),)': 14, '((2, 2, 1, 7),)': 15, '((1, 3, 7, 4),)': 9, '((4, 2, 4, 4),)': 9, '((0, 5, 5, 1),)': 11, '((1, 4, 3, 4),)': 12, '((0, 6, 0, 4),)': 14, '((2, 2, 7, 5),)': 6, '((7, 2, 2, 1),)': 9, '((0, 0, 3, 1),)': 14, '((5, 1, 0, 4),)': 7, '((4, 1, 7, 1),)': 14, '((3, 2, 2, 1),)': 16, '((3, 5, 2, 7),)': 6, '((6, 4, 0, 1),)': 9, '((5, 4, 3, 6),)': 5, '((4, 2, 7, 6),)': 6, '((3, 1, 3, 7),)': 8, '((6, 6, 7, 5),)': 16, '((7, 4, 4, 3),)': 7, '((7, 2, 5, 1),)': 14, '((0, 6, 6, 4),)': 10, '((6, 7, 7, 3),)': 17, '((2, 4, 6, 5),)': 6, '((0, 7, 3, 7),)': 13, '((1, 1, 4, 6),)': 17, '((7, 6, 3, 3),)': 11, '((6, 4, 7, 2),)': 4, '((3, 7, 3, 7),)': 6, '((3, 4, 0, 2),)': 10, '((6, 1, 5, 7),)': 16, '((1, 3, 6, 2),)': 12, '((2, 1, 3, 3),)': 16, '((3, 3, 5, 2),)': 8, '((2, 5, 6, 1),)': 6, '((4, 4, 1, 7),)': 13, '((3, 3, 6, 6),)': 11, '((7, 4, 0, 4),)': 8, '((0, 6, 3, 3),)': 6, '((4, 3, 5, 4),)': 6, '((4, 6, 1, 2),)': 8, '((1, 6, 5, 2),)': 12, '((2, 2, 3, 6),)': 13, '((7, 3, 4, 0),)': 9, '((5, 3, 0, 6),)': 6, '((6, 7, 0, 5),)': 20, '((2, 6, 3, 2),)': 12, '((7, 3, 0, 1),)': 10, '((6, 2, 3, 6),)': 9, '((3, 0, 0, 5),)': 9, '((4, 7, 2, 1),)': 10, '((4, 1, 6, 4),)': 15, '((4, 0, 3, 0),)': 8, '((2, 6, 7, 2),)': 4, '((2, 7, 6, 6),)': 7, '((6, 0, 2, 2),)': 3, '((2, 6, 1, 4),)': 9, '((5, 5, 5, 7),)': 10, '((6, 7, 3, 2),)': 9, '((2, 2, 4, 3),)': 12, '((2, 4, 4, 0),)': 9, '((0, 2, 0, 7),)': 7, '((0, 3, 5, 5),)': 6, '((5, 7, 3, 3),)': 8, '((1, 7, 3, 6),)': 11, '((2, 4, 5, 4),)': 9, '((3, 3, 7, 3),)': 6, '((2, 4, 6, 6),)': 2, '((4, 3, 1, 7),)': 10, '((2, 3, 6, 4),)': 15, '((5, 4, 7, 1),)': 8, '((7, 1, 3, 1),)': 10, '((4, 4, 0, 4),)': 13, '((2, 6, 1, 1),)': 15, '((6, 3, 3, 3),)': 9, '((0, 6, 7, 4),)': 5, '((5, 0, 0, 3),)': 11, '((0, 2, 2, 2),)': 15, '((1, 0, 3, 2),)': 6, '((0, 6, 6, 3),)': 8, '((5, 3, 7, 7),)': 12, '((0, 3, 7, 6),)': 7, '((3, 5, 2, 4),)': 12, '((7, 3, 4, 4),)': 8, '((0, 5, 7, 6),)': 6, '((4, 5, 1, 1),)': 23, '((4, 2, 1, 0),)': 6, '((1, 4, 2, 6),)': 4, '((3, 4, 2, 3),)': 8, '((7, 4, 6, 1),)': 22, '((2, 2, 3, 7),)': 12, '((0, 0, 0, 2),)': 29, '((6, 6, 6, 2),)': 5, '((2, 3, 0, 2),)': 17, '((6, 1, 2, 5),)': 11, '((6, 0, 0, 3),)': 5, '((5, 4, 0, 5),)': 9, '((5, 0, 4, 6),)': 6, '((1, 2, 1, 4),)': 17, '((6, 5, 4, 2),)': 6, '((3, 6, 3, 5),)': 16, '((4, 2, 0, 3),)': 11, '((0, 7, 7, 2),)': 10, '((3, 2, 4, 1),)': 12, '((4, 4, 1, 6),)': 8, '((5, 3, 1, 3),)': 13, '((5, 4, 0, 2),)': 12, '((3, 7, 7, 5),)': 6, '((3, 2, 3, 1),)': 14, '((6, 2, 1, 2),)': 6, '((5, 3, 2, 2),)': 9, '((3, 0, 4, 7),)': 9, '((3, 1, 4, 3),)': 6, '((7, 3, 0, 2),)': 16, '((3, 0, 6, 4),)': 8, '((5, 4, 0, 0),)': 10, '((1, 2, 1, 7),)': 13, '((1, 3, 5, 0),)': 10, '((5, 6, 5, 1),)': 6, '((3, 7, 2, 3),)': 7, '((0, 4, 1, 5),)': 4, '((6, 2, 3, 4),)': 8, '((3, 1, 7, 1),)': 11, '((1, 5, 4, 3),)': 5, '((7, 7, 2, 5),)': 13, '((6, 4, 5, 2),)': 5, '((3, 6, 0, 3),)': 5, '((2, 4, 0, 2),)': 11, '((7, 3, 7, 4),)': 5, '((0, 3, 2, 3),)': 9, '((2, 6, 5, 3),)': 5, '((1, 6, 0, 2),)': 15, '((4, 2, 6, 2),)': 12, '((5, 7, 0, 5),)': 9, '((4, 5, 0, 1),)': 18, '((6, 2, 3, 7),)': 8, '((4, 2, 7, 1),)': 11, '((3, 7, 6, 3),)': 7, '((2, 5, 6, 2),)': 9, '((3, 2, 0, 7),)': 9, '((3, 2, 2, 7),)': 10, '((7, 2, 3, 0),)': 10, '((1, 1, 2, 3),)': 11, '((6, 1, 7, 2),)': 6, '((6, 2, 1, 4),)': 9, '((6, 2, 0, 0),)': 10, '((3, 2, 0, 1),)': 7, '((7, 5, 6, 7),)': 30, '((5, 3, 0, 3),)': 16, '((6, 3, 2, 3),)': 4, '((2, 3, 0, 0),)': 10, '((3, 3, 7, 2),)': 7, '((3, 4, 5, 6),)': 5, '((1, 5, 6, 6),)': 13, '((6, 2, 0, 6),)': 11, '((3, 7, 0, 0),)': 17, '((0, 4, 0, 0),)': 24, '((2, 1, 7, 7),)': 7, '((6, 4, 7, 6),)': 13, '((0, 1, 3, 6),)': 14, '((2, 3, 4, 5),)': 7, '((4, 0, 4, 5),)': 8, '((5, 0, 1, 7),)': 9, '((0, 1, 1, 4),)': 14, '((1, 5, 1, 3),)': 2, '((2, 7, 1, 3),)': 7, '((4, 7, 3, 5),)': 10, '((0, 3, 4, 1),)': 10, '((6, 2, 5, 1),)': 10, '((6, 0, 2, 6),)': 13, '((4, 2, 7, 3),)': 7, '((4, 1, 0, 6),)': 14, '((4, 6, 4, 1),)': 7, '((5, 0, 4, 7),)': 6, '((4, 1, 6, 1),)': 13, '((7, 4, 1, 0),)': 10, '((5, 6, 1, 5),)': 10, '((1, 4, 6, 3),)': 2, '((7, 5, 5, 0),)': 13, '((4, 3, 4, 5),)': 7, '((6, 2, 4, 7),)': 6, '((3, 6, 2, 2),)': 7, '((1, 5, 1, 4),)': 9, '((2, 4, 3, 0),)': 7, '((2, 5, 7, 2),)': 7, '((0, 4, 1, 7),)': 10, '((0, 1, 0, 5),)': 23, '((5, 1, 3, 6),)': 4, '((0, 0, 6, 4),)': 13, '((2, 0, 1, 2),)': 6, '((6, 6, 3, 6),)': 19, '((5, 1, 2, 3),)': 6, '((6, 0, 5, 4),)': 7, '((5, 7, 2, 1),)': 10, '((0, 2, 3, 6),)': 6, '((2, 0, 0, 0),)': 20, '((4, 0, 7, 7),)': 13, '((0, 5, 0, 7),)': 20, '((6, 7, 0, 4),)': 11, '((6, 3, 2, 6),)': 6, '((1, 5, 6, 5),)': 3, '((6, 3, 1, 5),)': 9, '((4, 4, 6, 2),)': 6, '((6, 5, 2, 1),)': 17, '((4, 7, 6, 0),)': 11, '((4, 2, 1, 7),)': 10, '((6, 7, 4, 1),)': 10, '((6, 3, 4, 0),)': 5, '((6, 0, 4, 6),)': 10, '((0, 7, 4, 4),)': 12, '((5, 2, 5, 0),)': 15, '((3, 5, 1, 2),)': 11, '((6, 5, 0, 0),)': 13, '((4, 2, 4, 1),)': 18, '((1, 0, 2, 4),)': 11, '((6, 5, 0, 7),)': 15, '((6, 2, 3, 3),)': 11, '((0, 0, 3, 7),)': 21, '((4, 6, 0, 6),)': 18, '((7, 3, 7, 1),)': 9, '((2, 7, 7, 5),)': 11, '((5, 4, 1, 2),)': 5, '((4, 7, 7, 1),)': 7, '((2, 3, 4, 6),)': 10, '((1, 7, 3, 1),)': 15, '((2, 7, 4, 4),)': 10, '((3, 2, 5, 3),)': 9, '((5, 5, 6, 3),)': 8, '((0, 0, 3, 6),)': 12, '((0, 4, 5, 3),)': 7, '((3, 4, 3, 0),)': 9, '((4, 7, 0, 5),)': 10, '((1, 2, 2, 4),)': 12, '((3, 5, 4, 0),)': 13, '((1, 7, 7, 2),)': 7, '((3, 7, 1, 3),)': 12, '((0, 2, 4, 7),)': 13, '((3, 3, 3, 3),)': 10, '((3, 3, 2, 0),)': 11, '((7, 2, 3, 2),)': 9, '((3, 6, 3, 3),)': 7, '((6, 5, 2, 2),)': 14, '((0, 2, 0, 3),)': 7, '((1, 7, 4, 2),)': 17, '((6, 5, 1, 1),)': 26, '((3, 1, 5, 2),)': 11, '((6, 2, 4, 3),)': 6, '((3, 2, 6, 7),)': 6, '((5, 5, 5, 6),)': 7, '((6, 0, 1, 4),)': 15, '((1, 4, 7, 4),)': 5, '((0, 6, 1, 4),)': 10, '((1, 0, 3, 1),)': 21, '((2, 5, 2, 4),)': 15, '((3, 1, 1, 7),)': 13, '((5, 1, 1, 4),)': 4, '((5, 4, 3, 0),)': 11, '((6, 5, 3, 0),)': 13, '((4, 7, 7, 0),)': 9, '((2, 3, 7, 3),)': 5, '((7, 1, 4, 1),)': 15, '((1, 7, 6, 3),)': 12, '((0, 3, 0, 6),)': 10, '((4, 4, 5, 5),)': 4, '((5, 2, 4, 5),)': 7, '((2, 4, 1, 0),)': 5, '((5, 0, 5, 3),)': 2, '((7, 6, 4, 0),)': 16, '((0, 7, 3, 0),)': 9, '((5, 1, 6, 1),)': 17, '((6, 4, 3, 7),)': 12, '((3, 7, 4, 2),)': 9, '((2, 1, 6, 6),)': 8, '((1, 3, 6, 7),)': 8, '((5, 2, 4, 4),)': 6, '((3, 1, 2, 1),)': 9, '((4, 2, 1, 1),)': 13, '((0, 6, 1, 2),)': 9, '((7, 0, 5, 0),)': 11, '((3, 6, 6, 3),)': 5, '((3, 6, 1, 3),)': 7, '((1, 1, 7, 3),)': 7, '((2, 7, 0, 5),)': 8, '((5, 2, 0, 5),)': 14, '((7, 4, 6, 7),)': 20, '((3, 1, 6, 0),)': 10, '((3, 3, 5, 6),)': 11, '((6, 2, 2, 2),)': 8, '((5, 7, 3, 0),)': 13, '((2, 0, 4, 4),)': 16, '((3, 6, 2, 6),)': 8, '((1, 3, 5, 5),)': 11, '((2, 4, 3, 1),)': 17, '((4, 1, 5, 6),)': 7, '((3, 2, 7, 2),)': 6, '((2, 4, 0, 5),)': 12, '((1, 5, 0, 7),)': 17, '((3, 7, 6, 6),)': 6, '((1, 3, 1, 5),)': 8, '((3, 1, 1, 1),)': 9, '((3, 4, 4, 2),)': 8, '((6, 3, 6, 3),)': 8, '((2, 2, 7, 0),)': 6, '((7, 2, 1, 4),)': 4, '((0, 6, 5, 1),)': 16, '((3, 3, 0, 5),)': 9, '((4, 1, 4, 4),)': 7, '((7, 1, 3, 7),)': 18, '((3, 7, 1, 6),)': 15, '((4, 5, 2, 7),)': 6, '((2, 6, 7, 7),)': 7, '((5, 3, 4, 3),)': 7, '((4, 7, 2, 4),)': 10, '((0, 4, 5, 6),)': 6, '((7, 0, 5, 5),)': 6, '((3, 2, 5, 2),)': 9, '((0, 6, 2, 6),)': 7, '((3, 3, 1, 4),)': 14, '((1, 3, 1, 7),)': 16, '((6, 0, 2, 4),)': 6, '((3, 5, 0, 3),)': 7, '((6, 1, 6, 3),)': 12, '((7, 3, 3, 1),)': 11, '((1, 4, 1, 5),)': 14, '((2, 7, 3, 4),)': 9, '((3, 4, 3, 5),)': 7, '((6, 2, 4, 0),)': 6, '((2, 6, 4, 0),)': 8, '((2, 0, 1, 0),)': 10, '((6, 1, 2, 2),)': 8, '((5, 7, 1, 4),)': 14, '((2, 5, 6, 6),)': 9, '((4, 4, 1, 3),)': 4, '((5, 0, 7, 6),)': 6, '((7, 7, 2, 7),)': 14, '((4, 7, 5, 5),)': 9, '((3, 2, 7, 0),)': 6, '((4, 5, 6, 3),)': 8, '((7, 6, 4, 3),)': 10, '((7, 1, 4, 4),)': 9, '((6, 4, 2, 2),)': 15, '((5, 3, 5, 3),)': 6, '((2, 7, 2, 2),)': 7, '((4, 2, 5, 3),)': 10, '((1, 2, 0, 2),)': 13, '((5, 1, 1, 6),)': 17, '((7, 4, 5, 4),)': 13, '((7, 6, 1, 2),)': 11, '((5, 2, 6, 2),)': 6, '((2, 7, 0, 1),)': 11, '((4, 2, 6, 5),)': 7, '((5, 3, 4, 5),)': 2, '((6, 1, 7, 4),)': 5, '((5, 3, 4, 2),)': 5, '((0, 0, 5, 1),)': 11, '((0, 4, 0, 2),)': 5, '((4, 3, 0, 3),)': 6, '((0, 0, 2, 2),)': 5, '((5, 1, 0, 7),)': 15, '((6, 0, 6, 3),)': 7, '((4, 0, 3, 6),)': 13, '((2, 2, 3, 5),)': 23, '((4, 7, 2, 7),)': 9, '((4, 7, 0, 1),)': 20, '((7, 0, 1, 2),)': 5, '((5, 6, 5, 2),)': 7, '((1, 3, 4, 0),)': 16, '((5, 1, 1, 0),)': 7, '((2, 5, 5, 1),)': 10, '((2, 6, 0, 1),)': 16, '((6, 5, 7, 6),)': 17, '((3, 4, 4, 4),)': 8, '((0, 1, 7, 5),)': 14, '((0, 1, 5, 7),)': 13, '((1, 4, 6, 6),)': 17, '((2, 7, 4, 6),)': 8, '((3, 6, 2, 4),)': 6, '((3, 5, 4, 6),)': 7, '((1, 2, 1, 1),)': 18, '((7, 5, 3, 0),)': 7, '((6, 4, 6, 5),)': 6, '((7, 7, 2, 2),)': 6, '((1, 4, 2, 0),)': 9, '((5, 1, 2, 0),)': 3, '((5, 4, 6, 6),)': 7, '((2, 4, 2, 0),)': 11, '((2, 7, 5, 2),)': 6, '((2, 1, 6, 4),)': 11, '((5, 0, 7, 0),)': 12, '((5, 1, 1, 2),)': 4, '((4, 7, 6, 3),)': 12, '((4, 6, 7, 7),)': 9, '((3, 5, 3, 5),)': 6, '((0, 5, 0, 3),)': 8, '((7, 1, 5, 2),)': 5, '((6, 3, 7, 1),)': 12, '((0, 5, 5, 6),)': 10, '((4, 1, 7, 5),)': 4, '((1, 6, 4, 7),)': 17, '((3, 6, 3, 1),)': 10, '((4, 4, 3, 6),)': 5, '((6, 4, 4, 2),)': 7, '((6, 1, 0, 4),)': 12, '((4, 7, 1, 0),)': 12, '((0, 6, 5, 3),)': 10, '((3, 4, 7, 5),)': 6, '((2, 5, 7, 6),)': 5, '((2, 7, 1, 5),)': 14, '((6, 1, 4, 4),)': 10, '((5, 4, 3, 4),)': 8, '((4, 7, 2, 2),)': 11, '((5, 0, 3, 1),)': 9, '((1, 2, 2, 5),)': 13, '((5, 0, 3, 5),)': 10, '((4, 5, 5, 5),)': 6, '((5, 7, 1, 5),)': 15, '((1, 2, 4, 4),)': 16, '((1, 0, 3, 0),)': 16, '((0, 3, 3, 6),)': 4, '((2, 5, 4, 0),)': 12, '((6, 1, 2, 4),)': 8, '((0, 6, 3, 5),)': 8, '((7, 7, 5, 5),)': 15, '((5, 1, 6, 7),)': 20, '((4, 3, 3, 6),)': 7, '((3, 5, 2, 0),)': 13, '((3, 5, 0, 2),)': 16, '((5, 6, 5, 4),)': 4, '((5, 4, 2, 1),)': 9, '((4, 7, 5, 6),)': 10, '((0, 7, 1, 4),)': 11, '((6, 0, 5, 6),)': 11, '((1, 6, 1, 3),)': 10, '((2, 6, 3, 4),)': 8, '((5, 2, 4, 0),)': 9, '((5, 5, 3, 4),)': 9, '((1, 2, 1, 6),)': 17, '((4, 3, 4, 4),)': 8, '((4, 7, 7, 6),)': 15, '((5, 5, 0, 3),)': 6, '((1, 5, 7, 6),)': 15, '((1, 3, 5, 7),)': 12, '((6, 7, 0, 3),)': 12, '((3, 3, 0, 0),)': 9, '((1, 7, 0, 3),)': 10, '((7, 3, 0, 3),)': 5, '((5, 0, 6, 1),)': 13, '((2, 0, 5, 0),)': 5, '((4, 6, 3, 6),)': 9, '((0, 0, 4, 5),)': 8, '((2, 3, 1, 5),)': 12, '((7, 2, 3, 6),)': 8, '((4, 1, 1, 4),)': 8, '((5, 3, 3, 3),)': 7, '((5, 0, 7, 2),)': 5, '((1, 5, 7, 2),)': 3, '((6, 3, 5, 7),)': 6, '((5, 7, 4, 7),)': 12, '((7, 6, 2, 1),)': 13, '((2, 1, 0, 3),)': 13, '((3, 1, 6, 7),)': 7, '((4, 7, 1, 4),)': 13, '((1, 7, 1, 3),)': 13, '((7, 2, 1, 6),)': 10, '((3, 4, 2, 4),)': 11, '((6, 1, 7, 5),)': 17, '((5, 5, 6, 6),)': 6, '((4, 0, 3, 5),)': 5, '((3, 0, 6, 6),)': 10, '((2, 6, 6, 0),)': 9, '((7, 0, 6, 4),)': 7, '((6, 0, 5, 7),)': 10, '((7, 5, 6, 2),)': 5, '((3, 7, 3, 1),)': 11, '((2, 7, 7, 3),)': 5, '((2, 6, 2, 1),)': 9, '((0, 7, 4, 3),)': 10, '((6, 6, 5, 4),)': 6, '((5, 2, 3, 0),)': 11, '((3, 5, 4, 3),)': 8, '((2, 6, 4, 4),)': 5, '((3, 6, 0, 5),)': 6, '((7, 1, 5, 5),)': 9, '((1, 1, 6, 2),)': 9, '((3, 2, 1, 4),)': 8, '((3, 2, 4, 4),)': 10, '((5, 7, 7, 1),)': 14, '((4, 4, 7, 0),)': 9, '((2, 0, 2, 6),)': 7, '((0, 5, 5, 5),)': 5, '((5, 5, 2, 7),)': 10, '((7, 6, 3, 7),)': 27, '((6, 4, 4, 5),)': 4, '((7, 7, 5, 4),)': 10, '((4, 2, 3, 2),)': 13, '((3, 2, 7, 3),)': 6, '((3, 2, 0, 5),)': 10, '((7, 2, 4, 3),)': 5, '((6, 2, 0, 4),)': 8, '((1, 5, 6, 2),)': 8, '((6, 1, 4, 7),)': 21, '((3, 5, 3, 0),)': 9, '((7, 2, 5, 3),)': 9, '((1, 2, 6, 2),)': 8, '((6, 4, 7, 3),)': 6, '((1, 0, 5, 6),)': 6, '((6, 5, 0, 3),)': 7, '((5, 0, 0, 7),)': 17, '((2, 4, 5, 5),)': 4, '((0, 2, 7, 6),)': 12, '((6, 7, 7, 2),)': 1, '((3, 3, 1, 1),)': 8, '((2, 7, 7, 1),)': 6, '((0, 3, 3, 1),)': 3, '((6, 3, 2, 7),)': 7, '((1, 3, 2, 1),)': 10, '((5, 0, 1, 6),)': 17, '((1, 4, 2, 7),)': 6, '((7, 5, 3, 7),)': 9, '((2, 2, 0, 5),)': 12, '((0, 3, 3, 7),)': 16, '((5, 3, 7, 4),)': 10, '((1, 3, 3, 7),)': 7, '((2, 5, 0, 4),)': 10, '((3, 5, 1, 7),)': 8, '((4, 6, 3, 5),)': 12, '((0, 6, 4, 6),)': 11, '((4, 7, 5, 2),)': 10, '((0, 5, 1, 1),)': 15, '((2, 5, 1, 7),)': 14, '((2, 2, 7, 6),)': 6, '((0, 2, 1, 2),)': 7, '((6, 6, 2, 5),)': 2, '((7, 3, 5, 7),)': 18, '((2, 1, 4, 0),)': 11, '((5, 7, 2, 6),)': 5, '((7, 4, 0, 6),)': 16, '((4, 0, 4, 1),)': 4, '((1, 5, 5, 7),)': 14, '((5, 7, 4, 3),)': 9, '((2, 0, 5, 2),)': 3, '((3, 4, 7, 0),)': 4, '((5, 4, 5, 1),)': 11, '((5, 6, 5, 0),)': 13, '((1, 4, 0, 6),)': 15, '((7, 2, 6, 0),)': 13, '((0, 6, 5, 0),)': 11, '((4, 5, 7, 7),)': 13, '((3, 3, 3, 5),)': 7, '((1, 4, 6, 5),)': 2, '((1, 1, 5, 1),)': 15, '((4, 1, 7, 3),)': 7, '((2, 1, 5, 0),)': 8, '((2, 6, 2, 0),)': 9, '((3, 7, 4, 6),)': 4, '((4, 2, 2, 4),)': 8, '((2, 0, 0, 7),)': 13, '((1, 5, 5, 4),)': 8, '((0, 4, 4, 5),)': 10, '((4, 6, 5, 1),)': 5, '((2, 7, 5, 1),)': 7, '((4, 6, 6, 2),)': 6, '((2, 2, 2, 4),)': 17, '((1, 2, 0, 0),)': 23, '((5, 2, 6, 7),)': 12, '((6, 4, 7, 1),)': 10, '((5, 6, 0, 5),)': 5, '((1, 1, 6, 3),)': 12, '((2, 6, 2, 4),)': 7, '((7, 2, 5, 7),)': 14, '((7, 7, 3, 6),)': 28, '((1, 0, 3, 3),)': 2, '((3, 6, 7, 2),)': 4, '((1, 3, 1, 0),)': 17, '((6, 1, 2, 7),)': 9, '((2, 0, 2, 4),)': 6, '((4, 5, 3, 6),)': 11, '((6, 3, 0, 3),)': 9, '((2, 1, 4, 2),)': 17, '((4, 5, 3, 0),)': 12, '((0, 1, 0, 2),)': 19, '((3, 3, 2, 5),)': 7, '((0, 6, 3, 0),)': 8, '((7, 1, 1, 5),)': 7, '((5, 7, 5, 5),)': 8, '((6, 5, 4, 6),)': 7, '((7, 3, 0, 0),)': 15, '((4, 7, 3, 1),)': 13, '((7, 1, 4, 7),)': 13, '((3, 5, 6, 4),)': 6, '((3, 0, 2, 7),)': 7, '((6, 3, 6, 1),)': 14, '((7, 3, 0, 7),)': 11, '((5, 4, 6, 3),)': 7, '((5, 3, 2, 0),)': 12, '((7, 6, 0, 2),)': 14, '((6, 5, 2, 5),)': 6, '((1, 4, 7, 2),)': 6, '((5, 1, 7, 6),)': 10, '((2, 4, 0, 6),)': 11, '((1, 4, 3, 2),)': 8, '((2, 5, 1, 0),)': 10, '((1, 2, 3, 4),)': 19, '((2, 4, 1, 2),)': 13, '((7, 5, 4, 2),)': 4, '((2, 0, 7, 4),)': 6, '((4, 3, 3, 5),)': 8, '((2, 2, 6, 3),)': 6, '((0, 5, 6, 1),)': 15, '((3, 2, 6, 3),)': 7, '((1, 3, 6, 3),)': 10, '((2, 3, 2, 7),)': 9, '((4, 3, 0, 6),)': 8, '((1, 4, 4, 3),)': 3, '((4, 6, 4, 2),)': 9, '((4, 0, 5, 2),)': 5, '((0, 0, 5, 6),)': 11, '((5, 2, 1, 4),)': 7, '((5, 6, 4, 4),)': 6, '((7, 3, 7, 5),)': 9, '((7, 7, 0, 3),)': 15, '((6, 3, 6, 5),)': 5, '((2, 0, 6, 0),)': 12, '((5, 3, 4, 1),)': 9, '((7, 6, 3, 4),)': 9, '((5, 5, 4, 4),)': 3, '((3, 7, 2, 4),)': 9, '((4, 2, 7, 0),)': 9, '((7, 4, 0, 2),)': 11, '((4, 1, 1, 7),)': 10, '((4, 3, 0, 5),)': 11, '((2, 4, 7, 3),)': 5, '((6, 6, 6, 4),)': 8, '((7, 5, 4, 4),)': 5, '((3, 5, 7, 5),)': 7, '((3, 4, 0, 6),)': 7, '((7, 0, 4, 4),)': 6, '((5, 2, 2, 1),)': 10, '((6, 5, 2, 6),)': 8, '((4, 2, 4, 3),)': 13, '((5, 2, 0, 7),)': 10, '((0, 2, 3, 2),)': 15, '((4, 7, 7, 7),)': 13, '((4, 0, 1, 5),)': 4, '((7, 1, 7, 2),)': 8, '((1, 7, 2, 3),)': 9, '((2, 4, 7, 1),)': 14, '((1, 6, 5, 3),)': 9, '((3, 6, 4, 0),)': 10, '((2, 6, 6, 4),)': 9, '((6, 2, 1, 5),)': 7, '((2, 2, 6, 1),)': 6, '((3, 6, 6, 4),)': 3, '((3, 7, 0, 3),)': 10, '((2, 4, 3, 6),)': 4, '((2, 3, 0, 1),)': 14, '((4, 6, 5, 4),)': 4, '((1, 0, 7, 4),)': 7, '((4, 2, 5, 4),)': 11, '((5, 2, 1, 5),)': 11, '((5, 4, 4, 4),)': 3, '((0, 5, 4, 2),)': 6, '((0, 1, 2, 1),)': 17, '((5, 4, 5, 2),)': 10, '((1, 1, 3, 3),)': 8, '((0, 5, 1, 4),)': 10, '((3, 1, 5, 5),)': 7, '((1, 2, 4, 3),)': 8, '((3, 0, 1, 6),)': 10, '((0, 2, 7, 3),)': 5, '((3, 6, 5, 0),)': 7, '((0, 1, 6, 4),)': 9, '((4, 2, 1, 3),)': 10, '((0, 4, 1, 6),)': 12, '((0, 2, 4, 0),)': 9, '((7, 4, 7, 2),)': 12, '((2, 3, 7, 4),)': 12, '((5, 4, 2, 6),)': 7, '((3, 5, 2, 3),)': 11, '((2, 6, 5, 2),)': 7, '((7, 4, 1, 7),)': 18, '((7, 3, 7, 0),)': 9, '((2, 6, 5, 1),)': 6, '((3, 1, 6, 6),)': 10, '((6, 3, 0, 4),)': 12, '((3, 3, 5, 0),)': 7, '((2, 4, 6, 2),)': 6, '((7, 7, 0, 4),)': 10, '((0, 3, 4, 2),)': 5, '((4, 4, 5, 0),)': 5, '((0, 1, 4, 0),)': 21, '((7, 3, 4, 6),)': 9, '((6, 2, 1, 1),)': 10, '((1, 4, 3, 0),)': 9, '((3, 1, 0, 1),)': 17, '((3, 3, 4, 0),)': 8, '((1, 6, 5, 5),)': 10, '((0, 0, 2, 6),)': 10, '((5, 2, 2, 6),)': 10, '((6, 3, 3, 2),)': 13, '((3, 4, 7, 2),)': 8, '((5, 6, 0, 6),)': 20, '((5, 2, 6, 3),)': 7, '((2, 0, 6, 7),)': 7, '((0, 2, 2, 7),)': 12, '((1, 5, 4, 1),)': 8, '((7, 1, 6, 4),)': 12, '((0, 3, 4, 3),)': 7, '((6, 1, 3, 2),)': 5, '((5, 1, 5, 2),)': 6, '((7, 1, 4, 0),)': 14, '((0, 1, 1, 5),)': 10, '((2, 6, 0, 7),)': 15, '((3, 6, 1, 7),)': 10, '((6, 7, 5, 2),)': 7, '((7, 4, 5, 5),)': 7, '((4, 3, 1, 6),)': 10, '((3, 1, 5, 1),)': 5, '((5, 5, 4, 1),)': 9, '((7, 2, 4, 2),)': 11, '((5, 7, 6, 4),)': 4, '((5, 6, 0, 0),)': 22, '((3, 4, 4, 3),)': 11, '((3, 5, 5, 6),)': 6, '((0, 6, 2, 1),)': 19, '((4, 1, 6, 3),)': 9, '((0, 3, 6, 6),)': 8, '((5, 0, 3, 7),)': 5, '((0, 7, 7, 4),)': 5, '((6, 4, 4, 0),)': 9, '((0, 3, 3, 0),)': 7, '((7, 5, 7, 0),)': 12, '((7, 2, 0, 7),)': 20, '((1, 5, 0, 3),)': 6, '((7, 4, 1, 3),)': 7, '((1, 4, 3, 1),)': 8, '((5, 1, 4, 0),)': 8, '((5, 7, 1, 0),)': 15, '((6, 1, 5, 5),)': 9, '((3, 1, 3, 2),)': 12, '((7, 4, 4, 5),)': 5, '((7, 0, 2, 4),)': 8, '((3, 2, 6, 4),)': 9, '((1, 4, 2, 2),)': 8, '((6, 1, 4, 2),)': 6, '((3, 0, 0, 2),)': 5, '((1, 0, 6, 5),)': 9, '((7, 2, 7, 7),)': 14, '((6, 3, 7, 6),)': 7, '((7, 2, 3, 4),)': 6, '((1, 1, 7, 2),)': 10, '((7, 7, 6, 2),)': 16, '((0, 0, 4, 3),)': 5, '((7, 4, 7, 6),)': 13, '((0, 2, 0, 1),)': 19, '((4, 1, 6, 6),)': 13, '((5, 4, 1, 7),)': 8, '((5, 0, 7, 4),)': 7, '((1, 4, 4, 5),)': 9, '((0, 5, 3, 7),)': 19, '((7, 4, 3, 3),)': 11, '((5, 4, 5, 6),)': 4, '((4, 5, 4, 7),)': 6, '((5, 1, 1, 1),)': 17, '((5, 4, 5, 0),)': 6, '((4, 4, 4, 3),)': 9, '((0, 5, 7, 7),)': 14, '((4, 0, 2, 6),)': 5, '((7, 2, 6, 1),)': 12, '((7, 6, 5, 5),)': 16, '((1, 2, 7, 7),)': 4, '((5, 6, 3, 5),)': 9, '((0, 3, 6, 0),)': 8, '((3, 4, 7, 1),)': 6, '((6, 0, 2, 7),)': 7, '((2, 5, 0, 6),)': 15, '((3, 1, 5, 4),)': 6, '((2, 7, 0, 7),)': 14, '((1, 4, 7, 5),)': 5, '((1, 0, 5, 7),)': 10, '((1, 3, 3, 1),)': 14, '((2, 2, 4, 0),)': 4, '((1, 5, 1, 5),)': 9, '((5, 2, 6, 6),)': 6, '((1, 0, 7, 2),)': 7, '((3, 5, 0, 1),)': 16, '((5, 5, 2, 2),)': 10, '((4, 3, 7, 1),)': 8, '((2, 3, 1, 3),)': 15, '((0, 1, 4, 3),)': 8, '((2, 4, 4, 3),)': 11, '((0, 4, 6, 5),)': 9, '((5, 4, 6, 2),)': 9, '((6, 2, 2, 5),)': 9, '((1, 2, 4, 6),)': 10, '((2, 7, 2, 5),)': 12, '((3, 1, 0, 4),)': 8, '((2, 6, 5, 6),)': 5, '((5, 1, 4, 3),)': 5, '((1, 2, 7, 2),)': 3, '((0, 4, 5, 0),)': 5, '((0, 5, 5, 2),)': 9, '((5, 4, 2, 2),)': 11, '((3, 6, 7, 3),)': 7, '((4, 7, 0, 2),)': 8, '((2, 4, 1, 3),)': 10, '((6, 5, 5, 5),)': 5, '((5, 3, 6, 2),)': 9, '((1, 7, 2, 7),)': 10, '((5, 1, 6, 0),)': 12, '((2, 4, 5, 2),)': 8, '((3, 0, 7, 4),)': 5, '((6, 3, 3, 0),)': 10, '((5, 4, 3, 3),)': 3, '((1, 2, 0, 4),)': 10, '((5, 3, 2, 6),)': 9, '((0, 7, 4, 6),)': 9, '((2, 4, 7, 4),)': 9, '((3, 5, 5, 1),)': 3, '((5, 0, 1, 1),)': 11, '((5, 0, 7, 7),)': 5, '((3, 5, 3, 3),)': 12, '((5, 5, 4, 0),)': 12, '((6, 0, 5, 2),)': 2, '((0, 6, 4, 1),)': 13, '((3, 3, 6, 5),)': 6, '((0, 4, 2, 2),)': 8, '((5, 2, 0, 1),)': 11, '((0, 2, 6, 7),)': 13, '((3, 2, 5, 0),)': 7, '((4, 1, 1, 5),)': 7, '((6, 5, 2, 7),)': 6, '((5, 3, 3, 6),)': 9, '((2, 2, 6, 4),)': 4, '((7, 2, 5, 2),)': 9, '((4, 0, 6, 3),)': 4, '((7, 4, 4, 0),)': 4, '((0, 1, 6, 3),)': 10, '((6, 4, 1, 0),)': 11, '((7, 5, 4, 1),)': 9, '((5, 6, 5, 5),)': 7, '((3, 3, 2, 7),)': 7, '((4, 0, 6, 4),)': 2, '((2, 3, 7, 0),)': 8, '((1, 3, 0, 3),)': 10, '((4, 0, 1, 4),)': 5, '((0, 3, 5, 7),)': 9, '((2, 5, 4, 7),)': 9, '((7, 5, 3, 2),)': 8, '((1, 3, 0, 1),)': 25, '((5, 1, 2, 4),)': 5, '((2, 5, 5, 5),)': 5, '((3, 7, 4, 3),)': 10, '((0, 5, 6, 5),)': 5, '((3, 1, 0, 0),)': 20, '((5, 5, 0, 6),)': 13, '((2, 3, 3, 7),)': 8, '((5, 5, 6, 5),)': 6, '((5, 3, 7, 0),)': 8, '((0, 7, 5, 4),)': 9, '((6, 7, 3, 4),)': 8, '((5, 3, 5, 0),)': 10, '((4, 5, 1, 3),)': 10, '((5, 0, 3, 6),)': 2, '((6, 5, 6, 3),)': 7, '((4, 5, 4, 5),)': 2, '((4, 0, 2, 7),)': 8, '((3, 0, 5, 6),)': 5, '((4, 2, 2, 2),)': 17, '((5, 7, 4, 2),)': 10, '((6, 3, 5, 0),)': 9, '((5, 3, 3, 1),)': 14, '((6, 7, 6, 3),)': 15, '((2, 1, 0, 4),)': 3, '((0, 4, 5, 2),)': 5, '((4, 1, 3, 5),)': 10, '((7, 7, 3, 1),)': 9, '((1, 6, 3, 5),)': 5, '((2, 7, 6, 5),)': 6, '((7, 4, 2, 6),)': 7, '((5, 0, 4, 0),)': 5, '((2, 1, 6, 3),)': 7, '((7, 2, 1, 2),)': 8, '((4, 4, 7, 6),)': 7, '((4, 6, 5, 5),)': 2, '((6, 4, 7, 5),)': 7, '((4, 3, 1, 1),)': 17, '((6, 2, 1, 7),)': 12, '((2, 4, 4, 5),)': 7, '((4, 3, 0, 0),)': 8, '((2, 4, 0, 4),)': 10, '((0, 5, 3, 1),)': 5, '((1, 1, 5, 2),)': 13, '((5, 4, 3, 1),)': 9, '((1, 2, 7, 4),)': 2, '((6, 4, 0, 3),)': 5, '((7, 5, 4, 6),)': 12, '((2, 3, 3, 0),)': 13, '((4, 7, 4, 1),)': 8, '((2, 6, 3, 6),)': 7, '((3, 6, 3, 7),)': 5, '((7, 5, 3, 1),)': 15, '((2, 2, 5, 7),)': 12, '((6, 7, 2, 3),)': 5, '((7, 3, 5, 3),)': 6, '((0, 1, 7, 4),)': 12, '((5, 7, 5, 3),)': 5, '((5, 4, 6, 5),)': 2, '((2, 2, 4, 6),)': 8, '((3, 0, 6, 2),)': 5, '((7, 2, 1, 1),)': 21, '((6, 2, 6, 7),)': 13, '((7, 4, 5, 6),)': 7, '((2, 5, 7, 4),)': 4, '((4, 2, 2, 6),)': 7, '((2, 4, 1, 7),)': 8, '((4, 0, 0, 3),)': 3, '((4, 2, 0, 6),)': 10, '((6, 3, 3, 4),)': 5, '((3, 3, 7, 5),)': 4, '((0, 3, 4, 0),)': 3, '((3, 3, 7, 7),)': 4, '((7, 7, 7, 3),)': 5, '((3, 7, 5, 4),)': 7, '((1, 7, 7, 3),)': 5, '((1, 3, 1, 3),)': 7, '((4, 4, 5, 2),)': 3, '((7, 4, 2, 2),)': 8, '((6, 2, 4, 6),)': 6, '((6, 0, 3, 4),)': 11, '((4, 5, 1, 6),)': 13, '((4, 3, 3, 0),)': 10, '((5, 6, 1, 4),)': 4, '((0, 7, 0, 3),)': 14, '((5, 3, 5, 2),)': 8, '((2, 6, 7, 5),)': 2, '((4, 5, 2, 4),)': 10, '((0, 3, 1, 2),)': 4, '((3, 5, 3, 1),)': 13, '((2, 2, 4, 2),)': 10, '((2, 0, 1, 6),)': 9, '((3, 7, 1, 2),)': 6, '((6, 5, 3, 3),)': 11, '((1, 4, 0, 4),)': 7, '((6, 2, 4, 4),)': 3, '((0, 1, 3, 2),)': 11, '((4, 6, 2, 3),)': 12, '((1, 3, 5, 2),)': 8, '((5, 7, 4, 1),)': 14, '((5, 0, 4, 3),)': 5, '((2, 5, 4, 4),)': 8, '((7, 1, 2, 5),)': 10, '((4, 1, 3, 6),)': 7, '((4, 4, 4, 7),)': 6, '((4, 1, 4, 7),)': 12, '((5, 5, 6, 2),)': 11, '((3, 0, 3, 0),)': 11, '((5, 1, 4, 7),)': 5, '((4, 1, 2, 6),)': 5, '((1, 4, 5, 1),)': 5, '((4, 1, 4, 1),)': 7, '((4, 3, 0, 4),)': 8, '((5, 2, 3, 5),)': 8, '((6, 4, 5, 7),)': 7, '((0, 7, 4, 1),)': 9, '((4, 6, 1, 5),)': 8, '((3, 3, 0, 1),)': 6, '((5, 6, 4, 0),)': 8, '((2, 4, 3, 3),)': 10, '((6, 2, 4, 5),)': 9, '((2, 1, 3, 5),)': 8, '((3, 7, 4, 1),)': 7, '((0, 7, 0, 2),)': 7, '((0, 1, 4, 5),)': 11, '((2, 3, 1, 2),)': 13, '((1, 6, 2, 5),)': 9, '((7, 1, 5, 7),)': 17, '((3, 3, 1, 5),)': 5, '((5, 0, 3, 0),)': 9, '((6, 3, 4, 4),)': 6, '((0, 6, 2, 3),)': 10, '((0, 5, 4, 4),)': 5, '((4, 5, 1, 0),)': 13, '((6, 6, 3, 5),)': 8, '((2, 1, 6, 7),)': 9, '((5, 0, 4, 2),)': 4, '((4, 1, 1, 6),)': 11, '((3, 1, 4, 4),)': 10, '((5, 6, 6, 6),)': 8, '((6, 4, 4, 1),)': 8, '((0, 4, 1, 0),)': 14, '((1, 3, 2, 7),)': 7, '((4, 0, 2, 3),)': 9, '((1, 2, 0, 6),)': 10, '((4, 7, 5, 7),)': 7, '((2, 0, 3, 2),)': 7, '((3, 6, 2, 1),)': 7, '((4, 4, 3, 3),)': 10, '((6, 1, 4, 3),)': 4, '((7, 1, 2, 7),)': 8, '((7, 1, 7, 5),)': 9, '((7, 5, 2, 4),)': 7, '((2, 5, 6, 7),)': 14, '((0, 4, 1, 4),)': 8, '((0, 0, 3, 5),)': 7, '((4, 6, 2, 7),)': 5, '((5, 2, 1, 7),)': 10, '((0, 6, 4, 2),)': 5, '((7, 4, 5, 2),)': 8, '((2, 2, 4, 7),)': 8, '((1, 2, 6, 3),)': 4, '((1, 0, 1, 3),)': 5, '((7, 2, 3, 3),)': 8, '((5, 1, 4, 2),)': 10, '((7, 2, 4, 7),)': 5, '((0, 5, 0, 2),)': 6, '((5, 4, 4, 0),)': 10, '((4, 6, 0, 0),)': 21, '((3, 2, 4, 7),)': 6, '((2, 7, 0, 3),)': 12, '((6, 3, 4, 6),)': 5, '((7, 3, 3, 5),)': 7, '((2, 2, 5, 3),)': 12, '((4, 4, 1, 2),)': 8, '((3, 1, 1, 0),)': 9, '((2, 6, 7, 0),)': 10, '((5, 6, 6, 2),)': 5, '((3, 0, 4, 1),)': 2, '((4, 0, 5, 7),)': 9, '((2, 1, 6, 1),)': 8, '((0, 5, 7, 1),)': 16, '((0, 4, 7, 0),)': 13, '((2, 0, 5, 5),)': 7, '((1, 6, 3, 3),)': 9, '((7, 0, 1, 3),)': 12, '((3, 0, 1, 2),)': 6, '((0, 2, 5, 7),)': 11, '((2, 3, 7, 2),)': 5, '((7, 5, 1, 4),)': 14, '((5, 7, 4, 5),)': 11, '((6, 2, 7, 1),)': 18, '((0, 5, 3, 4),)': 10, '((2, 0, 4, 5),)': 10, '((6, 0, 3, 5),)': 6, '((4, 3, 4, 7),)': 6, '((2, 7, 7, 6),)': 8, '((1, 3, 0, 4),)': 13, '((6, 5, 7, 0),)': 12, '((1, 2, 5, 1),)': 13, '((5, 5, 7, 4),)': 3, '((6, 5, 2, 3),)': 8, '((6, 3, 4, 7),)': 6, '((0, 1, 4, 6),)': 10, '((5, 0, 2, 2),)': 6, '((0, 7, 3, 4),)': 11, '((2, 3, 4, 3),)': 9, '((7, 0, 7, 3),)': 5, '((4, 2, 4, 5),)': 10, '((5, 0, 0, 1),)': 15, '((5, 3, 4, 7),)': 8, '((0, 5, 7, 0),)': 17, '((3, 0, 3, 1),)': 11, '((6, 3, 5, 6),)': 5, '((5, 4, 7, 7),)': 8, '((1, 0, 0, 3),)': 15, '((1, 4, 7, 1),)': 10, '((3, 6, 7, 1),)': 13, '((2, 4, 6, 7),)': 7, '((5, 5, 0, 2),)': 12, '((1, 4, 0, 1),)': 14, '((2, 7, 7, 7),)': 10, '((7, 1, 6, 5),)': 12, '((5, 3, 0, 2),)': 11, '((1, 3, 4, 1),)': 15, '((4, 0, 0, 7),)': 18, '((3, 3, 3, 1),)': 11, '((3, 0, 4, 6),)': 7, '((3, 7, 4, 0),)': 6, '((4, 0, 6, 6),)': 6, '((5, 4, 5, 4),)': 3, '((6, 3, 6, 0),)': 6, '((0, 7, 5, 5),)': 8, '((2, 5, 7, 7),)': 9, '((3, 5, 4, 7),)': 8, '((3, 6, 4, 3),)': 8, '((7, 2, 5, 6),)': 8, '((4, 3, 6, 7),)': 6, '((4, 0, 5, 6),)': 5, '((0, 3, 1, 5),)': 8, '((4, 7, 7, 5),)': 2, '((7, 2, 7, 2),)': 6, '((5, 7, 2, 3),)': 6, '((5, 1, 5, 6),)': 5, '((5, 5, 6, 4),)': 5, '((0, 3, 6, 7),)': 7, '((7, 4, 2, 5),)': 9, '((4, 6, 0, 2),)': 6, '((0, 5, 4, 5),)': 7, '((1, 0, 5, 3),)': 4, '((4, 4, 6, 4),)': 4, '((7, 2, 7, 6),)': 11, '((0, 0, 7, 3),)': 7, '((7, 5, 7, 4),)': 6, '((3, 7, 2, 6),)': 7, '((7, 0, 7, 2),)': 7, '((3, 6, 6, 7),)': 7, '((7, 7, 3, 2),)': 11, '((2, 1, 6, 5),)': 6, '((3, 2, 5, 4),)': 7, '((7, 7, 6, 5),)': 21, '((2, 7, 7, 0),)': 10, '((5, 7, 2, 4),)': 8, '((5, 2, 3, 2),)': 13, '((7, 2, 5, 0),)': 8, '((6, 3, 3, 1),)': 12, '((0, 4, 3, 5),)': 4, '((2, 7, 6, 4),)': 10, '((3, 7, 1, 1),)': 13, '((0, 4, 4, 2),)': 5, '((3, 5, 2, 6),)': 6, '((2, 7, 7, 2),)': 10, '((3, 2, 1, 3),)': 5, '((6, 5, 3, 7),)': 11, '((4, 3, 6, 3),)': 6, '((1, 6, 0, 4),)': 17, '((6, 3, 1, 4),)': 10, '((4, 7, 7, 2),)': 8, '((6, 3, 0, 5),)': 7, '((2, 6, 4, 6),)': 7, '((1, 6, 2, 4),)': 9, '((5, 6, 2, 3),)': 9, '((4, 6, 5, 3),)': 6, '((0, 7, 6, 3),)': 7, '((3, 6, 3, 6),)': 4, '((5, 6, 4, 1),)': 8, '((4, 0, 1, 6),)': 14, '((6, 4, 0, 5),)': 3, '((0, 6, 5, 2),)': 6, '((1, 5, 2, 0),)': 8, '((4, 5, 6, 0),)': 15, '((3, 1, 6, 3),)': 5, '((0, 4, 2, 5),)': 8, '((6, 7, 3, 3),)': 9, '((2, 3, 0, 5),)': 7, '((0, 2, 6, 5),)': 6, '((5, 5, 3, 6),)': 9, '((6, 5, 5, 4),)': 3, '((6, 4, 5, 6),)': 5, '((3, 0, 6, 1),)': 9, '((7, 0, 3, 1),)': 12, '((0, 3, 6, 4),)': 7, '((1, 4, 7, 6),)': 5, '((7, 5, 7, 2),)': 8, '((4, 1, 7, 4),)': 9, '((0, 3, 2, 1),)': 7, '((5, 3, 5, 5),)': 11, '((5, 1, 7, 0),)': 5, '((7, 0, 2, 6),)': 12, '((0, 1, 4, 2),)': 12, '((3, 0, 2, 1),)': 4, '((5, 3, 4, 6),)': 6, '((1, 5, 7, 5),)': 8, '((6, 0, 6, 2),)': 6, '((5, 2, 5, 5),)': 5, '((6, 3, 4, 1),)': 6, '((3, 4, 6, 1),)': 7, '((0, 5, 1, 6),)': 10, '((6, 3, 5, 2),)': 2, '((7, 5, 0, 7),)': 14, '((2, 1, 6, 2),)': 10, '((7, 4, 3, 1),)': 18, '((7, 3, 6, 6),)': 4, '((5, 0, 6, 5),)': 4, '((3, 6, 5, 3),)': 3, '((1, 2, 7, 0),)': 13, '((7, 6, 3, 2),)': 10, '((0, 3, 2, 4),)': 7, '((0, 4, 7, 2),)': 4, '((7, 7, 3, 5),)': 13, '((5, 7, 4, 6),)': 11, '((0, 0, 6, 3),)': 11, '((6, 0, 7, 2),)': 8, '((1, 3, 6, 4),)': 8, '((5, 3, 7, 6),)': 7, '((1, 0, 0, 2),)': 11, '((6, 3, 3, 6),)': 4, '((4, 6, 4, 7),)': 7, '((3, 3, 1, 7),)': 7, '((2, 0, 4, 3),)': 5, '((3, 1, 6, 1),)': 7, '((2, 3, 2, 3),)': 7, '((0, 4, 5, 5),)': 7, '((0, 4, 2, 6),)': 4, '((3, 4, 0, 1),)': 8, '((3, 4, 5, 5),)': 4, '((4, 3, 6, 0),)': 8, '((3, 2, 0, 6),)': 10, '((5, 0, 7, 5),)': 6, '((7, 3, 4, 7),)': 9, '((3, 0, 3, 4),)': 9, '((0, 5, 1, 3),)': 8, '((3, 0, 0, 1),)': 20, '((2, 0, 7, 2),)': 6, '((1, 5, 4, 2),)': 5, '((7, 2, 4, 6),)': 7, '((1, 1, 5, 0),)': 15, '((4, 1, 0, 2),)': 9, '((4, 1, 0, 5),)': 6, '((3, 3, 0, 4),)': 5, '((2, 3, 3, 1),)': 13, '((4, 4, 0, 1),)': 8, '((6, 5, 6, 1),)': 13, '((5, 2, 2, 5),)': 11, '((0, 5, 7, 2),)': 3, '((6, 6, 4, 5),)': 5, '((6, 5, 5, 2),)': 3, '((4, 1, 5, 3),)': 10, '((6, 2, 1, 6),)': 15, '((1, 3, 5, 1),)': 10, '((0, 6, 1, 5),)': 9, '((6, 1, 3, 1),)': 14, '((7, 5, 6, 5),)': 5, '((0, 5, 5, 3),)': 8, '((6, 5, 2, 0),)': 13, '((7, 6, 4, 4),)': 3, '((0, 0, 4, 4),)': 6, '((7, 5, 5, 3),)': 7, '((0, 2, 6, 3),)': 7, '((0, 2, 0, 5),)': 9, '((7, 4, 2, 0),)': 7, '((0, 4, 6, 1),)': 7, '((1, 2, 6, 0),)': 14, '((7, 4, 4, 4),)': 4, '((3, 2, 1, 6),)': 2, '((7, 3, 2, 7),)': 6, '((4, 6, 1, 4),)': 8, '((4, 2, 3, 5),)': 9, '((0, 4, 1, 2),)': 2, '((6, 1, 4, 5),)': 5, '((7, 3, 2, 1),)': 13, '((5, 5, 2, 0),)': 9, '((2, 3, 3, 2),)': 11, '((1, 3, 3, 3),)': 14, '((2, 3, 0, 6),)': 4, '((5, 3, 6, 5),)': 10, '((3, 5, 4, 5),)': 7, '((2, 7, 6, 7),)': 7, '((5, 3, 2, 7),)': 6, '((1, 0, 5, 4),)': 5, '((5, 4, 0, 1),)': 9, '((6, 6, 5, 5),)': 6, '((4, 5, 4, 6),)': 3, '((4, 0, 2, 4),)': 6, '((4, 4, 0, 3),)': 9, '((5, 2, 4, 3),)': 10, '((7, 7, 4, 1),)': 15, '((6, 6, 5, 1),)': 16, '((1, 4, 4, 2),)': 7, '((0, 3, 2, 7),)': 10, '((5, 0, 6, 0),)': 14, '((5, 4, 7, 5),)': 5, '((4, 7, 3, 2),)': 4, '((3, 5, 7, 1),)': 7, '((1, 0, 2, 5),)': 2, '((4, 6, 2, 2),)': 11, '((3, 7, 3, 6),)': 11, '((5, 4, 6, 4),)': 5, '((0, 4, 1, 3),)': 10, '((6, 5, 5, 7),)': 9, '((0, 4, 6, 0),)': 9, '((5, 4, 7, 4),)': 3, '((3, 3, 7, 0),)': 7, '((0, 7, 6, 4),)': 8, '((1, 0, 3, 6),)': 10, '((1, 1, 2, 2),)': 12, '((6, 2, 5, 3),)': 8, '((3, 5, 7, 0),)': 9, '((4, 0, 4, 6),)': 6, '((0, 0, 5, 0),)': 21, '((6, 0, 4, 1),)': 11, '((5, 4, 0, 4),)': 9, '((1, 6, 4, 6),)': 15, '((0, 3, 3, 2),)': 11, '((5, 0, 2, 3),)': 9, '((0, 5, 2, 5),)': 10, '((6, 0, 6, 4),)': 9, '((2, 7, 2, 1),)': 10, '((6, 3, 3, 7),)': 11, '((6, 2, 2, 0),)': 3, '((0, 2, 4, 3),)': 8, '((6, 4, 6, 2),)': 4, '((5, 6, 2, 6),)': 5, '((3, 4, 1, 0),)': 5, '((7, 6, 7, 2),)': 6, '((6, 0, 5, 5),)': 6, '((0, 5, 1, 5),)': 8, '((6, 7, 1, 2),)': 11, '((1, 5, 5, 2),)': 12, '((6, 6, 3, 3),)': 12, '((3, 2, 2, 5),)': 9, '((2, 5, 2, 7),)': 6, '((1, 6, 4, 3),)': 7, '((0, 4, 7, 5),)': 7, '((0, 4, 0, 5),)': 10, '((6, 0, 4, 3),)': 6, '((5, 6, 2, 5),)': 7, '((7, 0, 0, 4),)': 16, '((7, 4, 5, 3),)': 7, '((2, 2, 1, 3),)': 7, '((0, 3, 4, 7),)': 9, '((3, 6, 2, 7),)': 6, '((4, 7, 6, 4),)': 4, '((7, 7, 5, 2),)': 18, '((5, 7, 0, 3),)': 5, '((0, 6, 4, 4),)': 9, '((3, 7, 5, 6),)': 6, '((7, 5, 5, 5),)': 10, '((3, 7, 7, 0),)': 9, '((2, 6, 1, 3),)': 18, '((6, 5, 0, 2),)': 5, '((7, 1, 2, 2),)': 7, '((6, 7, 4, 2),)': 3, '((5, 0, 5, 6),)': 4, '((4, 3, 4, 3),)': 6, '((0, 7, 3, 5),)': 10, '((6, 1, 5, 1),)': 9, '((1, 5, 3, 6),)': 4, '((6, 2, 4, 2),)': 2, '((5, 5, 0, 1),)': 15, '((1, 4, 5, 2),)': 9, '((2, 4, 6, 3),)': 5, '((5, 3, 6, 0),)': 7, '((2, 4, 2, 7),)': 6, '((1, 3, 7, 3),)': 4, '((4, 7, 3, 0),)': 9, '((4, 2, 0, 1),)': 14, '((2, 6, 2, 3),)': 13, '((2, 4, 6, 1),)': 11, '((2, 4, 1, 1),)': 9, '((4, 0, 6, 5),)': 3, '((4, 7, 4, 0),)': 11, '((4, 5, 6, 5),)': 5, '((1, 6, 6, 3),)': 15, '((0, 4, 0, 7),)': 12, '((0, 6, 6, 2),)': 3, '((4, 2, 4, 6),)': 7, '((6, 3, 7, 5),)': 9, '((1, 5, 1, 7),)': 19, '((2, 6, 2, 7),)': 6, '((2, 2, 7, 1),)': 7, '((2, 2, 4, 4),)': 10, '((5, 6, 4, 3),)': 7, '((0, 0, 5, 4),)': 7, '((6, 2, 7, 5),)': 7, '((6, 4, 4, 6),)': 8, '((0, 3, 6, 1),)': 11, '((7, 4, 3, 4),)': 6, '((0, 3, 7, 5),)': 4, '((4, 4, 7, 2),)': 5, '((6, 6, 4, 2),)': 6, '((3, 1, 3, 0),)': 9, '((3, 7, 0, 6),)': 11, '((1, 7, 2, 2),)': 7, '((5, 6, 3, 4),)': 3, '((5, 4, 2, 0),)': 3, '((0, 3, 6, 5),)': 9, '((6, 6, 5, 2),)': 7, '((2, 4, 5, 1),)': 2, '((4, 6, 4, 5),)': 5, '((1, 4, 7, 3),)': 7, '((5, 3, 1, 7),)': 13, '((7, 2, 1, 7),)': 10, '((1, 4, 2, 1),)': 13, '((1, 7, 4, 0),)': 19, '((4, 6, 3, 0),)': 8, '((5, 6, 6, 5),)': 6, '((4, 3, 5, 1),)': 7, '((4, 5, 7, 3),)': 7, '((4, 4, 2, 6),)': 9, '((2, 2, 6, 0),)': 6, '((1, 5, 0, 5),)': 2, '((1, 0, 2, 2),)': 4, '((7, 2, 0, 4),)': 8, '((7, 3, 4, 2),)': 9, '((5, 5, 0, 5),)': 6, '((7, 4, 3, 5),)': 11, '((3, 4, 0, 0),)': 4, '((2, 1, 1, 4),)': 15, '((3, 2, 3, 7),)': 5, '((7, 6, 5, 3),)': 5, '((7, 4, 3, 2),)': 12, '((5, 0, 2, 7),)': 9, '((1, 2, 4, 2),)': 9, '((7, 5, 3, 4),)': 10, '((6, 1, 7, 3),)': 13, '((3, 1, 2, 6),)': 2, '((3, 6, 7, 6),)': 9, '((5, 4, 6, 0),)': 7, '((7, 7, 6, 4),)': 19, '((3, 4, 6, 4),)': 4, '((1, 6, 3, 4),)': 9, '((2, 4, 5, 6),)': 7, '((2, 7, 1, 4),)': 5, '((4, 5, 5, 3),)': 4, '((7, 4, 2, 1),)': 9, '((4, 5, 3, 3),)': 9, '((3, 4, 4, 0),)': 3, '((1, 0, 3, 4),)': 5, '((4, 4, 0, 6),)': 3, '((6, 4, 0, 2),)': 10, '((6, 1, 3, 4),)': 7, '((7, 3, 3, 7),)': 6, '((1, 5, 1, 2),)': 8, '((2, 5, 0, 7),)': 14, '((6, 5, 5, 3),)': 7, '((6, 7, 4, 3),)': 7, '((4, 0, 7, 2),)': 4, '((1, 3, 4, 7),)': 16, '((7, 3, 1, 3),)': 7, '((5, 1, 0, 2),)': 6, '((3, 7, 5, 5),)': 5, '((0, 0, 2, 5),)': 6, '((0, 4, 4, 1),)': 7, '((3, 2, 3, 6),)': 4, '((0, 2, 7, 7),)': 4, '((3, 4, 1, 2),)': 9, '((7, 3, 3, 4),)': 11, '((0, 0, 1, 2),)': 8, '((0, 4, 6, 4),)': 2, '((2, 4, 4, 7),)': 5, '((6, 5, 0, 5),)': 8, '((3, 0, 5, 5),)': 14, '((1, 2, 7, 5),)': 8, '((4, 2, 4, 7),)': 4, '((3, 6, 5, 6),)': 11, '((7, 4, 3, 7),)': 8, '((5, 1, 4, 6),)': 3, '((4, 5, 7, 4),)': 8, '((0, 3, 2, 5),)': 10, '((7, 3, 7, 3),)': 7, '((5, 3, 0, 4),)': 6, '((5, 3, 7, 5),)': 6, '((7, 4, 2, 4),)': 9, '((5, 3, 6, 4),)': 8, '((7, 5, 2, 3),)': 8, '((7, 0, 4, 5),)': 7, '((4, 5, 4, 0),)': 5, '((5, 2, 7, 6),)': 6, '((5, 3, 2, 1),)': 9, '((5, 7, 1, 6),)': 16, '((5, 1, 5, 5),)': 9, '((4, 7, 3, 4),)': 10, '((5, 2, 1, 6),)': 5, '((2, 6, 4, 3),)': 5, '((0, 3, 7, 1),)': 11, '((6, 5, 5, 0),)': 2, '((4, 0, 7, 3),)': 7, '((5, 2, 2, 3),)': 13, '((2, 3, 6, 7),)': 4, '((3, 7, 6, 1),)': 9, '((0, 2, 3, 1),)': 12, '((6, 4, 4, 7),)': 6, '((2, 6, 4, 2),)': 5, '((0, 1, 2, 4),)': 12, '((2, 5, 3, 7),)': 10, '((4, 4, 6, 3),)': 4, '((5, 2, 5, 4),)': 6, '((0, 2, 0, 6),)': 9, '((7, 2, 4, 5),)': 9, '((6, 0, 1, 5),)': 10, '((3, 2, 2, 6),)': 9, '((6, 4, 4, 4),)': 5, '((5, 0, 3, 2),)': 8, '((1, 0, 2, 7),)': 11, '((3, 0, 5, 7),)': 5, '((5, 4, 2, 4),)': 8, '((1, 5, 5, 1),)': 7, '((1, 1, 5, 4),)': 13, '((5, 1, 2, 7),)': 7, '((3, 0, 4, 5),)': 11, '((5, 6, 2, 0),)': 5, '((7, 5, 3, 3),)': 5, '((6, 3, 4, 3),)': 8, '((2, 3, 7, 5),)': 3, '((3, 0, 5, 4),)': 1, '((0, 5, 5, 7),)': 7, '((4, 5, 3, 4),)': 12, '((1, 2, 2, 6),)': 8, '((0, 3, 4, 4),)': 8, '((1, 3, 7, 5),)': 9, '((3, 5, 7, 6),)': 3, '((4, 2, 2, 7),)': 8, '((3, 7, 3, 0),)': 9, '((2, 5, 2, 6),)': 7, '((6, 5, 1, 3),)': 1, '((4, 5, 2, 6),)': 3, '((0, 4, 4, 0),)': 5, '((7, 5, 4, 5),)': 6, '((0, 5, 7, 5),)': 10, '((4, 0, 5, 4),)': 1, '((2, 1, 2, 7),)': 5, '((4, 7, 2, 6),)': 6, '((3, 1, 7, 2),)': 7, '((3, 0, 6, 7),)': 8, '((5, 2, 5, 6),)': 7, '((5, 4, 3, 2),)': 7, '((7, 1, 3, 3),)': 8, '((5, 5, 4, 3),)': 7, '((4, 2, 3, 0),)': 9, '((4, 6, 0, 5),)': 5, '((2, 7, 4, 7),)': 4, '((4, 4, 5, 1),)': 8, '((4, 7, 4, 6),)': 7, '((5, 4, 0, 7),)': 8, '((3, 2, 7, 4),)': 5, '((3, 1, 4, 5),)': 8, '((1, 1, 5, 3),)': 5, '((1, 3, 5, 3),)': 9, '((0, 7, 5, 2),)': 2, '((6, 2, 2, 1),)': 4, '((7, 3, 1, 0),)': 9, '((5, 2, 3, 6),)': 8, '((2, 6, 0, 3),)': 9, '((1, 4, 0, 3),)': 4, '((5, 2, 7, 3),)': 6, '((3, 0, 4, 2),)': 8, '((1, 7, 5, 5),)': 10, '((2, 0, 4, 1),)': 7, '((3, 6, 2, 0),)': 4, '((7, 1, 5, 4),)': 3, '((6, 4, 1, 4),)': 8, '((4, 4, 5, 7),)': 12, '((5, 5, 2, 3),)': 4, '((3, 3, 0, 7),)': 7, '((2, 3, 5, 6),)': 5, '((0, 0, 5, 2),)': 3, '((2, 2, 2, 6),)': 7, '((5, 5, 2, 4),)': 6, '((6, 2, 0, 3),)': 3, '((2, 6, 0, 5),)': 8, '((1, 0, 5, 1),)': 9, '((6, 7, 3, 5),)': 10, '((4, 7, 0, 3),)': 10, '((6, 5, 1, 2),)': 8, '((5, 6, 6, 3),)': 8, '((6, 4, 1, 5),)': 7, '((0, 6, 2, 5),)': 8, '((7, 2, 4, 0),)': 9, '((0, 7, 2, 4),)': 13, '((4, 5, 7, 5),)': 10, '((7, 2, 5, 4),)': 4, '((1, 0, 7, 3),)': 3, '((2, 0, 4, 0),)': 6, '((3, 7, 5, 2),)': 6, '((2, 3, 6, 0),)': 8, '((3, 5, 4, 4),)': 7, '((1, 1, 4, 5),)': 5, '((7, 1, 4, 5),)': 10, '((0, 4, 4, 3),)': 6, '((2, 5, 0, 5),)': 7, '((6, 3, 5, 5),)': 7, '((5, 6, 1, 2),)': 3, '((3, 6, 5, 4),)': 4, '((1, 4, 6, 2),)': 2, '((4, 6, 6, 6),)': 6, '((4, 2, 6, 7),)': 8, '((5, 4, 0, 6),)': 4, '((4, 1, 5, 0),)': 6, '((5, 1, 3, 2),)': 8, '((6, 5, 7, 3),)': 9, '((6, 7, 2, 4),)': 10, '((7, 4, 5, 0),)': 4, '((4, 4, 5, 4),)': 10, '((6, 0, 3, 0),)': 8, '((7, 1, 3, 5),)': 13, '((4, 6, 4, 3),)': 4, '((3, 7, 2, 5),)': 7, '((5, 5, 2, 5),)': 6, '((4, 0, 6, 0),)': 7, '((7, 1, 2, 4),)': 8, '((0, 5, 7, 3),)': 5, '((5, 6, 7, 4),)': 3, '((6, 3, 1, 3),)': 5, '((7, 5, 0, 2),)': 7, '((2, 6, 6, 5),)': 6, '((3, 2, 6, 6),)': 2, '((3, 4, 6, 3),)': 6, '((5, 1, 6, 4),)': 9, '((6, 4, 3, 5),)': 6, '((6, 7, 5, 5),)': 9, '((5, 6, 4, 2),)': 7, '((3, 1, 7, 5),)': 4, '((2, 7, 6, 2),)': 7, '((3, 7, 2, 7),)': 3, '((0, 2, 2, 1),)': 5, '((2, 3, 7, 7),)': 3, '((3, 6, 4, 7),)': 7, '((5, 5, 5, 4),)': 3, '((3, 6, 6, 6),)': 5, '((4, 5, 5, 4),)': 5, '((0, 0, 5, 3),)': 3, '((4, 4, 3, 1),)': 13, '((2, 6, 7, 1),)': 8, '((4, 0, 2, 1),)': 3, '((4, 7, 3, 3),)': 8, '((6, 0, 1, 2),)': 3, '((6, 5, 6, 2),)': 4, '((3, 6, 3, 2),)': 5, '((7, 0, 2, 1),)': 7, '((1, 5, 2, 4),)': 8, '((2, 3, 2, 6),)': 3, '((2, 7, 3, 7),)': 10, '((5, 1, 4, 1),)': 7, '((1, 4, 4, 7),)': 8, '((3, 1, 1, 2),)': 11, '((3, 4, 5, 4),)': 4, '((3, 6, 4, 4),)': 4, '((2, 7, 3, 5),)': 7, '((4, 3, 6, 2),)': 12, '((4, 1, 7, 6),)': 4, '((2, 2, 6, 6),)': 6, '((3, 2, 5, 1),)': 9, '((5, 1, 1, 3),)': 3, '((0, 2, 6, 1),)': 9, '((7, 3, 1, 6),)': 8, '((4, 4, 2, 4),)': 10, '((0, 3, 6, 2),)': 9, '((3, 4, 6, 6),)': 9, '((4, 6, 7, 5),)': 1, '((4, 3, 6, 4),)': 6, '((4, 3, 2, 0),)': 11, '((6, 3, 5, 3),)': 8, '((3, 3, 3, 7),)': 8, '((2, 0, 2, 1),)': 5, '((0, 3, 7, 2),)': 6, '((1, 7, 2, 1),)': 10, '((3, 4, 3, 7),)': 5, '((3, 0, 5, 3),)': 9, '((7, 3, 1, 5),)': 7, '((3, 2, 7, 6),)': 5, '((6, 0, 2, 0),)': 10, '((4, 4, 7, 5),)': 2, '((6, 5, 4, 0),)': 5, '((2, 3, 6, 5),)': 7, '((2, 6, 5, 5),)': 5, '((6, 0, 7, 4),)': 8, '((3, 4, 4, 6),)': 5, '((0, 1, 3, 3),)': 6, '((5, 5, 5, 1),)': 8, '((0, 6, 2, 4),)': 7, '((4, 0, 3, 3),)': 6, '((1, 4, 1, 2),)': 6, '((6, 4, 6, 6),)': 6, '((0, 5, 6, 4),)': 5, '((5, 7, 2, 7),)': 3, '((6, 5, 0, 4),)': 9, '((6, 3, 2, 5),)': 8, '((2, 7, 0, 4),)': 9, '((6, 0, 4, 2),)': 5, '((5, 5, 1, 3),)': 6, '((7, 5, 0, 3),)': 12, '((4, 7, 1, 7),)': 13, '((5, 4, 5, 5),)': 5, '((2, 5, 3, 5),)': 7, '((4, 4, 1, 5),)': 6, '((4, 2, 0, 7),)': 3, '((3, 2, 3, 4),)': 12, '((1, 4, 3, 5),)': 12, '((5, 0, 2, 1),)': 5, '((7, 2, 4, 4),)': 2, '((1, 5, 3, 7),)': 8, '((6, 5, 4, 5),)': 2, '((4, 7, 3, 6),)': 7, '((7, 6, 2, 4),)': 5, '((7, 7, 4, 4),)': 8, '((1, 5, 2, 6),)': 8, '((7, 0, 3, 2),)': 7, '((1, 3, 2, 6),)': 6, '((0, 4, 6, 2),)': 1, '((2, 5, 2, 2),)': 7, '((5, 7, 7, 5),)': 6, '((5, 5, 3, 3),)': 4, '((3, 1, 0, 3),)': 3, '((1, 0, 6, 3),)': 10, '((1, 6, 2, 2),)': 8, '((0, 3, 7, 7),)': 5, '((0, 4, 0, 4),)': 6, '((1, 4, 0, 5),)': 6, '((3, 0, 7, 3),)': 3, '((7, 7, 7, 2),)': 3, '((4, 2, 7, 4),)': 5, '((0, 2, 1, 5),)': 5, '((6, 1, 5, 3),)': 6, '((6, 0, 7, 3),)': 7, '((5, 5, 5, 5),)': 6, '((3, 6, 5, 7),)': 4, '((5, 2, 4, 2),)': 3, '((4, 6, 2, 5),)': 4, '((2, 3, 5, 4),)': 5, '((3, 4, 7, 6),)': 7, '((7, 6, 5, 4),)': 7, '((2, 0, 6, 4),)': 6, '((2, 2, 0, 7),)': 10, '((4, 6, 3, 4),)': 6, '((6, 2, 3, 5),)': 6, '((0, 3, 1, 3),)': 8, '((7, 2, 2, 3),)': 5, '((0, 1, 2, 3),)': 4, '((7, 6, 4, 2),)': 6, '((5, 6, 5, 6),)': 3, '((4, 3, 5, 6),)': 7, '((5, 6, 5, 7),)': 9, '((1, 7, 5, 3),)': 2, '((7, 0, 7, 4),)': 4, '((3, 4, 3, 3),)': 4, '((2, 6, 3, 3),)': 12, '((5, 0, 5, 2),)': 2, '((5, 0, 6, 6),)': 11, '((7, 4, 0, 3),)': 3, '((1, 5, 6, 3),)': 6, '((0, 4, 2, 7),)': 10, '((2, 2, 1, 0),)': 6, '((4, 4, 7, 7),)': 6, '((4, 6, 0, 4),)': 6, '((3, 4, 2, 6),)': 5, '((2, 0, 2, 0),)': 7, '((4, 5, 2, 3),)': 12, '((3, 3, 3, 4),)': 9, '((6, 7, 2, 2),)': 8, '((2, 6, 7, 3),)': 6, '((5, 1, 7, 5),)': 8, '((3, 6, 0, 6),)': 9, '((3, 3, 4, 5),)': 5, '((7, 5, 2, 6),)': 5, '((5, 7, 3, 5),)': 4, '((2, 6, 5, 4),)': 4, '((3, 7, 4, 7),)': 9, '((5, 0, 0, 2),)': 4, '((6, 0, 2, 3),)': 3, '((2, 0, 5, 6),)': 3, '((1, 0, 2, 3),)': 5, '((2, 1, 6, 0),)': 11, '((3, 0, 3, 7),)': 4, '((2, 4, 6, 4),)': 4, '((6, 0, 4, 0),)': 4, '((3, 4, 0, 4),)': 6, '((4, 3, 0, 2),)': 10, '((3, 7, 6, 0),)': 11, '((6, 5, 7, 5),)': 9, '((3, 6, 7, 7),)': 6, '((3, 6, 4, 6),)': 2, '((0, 6, 3, 2),)': 8, '((4, 6, 5, 7),)': 5, '((3, 0, 7, 5),)': 3, '((3, 5, 3, 6),)': 3, '((2, 7, 3, 1),)': 9, '((3, 5, 7, 4),)': 6, '((0, 4, 3, 0),)': 8, '((2, 7, 6, 3),)': 6, '((3, 3, 6, 1),)': 11, '((0, 3, 5, 2),)': 4, '((1, 4, 5, 3),)': 4, '((0, 2, 6, 4),)': 7, '((1, 2, 2, 3),)': 11, '((5, 2, 1, 0),)': 2, '((3, 6, 7, 4),)': 4, '((2, 2, 7, 7),)': 4, '((4, 6, 2, 6),)': 2, '((5, 5, 1, 7),)': 8, '((6, 3, 4, 5),)': 2, '((0, 4, 4, 4),)': 5, '((4, 7, 7, 4),)': 4, '((5, 1, 6, 3),)': 2, '((3, 4, 1, 5),)': 4, '((1, 6, 4, 4),)': 4, '((7, 3, 6, 0),)': 9, '((3, 3, 4, 3),)': 4, '((3, 2, 5, 6),)': 3, '((4, 6, 1, 3),)': 6, '((2, 4, 0, 1),)': 11, '((6, 5, 6, 0),)': 16, '((0, 5, 2, 3),)': 9, '((2, 7, 3, 3),)': 15, '((2, 1, 3, 4),)': 9, '((6, 1, 4, 0),)': 9, '((0, 2, 2, 0),)': 3, '((3, 3, 6, 4),)': 3, '((5, 2, 2, 2),)': 4, '((6, 5, 7, 2),)': 4, '((5, 3, 5, 6),)': 5, '((5, 1, 7, 4),)': 4, '((2, 5, 2, 0),)': 8, '((6, 2, 6, 2),)': 1, '((6, 3, 2, 1),)': 5, '((5, 4, 2, 3),)': 7, '((0, 4, 5, 1),)': 6, '((6, 4, 1, 3),)': 6, '((3, 6, 7, 5),)': 2, '((4, 4, 0, 5),)': 11, '((0, 3, 6, 3),)': 4, '((6, 5, 3, 5),)': 4, '((7, 3, 7, 2),)': 5, '((7, 3, 0, 4),)': 8, '((6, 2, 5, 4),)': 5, '((2, 5, 7, 1),)': 3, '((6, 3, 0, 6),)': 13, '((7, 0, 5, 2),)': 7, '((7, 2, 2, 7),)': 2, '((2, 0, 5, 3),)': 2, '((4, 2, 7, 7),)': 7, '((6, 4, 4, 3),)': 1, '((0, 4, 5, 4),)': 2, '((3, 6, 3, 0),)': 8, '((1, 4, 1, 4),)': 4, '((6, 2, 3, 1),)': 4, '((6, 4, 2, 1),)': 9, '((6, 4, 2, 5),)': 2, '((7, 0, 5, 3),)': 7, '((6, 0, 3, 1),)': 8, '((4, 1, 5, 5),)': 3, '((3, 5, 5, 7),)': 3, '((3, 1, 2, 5),)': 8, '((5, 3, 3, 5),)': 4, '((6, 0, 2, 5),)': 3, '((3, 0, 6, 0),)': 9, '((4, 4, 6, 6),)': 4, '((2, 4, 4, 1),)': 12, '((1, 6, 5, 4),)': 6, '((6, 4, 6, 3),)': 4, '((3, 4, 5, 2),)': 5, '((2, 2, 0, 1),)': 6, '((4, 6, 6, 4),)': 4, '((0, 3, 0, 2),)': 3, '((7, 0, 7, 5),)': 6, '((3, 4, 2, 7),)': 4, '((2, 0, 7, 3),)': 4, '((1, 6, 7, 4),)': 6, '((1, 0, 5, 5),)': 3, '((3, 0, 5, 0),)': 4, '((5, 5, 4, 5),)': 2, '((5, 1, 0, 3),)': 2, '((3, 2, 5, 5),)': 5, '((6, 2, 7, 4),)': 1, '((5, 1, 3, 5),)': 9, '((0, 2, 7, 5),)': 3, '((5, 6, 2, 7),)': 6, '((4, 7, 6, 5),)': 4, '((4, 4, 1, 4),)': 2, '((5, 0, 1, 2),)': 4, '((4, 5, 5, 1),)': 4, '((2, 4, 2, 6),)': 5, '((2, 2, 1, 2),)': 8, '((2, 7, 2, 3),)': 5, '((2, 6, 7, 6),)': 5, '((7, 2, 0, 1),)': 6, '((5, 6, 0, 4),)': 2, '((5, 4, 7, 0),)': 4, '((3, 3, 4, 1),)': 5, '((0, 5, 4, 7),)': 8, '((7, 5, 2, 0),)': 6, '((3, 5, 3, 4),)': 3, '((0, 2, 4, 6),)': 6, '((6, 7, 6, 2),)': 8, '((7, 4, 6, 3),)': 7, '((2, 0, 4, 2),)': 8, '((0, 6, 4, 3),)': 3, '((5, 7, 7, 2),)': 5, '((5, 0, 2, 0),)': 3, '((0, 4, 2, 1),)': 3, '((7, 0, 4, 2),)': 4, '((4, 2, 5, 6),)': 6, '((5, 4, 1, 0),)': 2, '((6, 6, 4, 4),)': 1, '((7, 0, 3, 5),)': 3, '((3, 6, 1, 2),)': 1, '((0, 3, 0, 5),)': 4, '((1, 0, 4, 2),)': 5, '((4, 6, 5, 6),)': 3, '((3, 4, 4, 5),)': 2, '((0, 2, 5, 3),)': 2, '((4, 2, 7, 2),)': 2, '((4, 5, 7, 2),)': 5, '((2, 3, 5, 5),)': 4, '((5, 3, 5, 7),)': 4, '((4, 2, 6, 6),)': 3, '((3, 5, 5, 3),)': 8, '((3, 7, 6, 5),)': 3, '((7, 3, 5, 4),)': 4, '((6, 2, 6, 3),)': 1, '((3, 4, 6, 5),)': 4, '((4, 3, 1, 4),)': 2, '((5, 6, 7, 2),)': 1, '((4, 0, 2, 0),)': 5, '((5, 6, 7, 5),)': 1, '((5, 4, 4, 6),)': 2, '((6, 3, 6, 2),)': 1, '((6, 2, 2, 7),)': 4, '((4, 0, 1, 3),)': 1, '((5, 3, 5, 4),)': 1, '((0, 5, 3, 5),)': 1, '((3, 2, 7, 1),)': 1}\n"
     ]
    }
   ],
   "source": [
    "import torch\n",
    "from gfn.samplers import Sampler\n",
    "from collections import Counter\n",
    "from gfn.states import States\n",
    "\n",
    "# to compute the sampling probability wit monte_carlo\n",
    "def count_occurrences_with_monte_carlo(env, sampler, n_samples=10000):\n",
    "    \"\"\"\n",
    "    Computes the sampling probability of a given terminal state using Monte Carlo.\n",
    "\n",
    "    Args:\n",
    "        env: The environment instance.\n",
    "        sampler: An initialized Sampler using the forward policy estimator.\n",
    "        terminal_state: The terminal state whose probability we want to compute (as a tensor).\n",
    "        n_samples: The number of trajectories to sample.\n",
    "\n",
    "    Returns:\n",
    "        occurrences: occurrences dict of each state.tensor\n",
    "    \"\"\"\n",
    "    # Sample trajectories\n",
    "    trajectories = sampler.sample_trajectories(env=env, n=n_samples)\n",
    "    # Extract terminal states\n",
    "    terminal_states = [traj.states[-2] for traj in trajectories]\n",
    "    occurrences = TensorDict(int)\n",
    "    for state in tqdm(terminal_states, desc=\"Processing terminal_states\"):\n",
    "        occurrences[state.tensor]+=1 \n",
    "    return occurrences\n",
    "def compute_log_prob_with_monte_carlo(occurrences, terminal_state, n_samples: int) -> float:\n",
    "    # Calculate the probability\n",
    "    if isinstance(terminal_state, States):\n",
    "        terminal_state = terminal_state.tensor\n",
    "    return torch.log(torch.tensor(occurrences[terminal_state] / n_samples, requires_grad=False))\n",
    "\n",
    "# Define the terminal state (replace with the actual state representation)\n",
    "terminal_state = torch.tensor([[6, 1, 1, 6]])\n",
    "# Compute the sampling probability\n",
    "n_samples = 50 * env.n_states\n",
    "occurrences = count_occurrences_with_monte_carlo(env, sampler, n_samples=n_samples)\n",
    "print(occurrences)"
   ]
  },
  {
   "cell_type": "code",
   "execution_count": 44,
   "metadata": {},
   "outputs": [
    {
     "name": "stdout",
     "output_type": "stream",
     "text": [
      "Log_prob of the terminal state via Monte Carlo [[6, 1, 1, 6]]: -4.579144477844238\n",
      "Log_prob of the terminal state via GFNEvalS [[6, 1, 1, 6]]: tensor([-4.1811], grad_fn=<LogsumexpBackward0>)\n"
     ]
    }
   ],
   "source": [
    "terminal_state = torch.tensor([[6, 1, 1, 6]])\n",
    "log_prob = compute_log_prob_with_monte_carlo(occurrences, terminal_state, n_samples)\n",
    "print(f\"Log_prob of the terminal state via Monte Carlo {terminal_state.tolist()}: {log_prob}\")\n",
    "print(f\"Log_prob of the terminal state via GFNEvalS {terminal_state.tolist()}: {memo[terminal_state]}\")"
   ]
  },
  {
   "cell_type": "code",
   "execution_count": 45,
   "metadata": {},
   "outputs": [
    {
     "name": "stderr",
     "output_type": "stream",
     "text": [
      "Processing trajectories: 100%|██████████| 100/100 [00:00<00:00, 5543.55it/s]"
     ]
    },
    {
     "name": "stdout",
     "output_type": "stream",
     "text": [
      "Spearman's Rank Correlation (Monte Carlo): 0.8708692841325587\n"
     ]
    },
    {
     "name": "stderr",
     "output_type": "stream",
     "text": [
      "\n"
     ]
    }
   ],
   "source": [
    "log_probs_monte_carlo = []\n",
    "log_rewards_monte_carlo = []\n",
    "for traj in tqdm(test_trajectories, desc=\"Processing trajectories\"):\n",
    "    terminal_state = traj.states[-2]\n",
    "    reward = env.reward(terminal_state)\n",
    "    log_reward = torch.log(reward)\n",
    "    log_prob=compute_log_prob_with_monte_carlo(occurrences, terminal_state, n_samples)\n",
    "    log_probs_monte_carlo.append(log_prob.detach().numpy())\n",
    "    log_rewards_monte_carlo.append(log_reward.detach().numpy())\n",
    "# Compute Spearman's Rank Correlation\n",
    "spearman_corr_monte_carlo, _ = spearmanr(log_probs_monte_carlo, log_rewards_monte_carlo)\n",
    "print(f\"Spearman's Rank Correlation (Monte Carlo): {spearman_corr_monte_carlo}\")"
   ]
  }
 ],
 "metadata": {
  "accelerator": "GPU",
  "colab": {
   "gpuType": "T4",
   "provenance": []
  },
  "kernelspec": {
   "display_name": "gfn",
   "language": "python",
   "name": "python3"
  },
  "language_info": {
   "codemirror_mode": {
    "name": "ipython",
    "version": 3
   },
   "file_extension": ".py",
   "mimetype": "text/x-python",
   "name": "python",
   "nbconvert_exporter": "python",
   "pygments_lexer": "ipython3",
   "version": "3.10.15"
  }
 },
 "nbformat": 4,
 "nbformat_minor": 0
}
